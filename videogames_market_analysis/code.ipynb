{
 "cells": [
  {
   "cell_type": "markdown",
   "metadata": {},
   "source": [
    "# Data Mining Project 3: Analysis of the global video games market"
   ]
  },
  {
   "cell_type": "markdown",
   "metadata": {},
   "source": [
    "## Introduction"
   ]
  },
  {
   "cell_type": "markdown",
   "metadata": {},
   "source": [
    "With the release of the first video game in early 1970s, a ping pong game by Arcade, the video game industry has grown considerably. According to a [report](https://www.zionmarketresearch.com/report/cloud-gaming-market) from the Zion Market Research, the global gaming market was valued at 802 USD million in 2017 and is expected to grow for the following years. \n",
    "\n",
    "This project explores the growth of the global gaming industry. This sector has become extremely dynamic and complex. Therefore, it is relevant for publishers and developers of video games to understand the major changes in the gaming industry over the last decades and can we expect for the upcoming years.\n",
    "\n",
    "To answer these questions, this project explores the following topics:\n",
    "\n",
    "* Most popular video games by genre\n",
    "* Most popular video games by region\n",
    "* Most popular consoles\n",
    "\n",
    "\n",
    "---\n",
    "**Github and Zenodo**\n",
    "\n",
    "The project can be found in [GitHub account](https://github.com/svaldess/DATS6103-Project3) and as a [GitHub Page](https://svaldess.github.io)\n",
    "\n",
    "It can also be ofund in [Zenodo](https://zenodo.org/record/3571479#.XfGjEOhKhPY)\n",
    "\n",
    "---"
   ]
  },
  {
   "cell_type": "markdown",
   "metadata": {},
   "source": [
    "## About the source and the dataset"
   ]
  },
  {
   "cell_type": "markdown",
   "metadata": {},
   "source": [
    "The data of this project was extracted from [VGCchartz](http://www.vgchartz.com/gamedb/), a video game sales tracking website. It has information about the consoles, developers, scores, sales, genre, and the year when the video games were released. VGChartz has a vast information of video games since the 1970s. \n",
    "\n",
    "The information was scrapped from VGChartz website and `BeutifulSoup` was used for parsing the page. The code used for extracting the information is presented in a separate Jupyter Notebook, called **Project3_WebScrapper**. After the information was successfully extracted, it was stored in a csv file, called \"vgames.csv\", that was used for reading and manipulating the data."
   ]
  },
  {
   "cell_type": "markdown",
   "metadata": {},
   "source": [
    "## Explore and clean dataframe"
   ]
  },
  {
   "cell_type": "code",
   "execution_count": 1,
   "metadata": {},
   "outputs": [],
   "source": [
    "#import all required libraries\n",
    "import warnings\n",
    "warnings.filterwarnings('ignore')\n",
    "import numpy as np\n",
    "import pandas as pd\n",
    "import plotly\n",
    "import plotly.express as px\n",
    "import plotly.graph_objects as go\n",
    "from plotly.subplots import make_subplots"
   ]
  },
  {
   "cell_type": "code",
   "execution_count": 2,
   "metadata": {},
   "outputs": [],
   "source": [
    "#in case chart_studio is not installed, please install it with the following code:\n",
    "#pip install chart_studio"
   ]
  },
  {
   "cell_type": "code",
   "execution_count": 2,
   "metadata": {},
   "outputs": [],
   "source": [
    "#Connect to my chart_studio account\n",
    "import chart_studio.plotly as py\n",
    "py.sign_in('svaldes.salas', 'owvxCCaHjEJC81iQ5p8B')"
   ]
  },
  {
   "cell_type": "code",
   "execution_count": 4,
   "metadata": {},
   "outputs": [],
   "source": [
    "# Create directory for saving images\n",
    "import os\n",
    "if not os.path.exists(\"images\"):\n",
    "    os.mkdir(\"images\")"
   ]
  },
  {
   "cell_type": "code",
   "execution_count": 5,
   "metadata": {},
   "outputs": [],
   "source": [
    "#store the csv file 'vgames.csv' into dataframe games\n",
    "games = pd.read_csv(\"vgames.csv\")"
   ]
  },
  {
   "cell_type": "markdown",
   "metadata": {},
   "source": [
    "The csv file was succesfully converted into a data frame. Let's take a look at the first rows."
   ]
  },
  {
   "cell_type": "code",
   "execution_count": 6,
   "metadata": {},
   "outputs": [
    {
     "data": {
      "text/html": [
       "<div>\n",
       "<style scoped>\n",
       "    .dataframe tbody tr th:only-of-type {\n",
       "        vertical-align: middle;\n",
       "    }\n",
       "\n",
       "    .dataframe tbody tr th {\n",
       "        vertical-align: top;\n",
       "    }\n",
       "\n",
       "    .dataframe thead th {\n",
       "        text-align: right;\n",
       "    }\n",
       "</style>\n",
       "<table border=\"1\" class=\"dataframe\">\n",
       "  <thead>\n",
       "    <tr style=\"text-align: right;\">\n",
       "      <th></th>\n",
       "      <th>Unnamed: 0</th>\n",
       "      <th>Genre</th>\n",
       "      <th>Name</th>\n",
       "      <th>Console</th>\n",
       "      <th>Publisher</th>\n",
       "      <th>Developer</th>\n",
       "      <th>Critic_score</th>\n",
       "      <th>User_score</th>\n",
       "      <th>Total_sales</th>\n",
       "      <th>America_sales</th>\n",
       "      <th>PAL_sales</th>\n",
       "      <th>Japan_sales</th>\n",
       "      <th>Other_sales</th>\n",
       "      <th>Release_date</th>\n",
       "      <th>Update_date</th>\n",
       "    </tr>\n",
       "  </thead>\n",
       "  <tbody>\n",
       "    <tr>\n",
       "      <th>0</th>\n",
       "      <td>0</td>\n",
       "      <td>Action</td>\n",
       "      <td>Final Fight</td>\n",
       "      <td>SNES</td>\n",
       "      <td>Capcom</td>\n",
       "      <td>Capcom</td>\n",
       "      <td>10.0</td>\n",
       "      <td>NaN</td>\n",
       "      <td>1.56m</td>\n",
       "      <td>0.67m</td>\n",
       "      <td>0.17m</td>\n",
       "      <td>0.69m</td>\n",
       "      <td>0.03m</td>\n",
       "      <td>10th Nov 91</td>\n",
       "      <td>NaN</td>\n",
       "    </tr>\n",
       "    <tr>\n",
       "      <th>1</th>\n",
       "      <td>1</td>\n",
       "      <td>Action</td>\n",
       "      <td>Red Dead Redemption: Undead Nightmare</td>\n",
       "      <td>PS3</td>\n",
       "      <td>Rockstar Games</td>\n",
       "      <td>Rockstar San Diego</td>\n",
       "      <td>10.0</td>\n",
       "      <td>NaN</td>\n",
       "      <td>1.18m</td>\n",
       "      <td>0.47m</td>\n",
       "      <td>0.45m</td>\n",
       "      <td>0.06m</td>\n",
       "      <td>0.19m</td>\n",
       "      <td>23rd Nov 10</td>\n",
       "      <td>NaN</td>\n",
       "    </tr>\n",
       "    <tr>\n",
       "      <th>2</th>\n",
       "      <td>2</td>\n",
       "      <td>Action</td>\n",
       "      <td>Red Dead Redemption: Undead Nightmare</td>\n",
       "      <td>X360</td>\n",
       "      <td>Rockstar Games</td>\n",
       "      <td>Rockstar San Diego</td>\n",
       "      <td>10.0</td>\n",
       "      <td>NaN</td>\n",
       "      <td>1.11m</td>\n",
       "      <td>0.61m</td>\n",
       "      <td>0.38m</td>\n",
       "      <td>0.02m</td>\n",
       "      <td>0.10m</td>\n",
       "      <td>23rd Nov 10</td>\n",
       "      <td>NaN</td>\n",
       "    </tr>\n",
       "    <tr>\n",
       "      <th>3</th>\n",
       "      <td>3</td>\n",
       "      <td>Action</td>\n",
       "      <td>Grand Theft Auto IV</td>\n",
       "      <td>PS3</td>\n",
       "      <td>Rockstar Games</td>\n",
       "      <td>Rockstar North</td>\n",
       "      <td>10.0</td>\n",
       "      <td>9.0</td>\n",
       "      <td>10.57m</td>\n",
       "      <td>4.79m</td>\n",
       "      <td>3.73m</td>\n",
       "      <td>0.44m</td>\n",
       "      <td>1.62m</td>\n",
       "      <td>29th Apr 08</td>\n",
       "      <td>NaN</td>\n",
       "    </tr>\n",
       "    <tr>\n",
       "      <th>4</th>\n",
       "      <td>4</td>\n",
       "      <td>Action</td>\n",
       "      <td>Grand Theft Auto IV</td>\n",
       "      <td>X360</td>\n",
       "      <td>Rockstar Games</td>\n",
       "      <td>Rockstar North</td>\n",
       "      <td>10.0</td>\n",
       "      <td>NaN</td>\n",
       "      <td>11.09m</td>\n",
       "      <td>6.80m</td>\n",
       "      <td>3.11m</td>\n",
       "      <td>0.14m</td>\n",
       "      <td>1.04m</td>\n",
       "      <td>29th Apr 08</td>\n",
       "      <td>NaN</td>\n",
       "    </tr>\n",
       "  </tbody>\n",
       "</table>\n",
       "</div>"
      ],
      "text/plain": [
       "   Unnamed: 0   Genre                                   Name Console  \\\n",
       "0           0  Action                            Final Fight    SNES   \n",
       "1           1  Action  Red Dead Redemption: Undead Nightmare     PS3   \n",
       "2           2  Action  Red Dead Redemption: Undead Nightmare    X360   \n",
       "3           3  Action                    Grand Theft Auto IV     PS3   \n",
       "4           4  Action                    Grand Theft Auto IV    X360   \n",
       "\n",
       "        Publisher           Developer  Critic_score  User_score Total_sales  \\\n",
       "0          Capcom              Capcom          10.0         NaN       1.56m   \n",
       "1  Rockstar Games  Rockstar San Diego          10.0         NaN       1.18m   \n",
       "2  Rockstar Games  Rockstar San Diego          10.0         NaN       1.11m   \n",
       "3  Rockstar Games      Rockstar North          10.0         9.0      10.57m   \n",
       "4  Rockstar Games      Rockstar North          10.0         NaN      11.09m   \n",
       "\n",
       "  America_sales PAL_sales Japan_sales Other_sales Release_date Update_date  \n",
       "0         0.67m     0.17m       0.69m       0.03m  10th Nov 91         NaN  \n",
       "1         0.47m     0.45m       0.06m       0.19m  23rd Nov 10         NaN  \n",
       "2         0.61m     0.38m       0.02m       0.10m  23rd Nov 10         NaN  \n",
       "3         4.79m     3.73m       0.44m       1.62m  29th Apr 08         NaN  \n",
       "4         6.80m     3.11m       0.14m       1.04m  29th Apr 08         NaN  "
      ]
     },
     "execution_count": 6,
     "metadata": {},
     "output_type": "execute_result"
    }
   ],
   "source": [
    "games[:5]"
   ]
  },
  {
   "cell_type": "code",
   "execution_count": 7,
   "metadata": {},
   "outputs": [
    {
     "data": {
      "text/plain": [
       "Unnamed: 0         int64\n",
       "Genre             object\n",
       "Name              object\n",
       "Console           object\n",
       "Publisher         object\n",
       "Developer         object\n",
       "Critic_score     float64\n",
       "User_score       float64\n",
       "Total_sales       object\n",
       "America_sales     object\n",
       "PAL_sales         object\n",
       "Japan_sales       object\n",
       "Other_sales       object\n",
       "Release_date      object\n",
       "Update_date       object\n",
       "dtype: object"
      ]
     },
     "execution_count": 7,
     "metadata": {},
     "output_type": "execute_result"
    }
   ],
   "source": [
    "#Check types of data in each column\n",
    "games.dtypes"
   ]
  },
  {
   "cell_type": "code",
   "execution_count": 8,
   "metadata": {},
   "outputs": [
    {
     "data": {
      "text/plain": [
       "(56897, 15)"
      ]
     },
     "execution_count": 8,
     "metadata": {},
     "output_type": "execute_result"
    }
   ],
   "source": [
    "#The dataframe has 15 columns and more than 50k rows\n",
    "games.shape"
   ]
  },
  {
   "cell_type": "markdown",
   "metadata": {},
   "source": [
    "**Drop unnecessary columns.**"
   ]
  },
  {
   "cell_type": "code",
   "execution_count": 9,
   "metadata": {
    "scrolled": false
   },
   "outputs": [
    {
     "data": {
      "text/html": [
       "<div>\n",
       "<style scoped>\n",
       "    .dataframe tbody tr th:only-of-type {\n",
       "        vertical-align: middle;\n",
       "    }\n",
       "\n",
       "    .dataframe tbody tr th {\n",
       "        vertical-align: top;\n",
       "    }\n",
       "\n",
       "    .dataframe thead th {\n",
       "        text-align: right;\n",
       "    }\n",
       "</style>\n",
       "<table border=\"1\" class=\"dataframe\">\n",
       "  <thead>\n",
       "    <tr style=\"text-align: right;\">\n",
       "      <th></th>\n",
       "      <th>Genre</th>\n",
       "      <th>Name</th>\n",
       "      <th>Console</th>\n",
       "      <th>Publisher</th>\n",
       "      <th>Developer</th>\n",
       "      <th>Critic_score</th>\n",
       "      <th>User_score</th>\n",
       "      <th>Total_sales</th>\n",
       "      <th>America_sales</th>\n",
       "      <th>PAL_sales</th>\n",
       "      <th>Japan_sales</th>\n",
       "      <th>Other_sales</th>\n",
       "      <th>Release_date</th>\n",
       "      <th>Update_date</th>\n",
       "    </tr>\n",
       "  </thead>\n",
       "  <tbody>\n",
       "    <tr>\n",
       "      <th>0</th>\n",
       "      <td>Action</td>\n",
       "      <td>Final Fight</td>\n",
       "      <td>SNES</td>\n",
       "      <td>Capcom</td>\n",
       "      <td>Capcom</td>\n",
       "      <td>10.0</td>\n",
       "      <td>NaN</td>\n",
       "      <td>1.56m</td>\n",
       "      <td>0.67m</td>\n",
       "      <td>0.17m</td>\n",
       "      <td>0.69m</td>\n",
       "      <td>0.03m</td>\n",
       "      <td>10th Nov 91</td>\n",
       "      <td>NaN</td>\n",
       "    </tr>\n",
       "    <tr>\n",
       "      <th>1</th>\n",
       "      <td>Action</td>\n",
       "      <td>Red Dead Redemption: Undead Nightmare</td>\n",
       "      <td>PS3</td>\n",
       "      <td>Rockstar Games</td>\n",
       "      <td>Rockstar San Diego</td>\n",
       "      <td>10.0</td>\n",
       "      <td>NaN</td>\n",
       "      <td>1.18m</td>\n",
       "      <td>0.47m</td>\n",
       "      <td>0.45m</td>\n",
       "      <td>0.06m</td>\n",
       "      <td>0.19m</td>\n",
       "      <td>23rd Nov 10</td>\n",
       "      <td>NaN</td>\n",
       "    </tr>\n",
       "    <tr>\n",
       "      <th>2</th>\n",
       "      <td>Action</td>\n",
       "      <td>Red Dead Redemption: Undead Nightmare</td>\n",
       "      <td>X360</td>\n",
       "      <td>Rockstar Games</td>\n",
       "      <td>Rockstar San Diego</td>\n",
       "      <td>10.0</td>\n",
       "      <td>NaN</td>\n",
       "      <td>1.11m</td>\n",
       "      <td>0.61m</td>\n",
       "      <td>0.38m</td>\n",
       "      <td>0.02m</td>\n",
       "      <td>0.10m</td>\n",
       "      <td>23rd Nov 10</td>\n",
       "      <td>NaN</td>\n",
       "    </tr>\n",
       "    <tr>\n",
       "      <th>3</th>\n",
       "      <td>Action</td>\n",
       "      <td>Grand Theft Auto IV</td>\n",
       "      <td>PS3</td>\n",
       "      <td>Rockstar Games</td>\n",
       "      <td>Rockstar North</td>\n",
       "      <td>10.0</td>\n",
       "      <td>9.0</td>\n",
       "      <td>10.57m</td>\n",
       "      <td>4.79m</td>\n",
       "      <td>3.73m</td>\n",
       "      <td>0.44m</td>\n",
       "      <td>1.62m</td>\n",
       "      <td>29th Apr 08</td>\n",
       "      <td>NaN</td>\n",
       "    </tr>\n",
       "    <tr>\n",
       "      <th>4</th>\n",
       "      <td>Action</td>\n",
       "      <td>Grand Theft Auto IV</td>\n",
       "      <td>X360</td>\n",
       "      <td>Rockstar Games</td>\n",
       "      <td>Rockstar North</td>\n",
       "      <td>10.0</td>\n",
       "      <td>NaN</td>\n",
       "      <td>11.09m</td>\n",
       "      <td>6.80m</td>\n",
       "      <td>3.11m</td>\n",
       "      <td>0.14m</td>\n",
       "      <td>1.04m</td>\n",
       "      <td>29th Apr 08</td>\n",
       "      <td>NaN</td>\n",
       "    </tr>\n",
       "  </tbody>\n",
       "</table>\n",
       "</div>"
      ],
      "text/plain": [
       "    Genre                                   Name Console       Publisher  \\\n",
       "0  Action                            Final Fight    SNES          Capcom   \n",
       "1  Action  Red Dead Redemption: Undead Nightmare     PS3  Rockstar Games   \n",
       "2  Action  Red Dead Redemption: Undead Nightmare    X360  Rockstar Games   \n",
       "3  Action                    Grand Theft Auto IV     PS3  Rockstar Games   \n",
       "4  Action                    Grand Theft Auto IV    X360  Rockstar Games   \n",
       "\n",
       "            Developer  Critic_score  User_score Total_sales America_sales  \\\n",
       "0              Capcom          10.0         NaN       1.56m         0.67m   \n",
       "1  Rockstar San Diego          10.0         NaN       1.18m         0.47m   \n",
       "2  Rockstar San Diego          10.0         NaN       1.11m         0.61m   \n",
       "3      Rockstar North          10.0         9.0      10.57m         4.79m   \n",
       "4      Rockstar North          10.0         NaN      11.09m         6.80m   \n",
       "\n",
       "  PAL_sales Japan_sales Other_sales Release_date Update_date  \n",
       "0     0.17m       0.69m       0.03m  10th Nov 91         NaN  \n",
       "1     0.45m       0.06m       0.19m  23rd Nov 10         NaN  \n",
       "2     0.38m       0.02m       0.10m  23rd Nov 10         NaN  \n",
       "3     3.73m       0.44m       1.62m  29th Apr 08         NaN  \n",
       "4     3.11m       0.14m       1.04m  29th Apr 08         NaN  "
      ]
     },
     "execution_count": 9,
     "metadata": {},
     "output_type": "execute_result"
    }
   ],
   "source": [
    "#drop first column 'unnamed' and column 'num'\n",
    "games = games.drop(games.columns[0], axis=1)\n",
    "games.head()"
   ]
  },
  {
   "cell_type": "markdown",
   "metadata": {},
   "source": [
    "**Check information about release date and update date.**\n",
    "\n",
    "By exploring _Release_date_ and _Update_date_ columns we can see that there are some missing data, especially in the update column."
   ]
  },
  {
   "cell_type": "code",
   "execution_count": 10,
   "metadata": {},
   "outputs": [
    {
     "name": "stdout",
     "output_type": "stream",
     "text": [
      "2955\n",
      "46216\n"
     ]
    }
   ],
   "source": [
    "#There are more missing values in Update_date column\n",
    "print(games.Release_date.isna().sum())\n",
    "print(games.Update_date.isna().sum())"
   ]
  },
  {
   "cell_type": "markdown",
   "metadata": {},
   "source": [
    "Let's create a third column using, primarily, values from _Release_date_. In case the values are zero value, let's use the value from _Update_date_. This will be used in order to reduce the sparse data associated with date."
   ]
  },
  {
   "cell_type": "code",
   "execution_count": 11,
   "metadata": {},
   "outputs": [],
   "source": [
    "#Create a function to fetch data from 2 columns and create a 3rd column\n",
    "def converter(primcol, secol):\n",
    "    #Turn NAN's into 0 in primary column\n",
    "    games[primcol] = games[primcol].fillna(0)\n",
    "    #Create objects\n",
    "    primary = games[primcol]\n",
    "    secondary = games[secol].fillna(0)\n",
    "    #Create third column\n",
    "    third = np.where(games[primcol]!=0, primary, secondary)\n",
    "    return third"
   ]
  },
  {
   "cell_type": "code",
   "execution_count": 13,
   "metadata": {},
   "outputs": [
    {
     "data": {
      "text/plain": [
       "nan"
      ]
     },
     "execution_count": 13,
     "metadata": {},
     "output_type": "execute_result"
    }
   ],
   "source": [
    "#Before converting, 'Release_date' from row 56882 is equal to NAN\n",
    "games.loc[56882,'Release_date']"
   ]
  },
  {
   "cell_type": "code",
   "execution_count": 14,
   "metadata": {},
   "outputs": [],
   "source": [
    "alldate = converter(primcol='Release_date',secol='Update_date')\n",
    "games = games.drop(['Release_date','Update_date'],axis=1)"
   ]
  },
  {
   "cell_type": "code",
   "execution_count": 15,
   "metadata": {},
   "outputs": [
    {
     "data": {
      "text/plain": [
       "'01st Mar 19'"
      ]
     },
     "execution_count": 15,
     "metadata": {},
     "output_type": "execute_result"
    }
   ],
   "source": [
    "#After converting, 'Date' from row 56882 is different from zero (corresponds to the value from Update_date column)\n",
    "games['Date'] = alldate\n",
    "games.loc[56882,'Date']"
   ]
  },
  {
   "cell_type": "code",
   "execution_count": 16,
   "metadata": {},
   "outputs": [
    {
     "name": "stdout",
     "output_type": "stream",
     "text": [
      "1282\n"
     ]
    }
   ],
   "source": [
    "#1,282 values from Update_date were use to filled the zero values in Date column\n",
    "count=0\n",
    "for row in games.Date:\n",
    "    if row ==0:\n",
    "        count+=1\n",
    "print(2955-count)"
   ]
  },
  {
   "cell_type": "code",
   "execution_count": 17,
   "metadata": {},
   "outputs": [
    {
     "data": {
      "text/html": [
       "<div>\n",
       "<style scoped>\n",
       "    .dataframe tbody tr th:only-of-type {\n",
       "        vertical-align: middle;\n",
       "    }\n",
       "\n",
       "    .dataframe tbody tr th {\n",
       "        vertical-align: top;\n",
       "    }\n",
       "\n",
       "    .dataframe thead th {\n",
       "        text-align: right;\n",
       "    }\n",
       "</style>\n",
       "<table border=\"1\" class=\"dataframe\">\n",
       "  <thead>\n",
       "    <tr style=\"text-align: right;\">\n",
       "      <th></th>\n",
       "      <th>Date</th>\n",
       "    </tr>\n",
       "  </thead>\n",
       "  <tbody>\n",
       "    <tr>\n",
       "      <th>0</th>\n",
       "      <td>10th Nov 91</td>\n",
       "    </tr>\n",
       "    <tr>\n",
       "      <th>1</th>\n",
       "      <td>23rd Nov 10</td>\n",
       "    </tr>\n",
       "    <tr>\n",
       "      <th>2</th>\n",
       "      <td>23rd Nov 10</td>\n",
       "    </tr>\n",
       "  </tbody>\n",
       "</table>\n",
       "</div>"
      ],
      "text/plain": [
       "          Date\n",
       "0  10th Nov 91\n",
       "1  23rd Nov 10\n",
       "2  23rd Nov 10"
      ]
     },
     "execution_count": 17,
     "metadata": {},
     "output_type": "execute_result"
    }
   ],
   "source": [
    "games[:3][['Date']]"
   ]
  },
  {
   "cell_type": "markdown",
   "metadata": {},
   "source": [
    "Now, let's extract information from column \"Date\" and create three columns about 'day', 'month', and 'year'. "
   ]
  },
  {
   "cell_type": "code",
   "execution_count": 18,
   "metadata": {},
   "outputs": [],
   "source": [
    "#Create a function for extracting information from column 'Release_date'\n",
    "def fetch_date(string, date):\n",
    "    if date=='month':\n",
    "        try:\n",
    "            month = string.split(sep=\" \")[1].strip()\n",
    "            return month\n",
    "        except: \n",
    "            return 'NaN'\n",
    "    else:\n",
    "        try:\n",
    "            day = string.split(sep=\" \")[0][:2]\n",
    "            return day\n",
    "        except:\n",
    "            return 'NaN'"
   ]
  },
  {
   "cell_type": "code",
   "execution_count": 19,
   "metadata": {
    "scrolled": true
   },
   "outputs": [],
   "source": [
    "#Extract information abput month and create a column called 'month' \n",
    "games['month'] = games['Date'].apply(lambda x: fetch_date(x, date='month'))\n",
    "\n",
    "#We can also extract the day of the date\n",
    "games['day'] = games['Date'].apply(lambda x: fetch_date(x, date='day'))"
   ]
  },
  {
   "cell_type": "code",
   "execution_count": 20,
   "metadata": {},
   "outputs": [],
   "source": [
    "#convert Date into datetime\n",
    "games['Date'] = pd.to_datetime(games['Date'])"
   ]
  },
  {
   "cell_type": "code",
   "execution_count": 21,
   "metadata": {},
   "outputs": [],
   "source": [
    "#We can extract the information about the year from 'Date' column\n",
    "games['year'] = games['Date'].map(lambda x: x.year)"
   ]
  },
  {
   "cell_type": "code",
   "execution_count": 22,
   "metadata": {},
   "outputs": [
    {
     "data": {
      "text/html": [
       "<div>\n",
       "<style scoped>\n",
       "    .dataframe tbody tr th:only-of-type {\n",
       "        vertical-align: middle;\n",
       "    }\n",
       "\n",
       "    .dataframe tbody tr th {\n",
       "        vertical-align: top;\n",
       "    }\n",
       "\n",
       "    .dataframe thead th {\n",
       "        text-align: right;\n",
       "    }\n",
       "</style>\n",
       "<table border=\"1\" class=\"dataframe\">\n",
       "  <thead>\n",
       "    <tr style=\"text-align: right;\">\n",
       "      <th></th>\n",
       "      <th>Date</th>\n",
       "      <th>month</th>\n",
       "      <th>day</th>\n",
       "      <th>year</th>\n",
       "    </tr>\n",
       "  </thead>\n",
       "  <tbody>\n",
       "    <tr>\n",
       "      <th>0</th>\n",
       "      <td>1991-11-10</td>\n",
       "      <td>Nov</td>\n",
       "      <td>10</td>\n",
       "      <td>1991</td>\n",
       "    </tr>\n",
       "    <tr>\n",
       "      <th>1</th>\n",
       "      <td>2010-11-23</td>\n",
       "      <td>Nov</td>\n",
       "      <td>23</td>\n",
       "      <td>2010</td>\n",
       "    </tr>\n",
       "    <tr>\n",
       "      <th>2</th>\n",
       "      <td>2010-11-23</td>\n",
       "      <td>Nov</td>\n",
       "      <td>23</td>\n",
       "      <td>2010</td>\n",
       "    </tr>\n",
       "  </tbody>\n",
       "</table>\n",
       "</div>"
      ],
      "text/plain": [
       "        Date month day  year\n",
       "0 1991-11-10   Nov  10  1991\n",
       "1 2010-11-23   Nov  23  2010\n",
       "2 2010-11-23   Nov  23  2010"
      ]
     },
     "execution_count": 22,
     "metadata": {},
     "output_type": "execute_result"
    }
   ],
   "source": [
    "#the function worked\n",
    "games[:3][['Date','month','day','year']]"
   ]
  },
  {
   "cell_type": "code",
   "execution_count": 23,
   "metadata": {},
   "outputs": [
    {
     "data": {
      "text/plain": [
       "Genre                    object\n",
       "Name                     object\n",
       "Console                  object\n",
       "Publisher                object\n",
       "Developer                object\n",
       "Critic_score            float64\n",
       "User_score              float64\n",
       "Total_sales              object\n",
       "America_sales            object\n",
       "PAL_sales                object\n",
       "Japan_sales              object\n",
       "Other_sales              object\n",
       "Date             datetime64[ns]\n",
       "month                    object\n",
       "day                      object\n",
       "year                      int64\n",
       "dtype: object"
      ]
     },
     "execution_count": 23,
     "metadata": {},
     "output_type": "execute_result"
    }
   ],
   "source": [
    "#We can see that the column 'Date' is type datetime\n",
    "games.dtypes"
   ]
  },
  {
   "cell_type": "code",
   "execution_count": 24,
   "metadata": {},
   "outputs": [
    {
     "name": "stdout",
     "output_type": "stream",
     "text": [
      "0\n",
      "0\n"
     ]
    }
   ],
   "source": [
    "#Let's check that there are no missing values in year and month columns\n",
    "print(games['year'].isna().sum())\n",
    "print(games['month'].isna().sum())"
   ]
  },
  {
   "cell_type": "markdown",
   "metadata": {},
   "source": [
    "**Check information about sales**\n",
    "\n",
    "First, let's convert all columns about sales into numeric. In order to do this, let's extract the float from the string, which has the following format: \"#.##m\" The number is extracted with *str.extract()* function and with using regex."
   ]
  },
  {
   "cell_type": "code",
   "execution_count": 26,
   "metadata": {},
   "outputs": [],
   "source": [
    "games['Total_sales'] = games.Total_sales.str.extract('(\\d+\\.\\d+)')\n",
    "games['America_sales'] = games.America_sales.str.extract('(\\d+\\.\\d+)')\n",
    "games['PAL_sales'] = games.PAL_sales.str.extract('(\\d+\\.\\d+)')\n",
    "games['Japan_sales'] = games.Japan_sales.str.extract('(\\d+\\.\\d+)')\n",
    "games['Other_sales'] = games.Other_sales.str.extract('(\\d+\\.\\d+)')"
   ]
  },
  {
   "cell_type": "code",
   "execution_count": 27,
   "metadata": {
    "scrolled": true
   },
   "outputs": [
    {
     "data": {
      "text/html": [
       "<div>\n",
       "<style scoped>\n",
       "    .dataframe tbody tr th:only-of-type {\n",
       "        vertical-align: middle;\n",
       "    }\n",
       "\n",
       "    .dataframe tbody tr th {\n",
       "        vertical-align: top;\n",
       "    }\n",
       "\n",
       "    .dataframe thead th {\n",
       "        text-align: right;\n",
       "    }\n",
       "</style>\n",
       "<table border=\"1\" class=\"dataframe\">\n",
       "  <thead>\n",
       "    <tr style=\"text-align: right;\">\n",
       "      <th></th>\n",
       "      <th>Total_sales</th>\n",
       "      <th>America_sales</th>\n",
       "      <th>PAL_sales</th>\n",
       "      <th>Japan_sales</th>\n",
       "      <th>Other_sales</th>\n",
       "    </tr>\n",
       "  </thead>\n",
       "  <tbody>\n",
       "    <tr>\n",
       "      <th>0</th>\n",
       "      <td>1.56</td>\n",
       "      <td>0.67</td>\n",
       "      <td>0.17</td>\n",
       "      <td>0.69</td>\n",
       "      <td>0.03</td>\n",
       "    </tr>\n",
       "    <tr>\n",
       "      <th>1</th>\n",
       "      <td>1.18</td>\n",
       "      <td>0.47</td>\n",
       "      <td>0.45</td>\n",
       "      <td>0.06</td>\n",
       "      <td>0.19</td>\n",
       "    </tr>\n",
       "    <tr>\n",
       "      <th>2</th>\n",
       "      <td>1.11</td>\n",
       "      <td>0.61</td>\n",
       "      <td>0.38</td>\n",
       "      <td>0.02</td>\n",
       "      <td>0.10</td>\n",
       "    </tr>\n",
       "  </tbody>\n",
       "</table>\n",
       "</div>"
      ],
      "text/plain": [
       "  Total_sales America_sales PAL_sales Japan_sales Other_sales\n",
       "0        1.56          0.67      0.17        0.69        0.03\n",
       "1        1.18          0.47      0.45        0.06        0.19\n",
       "2        1.11          0.61      0.38        0.02        0.10"
      ]
     },
     "execution_count": 27,
     "metadata": {},
     "output_type": "execute_result"
    }
   ],
   "source": [
    "#The number was succesfully extracted.\n",
    "games[:3][['Total_sales','America_sales','PAL_sales','Japan_sales','Other_sales']]"
   ]
  },
  {
   "cell_type": "code",
   "execution_count": 28,
   "metadata": {
    "scrolled": true
   },
   "outputs": [
    {
     "data": {
      "text/plain": [
       "Genre                    object\n",
       "Name                     object\n",
       "Console                  object\n",
       "Publisher                object\n",
       "Developer                object\n",
       "Critic_score            float64\n",
       "User_score              float64\n",
       "Total_sales             float64\n",
       "America_sales           float64\n",
       "PAL_sales               float64\n",
       "Japan_sales             float64\n",
       "Other_sales             float64\n",
       "Date             datetime64[ns]\n",
       "month                    object\n",
       "day                      object\n",
       "year                      int64\n",
       "dtype: object"
      ]
     },
     "execution_count": 28,
     "metadata": {},
     "output_type": "execute_result"
    }
   ],
   "source": [
    "#Create a function that converts all column sales into numeric\n",
    "sales = ['Total_sales','America_sales','PAL_sales','Japan_sales','Other_sales']\n",
    "for sale in sales:\n",
    "    games[sale] = pd.to_numeric(games[sale], errors='coerce')\n",
    "\n",
    "#Column sales were converted into numeric\n",
    "games.dtypes"
   ]
  },
  {
   "cell_type": "markdown",
   "metadata": {},
   "source": [
    "Now let's explore the data in the year 2019. "
   ]
  },
  {
   "cell_type": "code",
   "execution_count": 29,
   "metadata": {},
   "outputs": [
    {
     "data": {
      "text/html": [
       "<div>\n",
       "<style scoped>\n",
       "    .dataframe tbody tr th:only-of-type {\n",
       "        vertical-align: middle;\n",
       "    }\n",
       "\n",
       "    .dataframe tbody tr th {\n",
       "        vertical-align: top;\n",
       "    }\n",
       "\n",
       "    .dataframe thead th {\n",
       "        text-align: right;\n",
       "    }\n",
       "</style>\n",
       "<table border=\"1\" class=\"dataframe\">\n",
       "  <thead>\n",
       "    <tr style=\"text-align: right;\">\n",
       "      <th></th>\n",
       "      <th></th>\n",
       "      <th>Total_sales</th>\n",
       "      <th>America_sales</th>\n",
       "      <th>PAL_sales</th>\n",
       "      <th>Japan_sales</th>\n",
       "      <th>Other_sales</th>\n",
       "    </tr>\n",
       "    <tr>\n",
       "      <th>year</th>\n",
       "      <th>month</th>\n",
       "      <th></th>\n",
       "      <th></th>\n",
       "      <th></th>\n",
       "      <th></th>\n",
       "      <th></th>\n",
       "    </tr>\n",
       "  </thead>\n",
       "  <tbody>\n",
       "    <tr>\n",
       "      <th rowspan=\"12\" valign=\"top\">2019</th>\n",
       "      <th>Apr</th>\n",
       "      <td>0.11</td>\n",
       "      <td>0.0</td>\n",
       "      <td>0.06</td>\n",
       "      <td>0.04</td>\n",
       "      <td>0.01</td>\n",
       "    </tr>\n",
       "    <tr>\n",
       "      <th>Aug</th>\n",
       "      <td>0.02</td>\n",
       "      <td>0.0</td>\n",
       "      <td>0.00</td>\n",
       "      <td>0.02</td>\n",
       "      <td>0.00</td>\n",
       "    </tr>\n",
       "    <tr>\n",
       "      <th>Dec</th>\n",
       "      <td>0.28</td>\n",
       "      <td>0.0</td>\n",
       "      <td>0.04</td>\n",
       "      <td>0.23</td>\n",
       "      <td>0.00</td>\n",
       "    </tr>\n",
       "    <tr>\n",
       "      <th>Feb</th>\n",
       "      <td>1.28</td>\n",
       "      <td>0.0</td>\n",
       "      <td>0.00</td>\n",
       "      <td>1.28</td>\n",
       "      <td>0.00</td>\n",
       "    </tr>\n",
       "    <tr>\n",
       "      <th>Jan</th>\n",
       "      <td>0.09</td>\n",
       "      <td>0.0</td>\n",
       "      <td>0.00</td>\n",
       "      <td>0.09</td>\n",
       "      <td>0.00</td>\n",
       "    </tr>\n",
       "    <tr>\n",
       "      <th>Jul</th>\n",
       "      <td>0.29</td>\n",
       "      <td>0.0</td>\n",
       "      <td>0.00</td>\n",
       "      <td>0.29</td>\n",
       "      <td>0.00</td>\n",
       "    </tr>\n",
       "    <tr>\n",
       "      <th>Jun</th>\n",
       "      <td>0.32</td>\n",
       "      <td>0.0</td>\n",
       "      <td>0.00</td>\n",
       "      <td>0.32</td>\n",
       "      <td>0.00</td>\n",
       "    </tr>\n",
       "    <tr>\n",
       "      <th>Mar</th>\n",
       "      <td>0.17</td>\n",
       "      <td>0.0</td>\n",
       "      <td>0.02</td>\n",
       "      <td>0.15</td>\n",
       "      <td>0.00</td>\n",
       "    </tr>\n",
       "    <tr>\n",
       "      <th>May</th>\n",
       "      <td>0.01</td>\n",
       "      <td>0.0</td>\n",
       "      <td>0.00</td>\n",
       "      <td>0.01</td>\n",
       "      <td>0.00</td>\n",
       "    </tr>\n",
       "    <tr>\n",
       "      <th>Nov</th>\n",
       "      <td>0.03</td>\n",
       "      <td>0.0</td>\n",
       "      <td>0.00</td>\n",
       "      <td>0.03</td>\n",
       "      <td>0.00</td>\n",
       "    </tr>\n",
       "    <tr>\n",
       "      <th>Oct</th>\n",
       "      <td>0.00</td>\n",
       "      <td>0.0</td>\n",
       "      <td>0.00</td>\n",
       "      <td>0.00</td>\n",
       "      <td>0.00</td>\n",
       "    </tr>\n",
       "    <tr>\n",
       "      <th>Sep</th>\n",
       "      <td>0.13</td>\n",
       "      <td>0.0</td>\n",
       "      <td>0.00</td>\n",
       "      <td>0.13</td>\n",
       "      <td>0.00</td>\n",
       "    </tr>\n",
       "  </tbody>\n",
       "</table>\n",
       "</div>"
      ],
      "text/plain": [
       "            Total_sales  America_sales  PAL_sales  Japan_sales  Other_sales\n",
       "year month                                                                 \n",
       "2019 Apr           0.11            0.0       0.06         0.04         0.01\n",
       "     Aug           0.02            0.0       0.00         0.02         0.00\n",
       "     Dec           0.28            0.0       0.04         0.23         0.00\n",
       "     Feb           1.28            0.0       0.00         1.28         0.00\n",
       "     Jan           0.09            0.0       0.00         0.09         0.00\n",
       "     Jul           0.29            0.0       0.00         0.29         0.00\n",
       "     Jun           0.32            0.0       0.00         0.32         0.00\n",
       "     Mar           0.17            0.0       0.02         0.15         0.00\n",
       "     May           0.01            0.0       0.00         0.01         0.00\n",
       "     Nov           0.03            0.0       0.00         0.03         0.00\n",
       "     Oct           0.00            0.0       0.00         0.00         0.00\n",
       "     Sep           0.13            0.0       0.00         0.13         0.00"
      ]
     },
     "execution_count": 29,
     "metadata": {},
     "output_type": "execute_result"
    }
   ],
   "source": [
    "#Check values in column total_sales\n",
    "year19 = games.loc[games.year==2019]\n",
    "year19 = year19.loc[:,['Total_sales','America_sales','PAL_sales','Japan_sales',\n",
    "                       'Other_sales','year','month']].groupby(['year','month']).sum()\n",
    "year19"
   ]
  },
  {
   "cell_type": "markdown",
   "metadata": {},
   "source": [
    "By checking the values in 2019, we can see that all values dropped considerably. This may be because the data from the website has not been updated for this year. For this reason, it is better to analyse tha dataset up to 2018."
   ]
  },
  {
   "cell_type": "code",
   "execution_count": 30,
   "metadata": {},
   "outputs": [
    {
     "data": {
      "text/plain": [
       "52361"
      ]
     },
     "execution_count": 30,
     "metadata": {},
     "output_type": "execute_result"
    }
   ],
   "source": [
    "#Clean years and just use 1980 to 2018\n",
    "games = games.loc[(games.year >= 1980)&(games.year < 2019)]\n",
    "len(games)"
   ]
  },
  {
   "cell_type": "markdown",
   "metadata": {},
   "source": [
    "**Check information about critic and user score.**\n",
    "\n",
    "Both _Critic_score_ and _User_score_ have they have many zero values. "
   ]
  },
  {
   "cell_type": "code",
   "execution_count": 31,
   "metadata": {},
   "outputs": [
    {
     "name": "stdout",
     "output_type": "stream",
     "text": [
      "45852\n",
      "52007\n"
     ]
    }
   ],
   "source": [
    "#Number of NAN's in critic_score and user_score is large\n",
    "print(games.Critic_score.isna().sum())\n",
    "print(games.User_score.isna().sum())"
   ]
  },
  {
   "cell_type": "markdown",
   "metadata": {},
   "source": [
    "To reduce this, we'll create only one column about scores with information about critic and user scores. If _Critic_score_ is different from zero, use the data; if _critic_score_ is zero, use the data from _User_score_. Use all information in a column called _score_column_."
   ]
  },
  {
   "cell_type": "code",
   "execution_count": 32,
   "metadata": {},
   "outputs": [],
   "source": [
    "allscore = converter(primcol='Critic_score',secol='User_score')\n",
    "games = games.drop(['Critic_score','User_score'],axis=1)"
   ]
  },
  {
   "cell_type": "code",
   "execution_count": 33,
   "metadata": {},
   "outputs": [
    {
     "data": {
      "text/html": [
       "<div>\n",
       "<style scoped>\n",
       "    .dataframe tbody tr th:only-of-type {\n",
       "        vertical-align: middle;\n",
       "    }\n",
       "\n",
       "    .dataframe tbody tr th {\n",
       "        vertical-align: top;\n",
       "    }\n",
       "\n",
       "    .dataframe thead th {\n",
       "        text-align: right;\n",
       "    }\n",
       "</style>\n",
       "<table border=\"1\" class=\"dataframe\">\n",
       "  <thead>\n",
       "    <tr style=\"text-align: right;\">\n",
       "      <th></th>\n",
       "      <th>Scores</th>\n",
       "    </tr>\n",
       "  </thead>\n",
       "  <tbody>\n",
       "    <tr>\n",
       "      <th>0</th>\n",
       "      <td>10.0</td>\n",
       "    </tr>\n",
       "    <tr>\n",
       "      <th>1</th>\n",
       "      <td>10.0</td>\n",
       "    </tr>\n",
       "    <tr>\n",
       "      <th>2</th>\n",
       "      <td>10.0</td>\n",
       "    </tr>\n",
       "  </tbody>\n",
       "</table>\n",
       "</div>"
      ],
      "text/plain": [
       "   Scores\n",
       "0    10.0\n",
       "1    10.0\n",
       "2    10.0"
      ]
     },
     "execution_count": 33,
     "metadata": {},
     "output_type": "execute_result"
    }
   ],
   "source": [
    "games['Scores'] = allscore\n",
    "games[:3][['Scores']]"
   ]
  },
  {
   "cell_type": "markdown",
   "metadata": {},
   "source": [
    "## Analysis of the video games market by genre"
   ]
  },
  {
   "cell_type": "markdown",
   "metadata": {},
   "source": [
    "### Releases by year, month and day"
   ]
  },
  {
   "cell_type": "code",
   "execution_count": 34,
   "metadata": {},
   "outputs": [],
   "source": [
    "#Create a counting variable for 'genre'\n",
    "games['count'] = 1"
   ]
  },
  {
   "cell_type": "code",
   "execution_count": 36,
   "metadata": {},
   "outputs": [
    {
     "data": {
      "text/html": [
       "\n",
       "        <iframe\n",
       "            width=\"100%\"\n",
       "            height=\"525px\"\n",
       "            src=\"https://plotly.com/~svaldes.salas/186.embed\"\n",
       "            frameborder=\"0\"\n",
       "            allowfullscreen\n",
       "        ></iframe>\n",
       "        "
      ],
      "text/plain": [
       "<IPython.lib.display.IFrame at 0x122d85b50>"
      ]
     },
     "execution_count": 36,
     "metadata": {},
     "output_type": "execute_result"
    }
   ],
   "source": [
    "#Let's check the total number of video games released by year\n",
    "genre_per_year = games.loc[:,['year','Genre','count']]\n",
    "total_per_year = genre_per_year.groupby(['year']).sum().reset_index()\n",
    "fig = go.Figure(data=go.Scatter(x=total_per_year['year'], y=total_per_year['count'], mode='lines+markers'))\n",
    "fig.update_layout(title=\"Number of video games released by year, 1980-2018\")\n",
    "py.iplot(fig)"
   ]
  },
  {
   "cell_type": "code",
   "execution_count": 37,
   "metadata": {},
   "outputs": [],
   "source": [
    "#Save image\n",
    "fig.write_image(\"images/fig1.png\")"
   ]
  },
  {
   "cell_type": "markdown",
   "metadata": {},
   "source": [
    "With the graph above we can see that there has been an increasing trend from the 1980s to the end of 2010s. Since then, the trend has not been clear."
   ]
  },
  {
   "cell_type": "code",
   "execution_count": 39,
   "metadata": {},
   "outputs": [
    {
     "data": {
      "text/html": [
       "\n",
       "        <iframe\n",
       "            width=\"100%\"\n",
       "            height=\"525px\"\n",
       "            src=\"https://plotly.com/~svaldes.salas/188.embed\"\n",
       "            frameborder=\"0\"\n",
       "            allowfullscreen\n",
       "        ></iframe>\n",
       "        "
      ],
      "text/plain": [
       "<IPython.lib.display.IFrame at 0x122d8f290>"
      ]
     },
     "execution_count": 39,
     "metadata": {},
     "output_type": "execute_result"
    }
   ],
   "source": [
    "#Let's check the total number of video games released by month\n",
    "genre_per_month = games.loc[:,['month','Genre','count']]\n",
    "total_per_month = genre_per_month.groupby(['month']).sum()\n",
    "#re order the index of the data frame\n",
    "total_per_month = total_per_month.reindex([\"Jan\",\"Feb\",\"Mar\",\"Apr\",\"May\",\"Jun\",\"Jul\",\"Aug\",\"Sep\",\"Oct\",\"Nov\",\"Dec\"])\n",
    "\n",
    "#color bars with the highest number of releases \n",
    "colors = ['lightslategray',] *12\n",
    "colors[0] = 'crimson'\n",
    "colors[8] = 'crimson'\n",
    "colors[9] = 'crimson'\n",
    "colors[10] = 'crimson'\n",
    "#plot \n",
    "fig2 = go.Figure(data=[go.Bar(\n",
    "    x=total_per_month.index,\n",
    "    y=total_per_month['count'],\n",
    "    marker_color=colors \n",
    ")])\n",
    "fig2.update_layout(title_text='Number of video games released by month, 1980-2018')\n",
    "\n",
    "py.iplot(fig2)"
   ]
  },
  {
   "cell_type": "code",
   "execution_count": 40,
   "metadata": {},
   "outputs": [],
   "source": [
    "#Save image\n",
    "fig2.write_image(\"images/fig2.png\")"
   ]
  },
  {
   "cell_type": "markdown",
   "metadata": {},
   "source": [
    "For the period 1980 to 2018, January, November, October, and September are the months when most videogames are released (in that order)"
   ]
  },
  {
   "cell_type": "code",
   "execution_count": 43,
   "metadata": {},
   "outputs": [
    {
     "data": {
      "text/html": [
       "\n",
       "        <iframe\n",
       "            width=\"100%\"\n",
       "            height=\"525px\"\n",
       "            src=\"https://plotly.com/~svaldes.salas/192.embed\"\n",
       "            frameborder=\"0\"\n",
       "            allowfullscreen\n",
       "        ></iframe>\n",
       "        "
      ],
      "text/plain": [
       "<IPython.lib.display.IFrame at 0x12470d050>"
      ]
     },
     "execution_count": 43,
     "metadata": {},
     "output_type": "execute_result"
    }
   ],
   "source": [
    "#Let's check the total number of video games released by day\n",
    "genre_per_day = games.loc[:,['day','Genre','count']]\n",
    "total_per_day = genre_per_day.groupby(['day']).sum().reset_index()\n",
    "#plot total count per day\n",
    "fig3 = px.bar(total_per_day, x=\"count\", y=\"day\", orientation='h')\n",
    "fig3.update_layout(title=\"Number of video games released by day of the month, 1980-2018\")\n",
    "py.iplot(fig3)"
   ]
  },
  {
   "cell_type": "code",
   "execution_count": 44,
   "metadata": {},
   "outputs": [],
   "source": [
    "#Save image\n",
    "fig3.write_image(\"images/fig3.png\")"
   ]
  },
  {
   "cell_type": "markdown",
   "metadata": {},
   "source": [
    "For the period 1980 to 2018, video games have mostly been released the 1st day of the month."
   ]
  },
  {
   "cell_type": "markdown",
   "metadata": {},
   "source": [
    "### Releases by genre"
   ]
  },
  {
   "cell_type": "code",
   "execution_count": 45,
   "metadata": {},
   "outputs": [
    {
     "data": {
      "text/html": [
       "\n",
       "        <iframe\n",
       "            width=\"400px\"\n",
       "            height=\"600px\"\n",
       "            src=\"https://plotly.com/~svaldes.salas/194.embed\"\n",
       "            frameborder=\"0\"\n",
       "            allowfullscreen\n",
       "        ></iframe>\n",
       "        "
      ],
      "text/plain": [
       "<IPython.lib.display.IFrame at 0x1248ad090>"
      ]
     },
     "execution_count": 45,
     "metadata": {},
     "output_type": "execute_result"
    }
   ],
   "source": [
    "#Let's get the top genres of all time \n",
    "grouped_genre = games.groupby('Genre').sum()\n",
    "totals = grouped_genre[['count','Total_sales']].reset_index()\n",
    "Top_genreAlltime = totals.loc[:,['Genre','count']].set_index('Genre').sort_values(by='count', ascending=False)\n",
    "#Create a table and color those rows depending on their value\n",
    "myvalues = Top_genreAlltime['count'].unique().tolist()\n",
    "mygenres = Top_genreAlltime.index.tolist()\n",
    "table_trace=dict(type = 'table',\n",
    "                 columnwidth= [20]+[10],\n",
    "                 columnorder=[0, 1],\n",
    "                 header = dict(height = 50,\n",
    "                               values = [['<b>Genre</b>'], ['<b>Total</b>']],\n",
    "                               line = dict(color='rgb(50,50,50)'),\n",
    "                               align = ['left']*2,\n",
    "                               font = dict(color=['rgb(45,45,45)']*2, size=14),\n",
    "                               fill = dict( color = 'rgb(222, 222, 222)' )\n",
    "                              ),\n",
    "                 cells = dict(values = [mygenres, myvalues],\n",
    "                              line = dict(color='#506784'),\n",
    "                              align = ['left']*5,\n",
    "                              font = dict(color=['rgb(40,40,40)']*2, size=12),\n",
    "                              height = 30,\n",
    "                              fill = dict(color=['rgb(245,245,245)',\n",
    "                                                ['rgb(121, 96, 214)' if value>=4000 else \n",
    "                                                 'rgb(194, 183, 232)' if value<2000 else\n",
    "                                                 'rgb(145, 128, 209)' for value in myvalues] ]\n",
    "                                         )\n",
    "                             )\n",
    "                  )\n",
    "\n",
    "layout = dict(width=400, height=600, autosize=False, \n",
    "              title='Count of video games by genre, 1980-2018', showlegend=False)\n",
    "fig4= dict(data=[table_trace], layout=layout)\n",
    "py.iplot(fig4, filename='count-videogames')"
   ]
  },
  {
   "cell_type": "markdown",
   "metadata": {},
   "source": [
    "With the exception of **Misc** (which we assume is miscellaneous), **Action** is the genre with the most video games releases, followed by **Adventure**, **Sports**, **Role-playing**, and **Shooter**. Each of these genres have accumulated over 4,000 video games in the last 40 years. "
   ]
  },
  {
   "cell_type": "markdown",
   "metadata": {},
   "source": [
    "The total number of video games does not tell us much about those genres that are relevant for the industry. For this reason, it is more relevant to analyse which represent the most profitable genres in the gaming industry. Let's compare sales by genre over time."
   ]
  },
  {
   "cell_type": "code",
   "execution_count": 47,
   "metadata": {
    "scrolled": false
   },
   "outputs": [
    {
     "data": {
      "text/html": [
       "\n",
       "        <iframe\n",
       "            width=\"100%\"\n",
       "            height=\"525px\"\n",
       "            src=\"https://plotly.com/~svaldes.salas/196.embed\"\n",
       "            frameborder=\"0\"\n",
       "            allowfullscreen\n",
       "        ></iframe>\n",
       "        "
      ],
      "text/plain": [
       "<IPython.lib.display.IFrame at 0x123e04e90>"
      ]
     },
     "execution_count": 47,
     "metadata": {},
     "output_type": "execute_result"
    }
   ],
   "source": [
    "#Let's check total number of released video games and sales\n",
    "fig5 = px.bar(totals.sort_values(by='count'), x='Genre', y='Total_sales',\n",
    "             color='count',\n",
    "             labels={'Total_sales':'Total sales',\n",
    "                    'count':'Total count per genre'})\n",
    "fig5.update_layout(title_text='Total sales and total number of video games by genre, 1980-2018')\n",
    "py.iplot(fig5)"
   ]
  },
  {
   "cell_type": "code",
   "execution_count": 48,
   "metadata": {},
   "outputs": [],
   "source": [
    "#Save image\n",
    "fig5.write_image(\"images/fig5.png\")"
   ]
  },
  {
   "cell_type": "markdown",
   "metadata": {},
   "source": [
    "With the exception of Misc (bright yellow), from 1980 to 2018, the **genre** with the largest count are:\n",
    "1. Action (yellow)\n",
    "2. Sports\n",
    "3. Adventure \n",
    "4. Shooter \n",
    "5. Role-playing (dark pink)\n",
    "\n",
    "However, if we take a closer look, those genres that represent the largest **total sales** during the same period are:\n",
    "1. Sports\n",
    "2. Action\n",
    "3. Shooter\n",
    "4. Role-playing \n",
    "5. Platform\n",
    "\n",
    "Many of those genres in blue might be genres that have been recently created. For this reason, it is a good idea to compare the most profitable genres of the gaming industry in a shorter period, for example, 2008 and 2018. "
   ]
  },
  {
   "cell_type": "markdown",
   "metadata": {},
   "source": [
    "### Composition of the video game market in 1998 and 2018"
   ]
  },
  {
   "cell_type": "code",
   "execution_count": 50,
   "metadata": {},
   "outputs": [
    {
     "data": {
      "text/html": [
       "\n",
       "        <iframe\n",
       "            width=\"100%\"\n",
       "            height=\"525px\"\n",
       "            src=\"https://plotly.com/~svaldes.salas/200.embed\"\n",
       "            frameborder=\"0\"\n",
       "            allowfullscreen\n",
       "        ></iframe>\n",
       "        "
      ],
      "text/plain": [
       "<IPython.lib.display.IFrame at 0x12491ddd0>"
      ]
     },
     "execution_count": 50,
     "metadata": {},
     "output_type": "execute_result"
    }
   ],
   "source": [
    "# Get percentage distribution of total sales by genre in 1998\n",
    "sales_per_year = games.loc[:,['year','Genre','Total_sales']]\n",
    "comparedsales = sales_per_year.loc[sales_per_year.year == 1998].drop('year',axis=1)\n",
    "sales98 = comparedsales.groupby('Genre').sum()\n",
    "sales98['%'] = sales98['Total_sales'].apply(lambda x:x/sales98.sum()*100)\n",
    "sales98 = sales98.sort_values(by='%',ascending=False)[:10]\n",
    "\n",
    "# Get percentage distribution of total sales by genre in 2018\n",
    "comparedsales18 = sales_per_year.loc[sales_per_year.year == 2018].drop('year',axis=1)\n",
    "sales18 = comparedsales18.groupby('Genre').sum()\n",
    "sales18['%'] = sales18['Total_sales'].apply(lambda x:x/sales18.sum()*100)\n",
    "sales18 = sales18.sort_values(by='%',ascending=False)[:10]\n",
    "\n",
    "# Define a function to create labels and values of the pie charts.\n",
    "def ValuesLabels(df, column='%'):\n",
    "    t = 0\n",
    "    values = []\n",
    "    labels = []\n",
    "    for index, row in df.iterrows():\n",
    "        v = row[column]\n",
    "        t += v\n",
    "        values.append(v)\n",
    "        labels.append(index)\n",
    "    values.append(100-t)\n",
    "    labels.append('Others')\n",
    "    return values, labels\n",
    "\n",
    "#Get values and labels for 1998 and 2018\n",
    "values98 = ValuesLabels(sales98)[0]\n",
    "labels98 = ValuesLabels(sales98)[1]\n",
    "values18 = ValuesLabels(sales18)[0]\n",
    "labels18 = ValuesLabels(sales18)[1]\n",
    "\n",
    "# Create subplots: use 'domain' type for Pie subplot\n",
    "fig6 = make_subplots(rows=1, cols=2, specs=[[{'type':'domain'}, {'type':'domain'}]])\n",
    "fig6.add_trace(go.Pie(labels=labels98, values=values98, name=\"1998\"),\n",
    "              1, 1)\n",
    "fig6.add_trace(go.Pie(labels=labels18, values=values18, name=\"2018\"),\n",
    "              1, 2)\n",
    "\n",
    "fig6.update_traces(hole=.4)\n",
    "fig6.update_layout(\n",
    "    title_text=\"Distribution of video games by genre as a share of total sales in 1998 and 2018\",\n",
    "    annotations=[dict(text='1998', x=0.19, y=0.5, font_size=20, showarrow=False),\n",
    "                 dict(text='2018', x=0.81, y=0.5, font_size=20, showarrow=False)])\n",
    "py.iplot(fig6)"
   ]
  },
  {
   "cell_type": "code",
   "execution_count": 51,
   "metadata": {},
   "outputs": [],
   "source": [
    "#Save image\n",
    "fig6.write_image(\"images/fig6.png\")"
   ]
  },
  {
   "cell_type": "markdown",
   "metadata": {},
   "source": [
    "The video game market has completely changed in the last 10 years. In 1998, Role-Playing, Sports, and Racing represented the most profitable genres. In 2018 Action-Adventure (one of the newest genres) replaced Sports as the most profitable genre, which took the second place, followed by Action.\n",
    "\n",
    "However, it is worth noticing that during this 10-year period, Sports remains in the top 3 of the most profitable genres."
   ]
  },
  {
   "cell_type": "markdown",
   "metadata": {},
   "source": [
    "### Total sales over time"
   ]
  },
  {
   "cell_type": "code",
   "execution_count": 52,
   "metadata": {},
   "outputs": [
    {
     "data": {
      "text/html": [
       "\n",
       "        <iframe\n",
       "            width=\"100%\"\n",
       "            height=\"525px\"\n",
       "            src=\"https://plotly.com/~svaldes.salas/202.embed\"\n",
       "            frameborder=\"0\"\n",
       "            allowfullscreen\n",
       "        ></iframe>\n",
       "        "
      ],
      "text/plain": [
       "<IPython.lib.display.IFrame at 0x12470df10>"
      ]
     },
     "execution_count": 52,
     "metadata": {},
     "output_type": "execute_result"
    }
   ],
   "source": [
    "#Let's check total sales\n",
    "sales_grouped = games.loc[:,['Genre','Total_sales','America_sales','PAL_sales','Japan_sales','Other_sales','year']]\n",
    "sales_per_genre = sales_grouped.groupby(['Genre','year']).sum().reset_index()\n",
    "sales_per_year = sales_grouped.groupby(['year']).sum()\n",
    "#Plot\n",
    "fig7 = px.scatter(x=sales_per_genre.year, y=sales_per_genre.Total_sales, color=sales_per_genre.Genre)\n",
    "fig7.update_layout(\n",
    "    title=\"Total sales of video games per year and per genre from 1980 to 2018\",\n",
    "    xaxis_title=\"Year\",\n",
    "    yaxis_title=\"Sales (million USD)\")\n",
    "py.iplot(fig7)"
   ]
  },
  {
   "cell_type": "code",
   "execution_count": 53,
   "metadata": {},
   "outputs": [],
   "source": [
    "#Save image\n",
    "fig7.write_image(\"images/fig7.png\")"
   ]
  },
  {
   "cell_type": "markdown",
   "metadata": {},
   "source": [
    "After 2000, the number of genres not only multiplied; also their sales increased drastically. Also notice that sales of  Sports, Action and Shooter soared in the last 20 years. In the case of Sports, sales peaked especially between 2005 and 2010."
   ]
  },
  {
   "cell_type": "code",
   "execution_count": 55,
   "metadata": {},
   "outputs": [
    {
     "data": {
      "text/html": [
       "\n",
       "        <iframe\n",
       "            width=\"100%\"\n",
       "            height=\"525px\"\n",
       "            src=\"https://plotly.com/~svaldes.salas/205.embed\"\n",
       "            frameborder=\"0\"\n",
       "            allowfullscreen\n",
       "        ></iframe>\n",
       "        "
      ],
      "text/plain": [
       "<IPython.lib.display.IFrame at 0x122381dd0>"
      ]
     },
     "execution_count": 55,
     "metadata": {},
     "output_type": "execute_result"
    }
   ],
   "source": [
    "dec80 = sales_per_genre[sales_per_genre.year<1990]['Total_sales']\n",
    "dec90 = sales_per_genre[(sales_per_genre.year>=1990)&(sales_per_genre.year<2000)]['Total_sales']\n",
    "dec00 = sales_per_genre[(sales_per_genre.year>=2000)&(sales_per_genre.year<2010)]['Total_sales']\n",
    "dec10 = sales_per_genre[sales_per_genre.year>=2010]['Total_sales']\n",
    "\n",
    "x_data = ['1980s', '1990s','2000s', '2010s']\n",
    "y_data = [dec80, dec90, dec00, dec10]\n",
    "colors = ['rgba(93, 164, 214, 0.5)', 'rgba(255, 144, 14, 0.5)', 'rgba(44, 160, 101, 0.5)','rgba(255, 65, 54, 0.5)']\n",
    "#plot\n",
    "fig8 = go.Figure()\n",
    "for xd, yd, cls in zip(x_data, y_data, colors):\n",
    "        fig8.add_trace(go.Box(\n",
    "            y=yd,\n",
    "            name=xd,\n",
    "            boxpoints='all',\n",
    "            jitter=0.5,\n",
    "            whiskerwidth=0.2,\n",
    "            fillcolor=cls,\n",
    "            marker_size=2,\n",
    "            line_width=1)\n",
    "        )\n",
    "fig8.update_layout(title='Total sales of video games in different decades',\n",
    "                 yaxis_title=\"Sales (million USD)\")      \n",
    "py.iplot(fig8)"
   ]
  },
  {
   "cell_type": "code",
   "execution_count": 56,
   "metadata": {},
   "outputs": [],
   "source": [
    "#Save image\n",
    "fig8.write_image(\"images/fig8.png\")"
   ]
  },
  {
   "cell_type": "markdown",
   "metadata": {},
   "source": [
    "The range of sales has increased dramatically. Whereas in the 1980s, the median value of total sales was 0.74 million dollars, in the 2000s it was 24.75 million dollars (this is 33 times larger than in 1980s). \n",
    "\n",
    "Let's take a closer look to those top 5 video games that dramatically increased their sales after 2005."
   ]
  },
  {
   "cell_type": "code",
   "execution_count": 57,
   "metadata": {},
   "outputs": [
    {
     "data": {
      "text/html": [
       "\n",
       "        <iframe\n",
       "            width=\"100%\"\n",
       "            height=\"525px\"\n",
       "            src=\"https://plotly.com/~svaldes.salas/207.embed\"\n",
       "            frameborder=\"0\"\n",
       "            allowfullscreen\n",
       "        ></iframe>\n",
       "        "
      ],
      "text/plain": [
       "<IPython.lib.display.IFrame at 0x122381090>"
      ]
     },
     "execution_count": 57,
     "metadata": {},
     "output_type": "execute_result"
    }
   ],
   "source": [
    "#Get trends of sales of those genres that have the largest sales after 2000\n",
    "total_sales_genre = sales_per_genre.loc[:,['year','Genre','Total_sales']]\n",
    "total_sales_pivot = pd.pivot_table(total_sales_genre, values='Total_sales',index='year',columns='Genre')\n",
    "reduced_genre = total_sales_pivot.reset_index().fillna(0)\n",
    "reduced_genre = reduced_genre.loc[:,['year','Action','Adventure','Shooter',\n",
    "                                    'Sports','Role-Playing']]\n",
    "reduced_genre\n",
    "colnames=list(reduced_genre.columns[1:])\n",
    "fig9 = go.Figure()\n",
    "for name in colnames:\n",
    "    fig9 = fig9.add_trace(go.Scatter(x=reduced_genre['year'], y=reduced_genre[name], mode='lines', name=name))\n",
    "fig9.update_layout(\n",
    "    title=\"Total sales of most popular video games by genre from 1980 to 2018\",\n",
    "    xaxis_title=\"Year\",\n",
    "    yaxis_title=\"Sales (million USD)\")\n",
    "py.iplot(fig9)"
   ]
  },
  {
   "cell_type": "code",
   "execution_count": 58,
   "metadata": {},
   "outputs": [],
   "source": [
    "#Save image\n",
    "fig9.write_image(\"images/fig9.png\")"
   ]
  },
  {
   "cell_type": "markdown",
   "metadata": {},
   "source": [
    "### Total video games by console"
   ]
  },
  {
   "cell_type": "code",
   "execution_count": 59,
   "metadata": {
    "scrolled": false
   },
   "outputs": [
    {
     "data": {
      "text/html": [
       "\n",
       "        <iframe\n",
       "            width=\"100%\"\n",
       "            height=\"525px\"\n",
       "            src=\"https://plotly.com/~svaldes.salas/209.embed\"\n",
       "            frameborder=\"0\"\n",
       "            allowfullscreen\n",
       "        ></iframe>\n",
       "        "
      ],
      "text/plain": [
       "<IPython.lib.display.IFrame at 0x12071a990>"
      ]
     },
     "execution_count": 59,
     "metadata": {},
     "output_type": "execute_result"
    }
   ],
   "source": [
    "#Get total number of video games by console\n",
    "total_console = games.loc[:,['Console','count','year']]\n",
    "total_console = total_console.loc[total_console['year']>2000]\n",
    "count_console = total_console.groupby('Console').sum()[['count']].reset_index()\n",
    "largevalues = count_console[count_console['count']>500].sort_values('count')\n",
    "#plot\n",
    "fig10 = px.bar(largevalues, x=\"count\", y=\"Console\", orientation='h')\n",
    "fig10.update_layout(title=\"Total video games released by console from 2000 to 2018\")\n",
    "py.iplot(fig10)"
   ]
  },
  {
   "cell_type": "code",
   "execution_count": 60,
   "metadata": {},
   "outputs": [],
   "source": [
    "#Save image\n",
    "fig10.write_image(\"images/fig10.png\")"
   ]
  },
  {
   "cell_type": "markdown",
   "metadata": {},
   "source": [
    "PC console has the largest number of total video games released. His closest competitor is play station (PS2). However, PC represents only one console, whereas Play Station, Xbox, among others, have different consoles. For this reason, we can merge the consoles of the most popular brands in order to see if they are direct competitors of PC. "
   ]
  },
  {
   "cell_type": "markdown",
   "metadata": {},
   "source": [
    "### Competition among most popular consoles"
   ]
  },
  {
   "cell_type": "code",
   "execution_count": 67,
   "metadata": {},
   "outputs": [],
   "source": [
    "#compare PC with all consoles from play station, xbox and nintendo\n",
    "PcPs_all = games[(games['Console']=='PC')|(games['Console']=='PS')|(games['Console']=='PS2')|(games['Console']=='PS3')|\n",
    "                 (games['Console']=='PS4')|(games['Console']=='X360')|(games['Console']=='XB')|\n",
    "                (games['Console']=='XOne')|(games['Console']=='SNES')|(games['Console']=='Wii')|(games['Console']=='N64')]\n",
    "#Let's check only those years from 1990 onwards\n",
    "PcPs_all = PcPs_all[PcPs_all['year']>=1990]\n",
    "compare_count = PcPs_all.loc[:,['year','Console','count']]"
   ]
  },
  {
   "cell_type": "code",
   "execution_count": 68,
   "metadata": {},
   "outputs": [],
   "source": [
    "#Create a function to replace names of consoles\n",
    "def replacer(df):\n",
    "    df['Names'] = df['Console'].str.replace('PS.','PS',regex=True).str.replace('X.+','XBox',regex=True).str.replace('Wii','Nin',regex=True).str.replace('N64','Nin',regex=True).str.replace('SNES','Nin',regex=True)\n",
    "    return df"
   ]
  },
  {
   "cell_type": "code",
   "execution_count": 69,
   "metadata": {},
   "outputs": [
    {
     "data": {
      "text/html": [
       "<div>\n",
       "<style scoped>\n",
       "    .dataframe tbody tr th:only-of-type {\n",
       "        vertical-align: middle;\n",
       "    }\n",
       "\n",
       "    .dataframe tbody tr th {\n",
       "        vertical-align: top;\n",
       "    }\n",
       "\n",
       "    .dataframe thead th {\n",
       "        text-align: right;\n",
       "    }\n",
       "</style>\n",
       "<table border=\"1\" class=\"dataframe\">\n",
       "  <thead>\n",
       "    <tr style=\"text-align: right;\">\n",
       "      <th></th>\n",
       "      <th>year</th>\n",
       "      <th>Console</th>\n",
       "      <th>count</th>\n",
       "      <th>Names</th>\n",
       "    </tr>\n",
       "  </thead>\n",
       "  <tbody>\n",
       "    <tr>\n",
       "      <th>0</th>\n",
       "      <td>1991</td>\n",
       "      <td>SNES</td>\n",
       "      <td>1</td>\n",
       "      <td>Nin</td>\n",
       "    </tr>\n",
       "    <tr>\n",
       "      <th>1</th>\n",
       "      <td>2010</td>\n",
       "      <td>PS3</td>\n",
       "      <td>1</td>\n",
       "      <td>PS</td>\n",
       "    </tr>\n",
       "    <tr>\n",
       "      <th>2</th>\n",
       "      <td>2010</td>\n",
       "      <td>X360</td>\n",
       "      <td>1</td>\n",
       "      <td>XBox</td>\n",
       "    </tr>\n",
       "    <tr>\n",
       "      <th>3</th>\n",
       "      <td>2008</td>\n",
       "      <td>PS3</td>\n",
       "      <td>1</td>\n",
       "      <td>PS</td>\n",
       "    </tr>\n",
       "    <tr>\n",
       "      <th>4</th>\n",
       "      <td>2008</td>\n",
       "      <td>X360</td>\n",
       "      <td>1</td>\n",
       "      <td>XBox</td>\n",
       "    </tr>\n",
       "  </tbody>\n",
       "</table>\n",
       "</div>"
      ],
      "text/plain": [
       "   year Console  count Names\n",
       "0  1991    SNES      1   Nin\n",
       "1  2010     PS3      1    PS\n",
       "2  2010    X360      1  XBox\n",
       "3  2008     PS3      1    PS\n",
       "4  2008    X360      1  XBox"
      ]
     },
     "execution_count": 69,
     "metadata": {},
     "output_type": "execute_result"
    }
   ],
   "source": [
    "#Check if replacer function works = it works\n",
    "compare_count = replacer(compare_count)\n",
    "compare_count[:5]"
   ]
  },
  {
   "cell_type": "code",
   "execution_count": 70,
   "metadata": {},
   "outputs": [
    {
     "data": {
      "text/html": [
       "\n",
       "        <iframe\n",
       "            width=\"100%\"\n",
       "            height=\"525px\"\n",
       "            src=\"https://plotly.com/~svaldes.salas/213.embed\"\n",
       "            frameborder=\"0\"\n",
       "            allowfullscreen\n",
       "        ></iframe>\n",
       "        "
      ],
      "text/plain": [
       "<IPython.lib.display.IFrame at 0x120672d10>"
      ]
     },
     "execution_count": 70,
     "metadata": {},
     "output_type": "execute_result"
    }
   ],
   "source": [
    "compare_count = compare_count.pivot_table(index='year',values='count',columns='Names', aggfunc=np.sum)\n",
    "fig11 = go.Figure()\n",
    "fig11 = fig11.add_trace(go.Scatter(x=compare_count.index, y=compare_count['PC'], mode='lines', name='PC', fill='tozeroy'))\n",
    "fig11 = fig11.add_trace(go.Scatter(x=compare_count.index, y=compare_count['PS'], mode='lines', name='PS', fill='tozeroy'))\n",
    "fig11 = fig11.add_trace(go.Scatter(x=compare_count.index, y=compare_count['XBox'], mode='lines', name='XBox', fill='tozeroy'))\n",
    "fig11 = fig11.add_trace(go.Scatter(x=compare_count.index, y=compare_count['Nin'], mode='lines', name='Nintendo', fill='tozeroy'))\n",
    "fig11.update_layout(title=\"Number of video games released for PC, Play Station, XBox and Nintendo consoles, 1990-2018\")\n",
    "py.iplot(fig11)"
   ]
  },
  {
   "cell_type": "code",
   "execution_count": 71,
   "metadata": {},
   "outputs": [],
   "source": [
    "#Save image\n",
    "fig11.write_image(\"images/fig11.png\")"
   ]
  },
  {
   "cell_type": "markdown",
   "metadata": {},
   "source": [
    "Play Station has been a strong competitor of PC, especially between the period of 1995 to 2010. After 2010, however, PC became the brand with the largest number of video games. "
   ]
  },
  {
   "cell_type": "code",
   "execution_count": 92,
   "metadata": {
    "scrolled": false
   },
   "outputs": [
    {
     "data": {
      "text/html": [
       "\n",
       "        <iframe\n",
       "            width=\"100%\"\n",
       "            height=\"525px\"\n",
       "            src=\"https://plotly.com/~svaldes.salas/237.embed\"\n",
       "            frameborder=\"0\"\n",
       "            allowfullscreen\n",
       "        ></iframe>\n",
       "        "
      ],
      "text/plain": [
       "<IPython.lib.display.IFrame at 0x122235090>"
      ]
     },
     "execution_count": 92,
     "metadata": {},
     "output_type": "execute_result"
    }
   ],
   "source": [
    "#Let's check total sales of each console\n",
    "PcPs = PcPs_all.loc[:,['year','Console','Genre','count','Total_sales','America_sales']]\n",
    "PcPs2000 = PcPs.groupby(['year','Console']).sum().reset_index()\n",
    "PcPspivot = pd.pivot_table(PcPs2000, values='Total_sales',index='year',columns='Console').fillna(0)\n",
    "\n",
    "#conames = PcPs2000['Console'].unique().tolist()\n",
    "conames = ['SNES', 'PS', 'N64', 'PS2', 'XB', 'X360', 'PS3', 'Wii', 'PS4', 'PC']\n",
    "fig12 = go.Figure()\n",
    "for name in conames:\n",
    "    fig12 = fig12.add_trace(go.Scatter(x=PcPspivot.index, y=PcPspivot[name], mode='lines', name=name, fill='tozeroy'))\n",
    "fig12.update_layout(title=\"Total sales of released video games by console, 1990-2018\")\n",
    "py.iplot(fig12)"
   ]
  },
  {
   "cell_type": "code",
   "execution_count": 93,
   "metadata": {},
   "outputs": [],
   "source": [
    "#Save image\n",
    "fig12.write_image(\"images/fig12.png\")"
   ]
  },
  {
   "cell_type": "markdown",
   "metadata": {},
   "source": [
    "* Nintendo was the dominant player between 1990 to 1995, with the console Super Nintendo. It became popular again with the introduction of Wii in 2006.\n",
    "* From 1995 to 2005, Play Station became the most profitable brand with the consoles PS and PS2. \n",
    "* For the next 10 years (2005 to 2015), the gaming industry became more competitive: Nintendo once more became the most profitable company with Wii console; but it had strong competitors: Xbox 360 and PS3. We can name this the golden age of video games.\n",
    "* During all this years, even though PC has the largest number of video games released, its sales constantly represent just a small share of total sales."
   ]
  },
  {
   "cell_type": "markdown",
   "metadata": {},
   "source": [
    "### Most popular video games and consoles by region"
   ]
  },
  {
   "cell_type": "code",
   "execution_count": 76,
   "metadata": {},
   "outputs": [
    {
     "data": {
      "text/html": [
       "\n",
       "        <iframe\n",
       "            width=\"100%\"\n",
       "            height=\"525px\"\n",
       "            src=\"https://plotly.com/~svaldes.salas/221.embed\"\n",
       "            frameborder=\"0\"\n",
       "            allowfullscreen\n",
       "        ></iframe>\n",
       "        "
      ],
      "text/plain": [
       "<IPython.lib.display.IFrame at 0x1248ad790>"
      ]
     },
     "execution_count": 76,
     "metadata": {},
     "output_type": "execute_result"
    }
   ],
   "source": [
    "#Check sales by regions after 2000\n",
    "regions = sales_per_year.reset_index()\n",
    "regions = regions.loc[regions.year>=2000]\n",
    "#plot\n",
    "fig13 = go.Figure(data=[\n",
    "    go.Bar(name='North America', x=regions['year'], y=regions['America_sales'], marker_color='#0c6a9c'),\n",
    "    go.Bar(name='Japan', x=regions['year'], y=regions['Japan_sales'], marker_color='#1393d6'),\n",
    "    go.Bar(name='PAL region', x=regions['year'], y=regions['PAL_sales'], marker_color='#0cc4c1'),\n",
    "    go.Bar(name='Other', x=regions['year'], y=regions['Other_sales'], marker_color='#0cc48a')],\n",
    "    layout_title_text='Total sales of video games by regions, 2000-2018')\n",
    "fig13.update_layout(barmode='stack')\n",
    "fig13.update_xaxes(title_text='year')\n",
    "fig13.update_yaxes(title_text='sales (million USD)')\n",
    "py.iplot(fig13)"
   ]
  },
  {
   "cell_type": "code",
   "execution_count": 77,
   "metadata": {},
   "outputs": [],
   "source": [
    "#Save image\n",
    "fig13.write_image(\"images/fig13.png\")"
   ]
  },
  {
   "cell_type": "markdown",
   "metadata": {},
   "source": [
    "North America represents the region with the largest sales of video games, followed by PAL region (which consists in some regions in Latin America, Middle East and Africa). Also, 2008 represented the most important year in terms of sales. "
   ]
  },
  {
   "cell_type": "code",
   "execution_count": 81,
   "metadata": {
    "scrolled": false
   },
   "outputs": [
    {
     "data": {
      "text/html": [
       "\n",
       "        <iframe\n",
       "            width=\"100%\"\n",
       "            height=\"525px\"\n",
       "            src=\"https://plotly.com/~svaldes.salas/227.embed\"\n",
       "            frameborder=\"0\"\n",
       "            allowfullscreen\n",
       "        ></iframe>\n",
       "        "
      ],
      "text/plain": [
       "<IPython.lib.display.IFrame at 0x1241f9590>"
      ]
     },
     "execution_count": 81,
     "metadata": {},
     "output_type": "execute_result"
    }
   ],
   "source": [
    "#Let's check popularity of top consoles by region\n",
    "PcPs_sales = PcPs_all.loc[:,['Console','Total_sales','America_sales','PAL_sales','Japan_sales','Other_sales']]\n",
    "PcPs_sales = PcPs_sales.groupby(['Console']).sum()\n",
    "PcPs_perc = PcPs_sales.apply(lambda x:x/PcPs_sales['Total_sales']*100)\n",
    "#Re order rows so that consoles are grouped by companies\n",
    "PcPs_perc = PcPs_perc.reindex(['PC','PS','PS2','PS3','PS4','SNES','N64','Wii','X360','XB','XOne'])\n",
    "\n",
    "#plot percentage changes\n",
    "fig14 = go.Figure(data=[\n",
    "    go.Bar(name='North America', x=PcPs_perc.index, y=PcPs_perc['America_sales'], marker_color='#4d54e8'),\n",
    "    go.Bar(name='Japan', x=PcPs_perc.index, y=PcPs_perc['Japan_sales'], marker_color='#040b94'),\n",
    "    go.Bar(name='PAL region', x=PcPs_perc.index, y=PcPs_perc['PAL_sales'], marker_color='#c310cc'),\n",
    "    go.Bar(name='Other', x=PcPs_perc.index, y=PcPs_perc['Other_sales'], marker_color='#d4d420')])\n",
    "\n",
    "fig14.update_layout(barmode='stack')\n",
    "fig14.update_layout(title=\"Percentage distribution of sales by console and by region, 1990-2018\")\n",
    "py.iplot(fig14)"
   ]
  },
  {
   "cell_type": "code",
   "execution_count": 82,
   "metadata": {},
   "outputs": [],
   "source": [
    "#Save image\n",
    "fig14.write_image(\"images/fig14.png\")"
   ]
  },
  {
   "cell_type": "markdown",
   "metadata": {},
   "source": [
    "* PC sales have been dominant in PAL region.\n",
    "* Over time, play station has gained strength in PAL region: PS4 has the largest sales in this region.\n",
    "* Super Nintendo was dominant in Japan, but Wii is more popular in North America.\n",
    "* Finally, Xbox remains popular in North America."
   ]
  },
  {
   "cell_type": "markdown",
   "metadata": {},
   "source": [
    "### Top publishers and brands"
   ]
  },
  {
   "cell_type": "code",
   "execution_count": 83,
   "metadata": {
    "scrolled": false
   },
   "outputs": [
    {
     "data": {
      "text/html": [
       "\n",
       "        <iframe\n",
       "            width=\"100%\"\n",
       "            height=\"525px\"\n",
       "            src=\"https://plotly.com/~svaldes.salas/229.embed\"\n",
       "            frameborder=\"0\"\n",
       "            allowfullscreen\n",
       "        ></iframe>\n",
       "        "
      ],
      "text/plain": [
       "<IPython.lib.display.IFrame at 0x124318710>"
      ]
     },
     "execution_count": 83,
     "metadata": {},
     "output_type": "execute_result"
    }
   ],
   "source": [
    "#Check top 20 publishers since 2000\n",
    "all_publishers = games.loc[:,['Publisher','Total_sales','year','count','Console']]\n",
    "pub2000 = all_publishers[all_publishers['year']>2000]\n",
    "pub2000 = pub2000.loc[pub2000['Publisher']!='Unknown']\n",
    "pub = pub2000.groupby('Publisher').sum()[['count']].sort_values(by='count',ascending=False)\n",
    "\n",
    "#Create a table\n",
    "top20 = pub[:20]\n",
    "val = [x for x in range(1,21)]\n",
    "\n",
    "fig15 = go.Figure(data=[go.Table(header=dict(values=['Ranking','Top Publisher 2000-2018', 'Total number of video games']),\n",
    "                 cells=dict(values=[val, top20.index, top20['count']]))\n",
    "                     ])\n",
    "py.iplot(fig15)"
   ]
  },
  {
   "cell_type": "markdown",
   "metadata": {},
   "source": [
    "Ubisoft, Activision and Microsoft remain the publishers with the largest number of video games released between 2000 and 2018. Both Ubisoft and Activision have mostly released video games for PC. "
   ]
  },
  {
   "cell_type": "code",
   "execution_count": 84,
   "metadata": {},
   "outputs": [
    {
     "data": {
      "text/plain": [
       "PC     265\n",
       "DS     192\n",
       "Wii    127\n",
       "Name: Console, dtype: int64"
      ]
     },
     "execution_count": 84,
     "metadata": {},
     "output_type": "execute_result"
    }
   ],
   "source": [
    "ubisoft = pub2000[pub2000['Publisher']=='Ubisoft']\n",
    "ubisoft['Console'].value_counts()[:3]"
   ]
  },
  {
   "cell_type": "code",
   "execution_count": 85,
   "metadata": {},
   "outputs": [
    {
     "data": {
      "text/plain": [
       "PC      188\n",
       "X360    148\n",
       "DS      124\n",
       "Name: Console, dtype: int64"
      ]
     },
     "execution_count": 85,
     "metadata": {},
     "output_type": "execute_result"
    }
   ],
   "source": [
    "activision = pub2000[pub2000['Publisher']=='Activision']\n",
    "activision['Console'].value_counts()[:3]"
   ]
  },
  {
   "cell_type": "code",
   "execution_count": 86,
   "metadata": {
    "scrolled": false
   },
   "outputs": [
    {
     "data": {
      "text/html": [
       "\n",
       "        <iframe\n",
       "            width=\"100%\"\n",
       "            height=\"525px\"\n",
       "            src=\"https://plotly.com/~svaldes.salas/231.embed\"\n",
       "            frameborder=\"0\"\n",
       "            allowfullscreen\n",
       "        ></iframe>\n",
       "        "
      ],
      "text/plain": [
       "<IPython.lib.display.IFrame at 0x124aaf510>"
      ]
     },
     "execution_count": 86,
     "metadata": {},
     "output_type": "execute_result"
    }
   ],
   "source": [
    "#Check total sales of publisher for each year\n",
    "publisher = pub2000.groupby(['year','Publisher']).sum()[['count','Total_sales']]\n",
    "publisher.loc[publisher['count']>=200, 'releases']='Too many releases'\n",
    "publisher.loc[(publisher['count']>=100)&(publisher['count']<200), 'releases']='Many releases'\n",
    "publisher.loc[publisher['count']<100, 'releases']='Few releases'\n",
    "publisher = publisher.reset_index()\n",
    "#publisher.sort_values(by='count',ascending=False)\n",
    "fig16 = px.scatter(publisher, x=\"year\", y=\"Total_sales\", color='releases', hover_data=['Publisher'], size='count')\n",
    "fig16.update_layout(title=\"Releases and total sales by publisher, 2000-2010\")\n",
    "py.iplot(fig16)"
   ]
  },
  {
   "cell_type": "code",
   "execution_count": 88,
   "metadata": {},
   "outputs": [],
   "source": [
    "#Save image\n",
    "fig16.write_image(\"images/fig16.png\")"
   ]
  },
  {
   "cell_type": "markdown",
   "metadata": {},
   "source": [
    "By taking a closer look at the graph, we can see that Microsoft is an interesting case: it has published many video games (depicted in green color) but with very low revenues. Nintendo, on the other hand, shows the greatest performance: in the year 2006, with a medium size of released video games, Nintendo had one of the largest revenues in the last 19 years. Let's take a dive into the video games published by Nintendo in 2006."
   ]
  },
  {
   "cell_type": "code",
   "execution_count": 87,
   "metadata": {},
   "outputs": [
    {
     "data": {
      "text/html": [
       "\n",
       "        <iframe\n",
       "            width=\"100%\"\n",
       "            height=\"525px\"\n",
       "            src=\"https://plotly.com/~svaldes.salas/233.embed\"\n",
       "            frameborder=\"0\"\n",
       "            allowfullscreen\n",
       "        ></iframe>\n",
       "        "
      ],
      "text/plain": [
       "<IPython.lib.display.IFrame at 0x120707d10>"
      ]
     },
     "execution_count": 87,
     "metadata": {},
     "output_type": "execute_result"
    }
   ],
   "source": [
    "#Get video games released by Nintendo in 2006, by genre and by total sale\n",
    "nintendo = games[(games['Publisher']=='Nintendo')&(games['year']==2006)]\n",
    "nintendogames = nintendo.groupby('Genre').sum()[['count','Total_sales']].sort_values(by='Total_sales', ascending=False)\n",
    "totsaleval = round(nintendogames['Total_sales'],2)\n",
    "\n",
    "fig17 = go.Figure(data=[go.Table(header=dict(values=['<b>Genre<b>','<b>Number of video games in 2006<b>', \n",
    "                                                   '<b>Total sales in 2006 (million USD)<b>']),\n",
    "                 cells=dict(values=[nintendogames.index, nintendogames['count'], totsaleval]))\n",
    "                     ])\n",
    "py.iplot(fig17)"
   ]
  },
  {
   "cell_type": "markdown",
   "metadata": {},
   "source": [
    "Sports was the most profitable genre for Nintendo in that year (the same year of 2006 World Cup)."
   ]
  },
  {
   "cell_type": "markdown",
   "metadata": {},
   "source": [
    "## Conclusions"
   ]
  },
  {
   "cell_type": "markdown",
   "metadata": {},
   "source": [
    "1. There is a steady rise of number of video games released between 1980 to 2010. After 2010, the trend has been unclear. This might be a result of the **recent development of new online web-based and mobile digital platforms, such as Steam that may become strong competitors** for traditional publishers and consoles in the industry.\n",
    "\n",
    "\n",
    "2. The gaming industry is extremely dynamic. In the last 10 years the composition of the industry by genres have completely changed with the rise of new genres, such as visual+novel, party, and music. Nonetheless, **sports has continuously appeared as one of the top 3 most profitable genres throughout the years.**\n",
    "\n",
    "\n",
    "3. Indeed, **the gaming industry is becoming more profitable.** Total sales in 2010s are 33 times larger than total sales in 1980s. PC games might not be as profitable as other brands, but it compensates this gap by releasing vast amounts of video games.\n",
    "\n",
    "\n",
    "4. PC games are more popular in PAL region. Also, in recent years, Play Station has gained terrain in PAL region with its console PS4. On the other hand, Nintendo and Xbox have not been able to expand their market beyond North America (US, Canada, Mexico) as opposed to Play Station.\n",
    "\n",
    "\n",
    "5. **Innovation is what drives the business, and not numbers.** Between 2007 and 2011, publishers flooded the market with vast amounts of video games (specially PC publishers that attempted to gain terrain in the industry). However, this did not translate into higher profits. In 2006, on the other hand, Nintendo registered the highest profit of the past 2 decades. In this year, sport games became extremely profitable (perhaps due to the World Cup in Germany) and Wii was introduced into the market."
   ]
  },
  {
   "cell_type": "markdown",
   "metadata": {},
   "source": [
    "## References"
   ]
  },
  {
   "cell_type": "markdown",
   "metadata": {},
   "source": [
    "* Data scrapped from VGChartz website on November 30th, 2019.\n",
    "* Zion Market Research, \"Cloud Gaming Market by Cloud Type (Public, Private, and Hybrid), by Streaming Type (Video and File), and by Device (Smart Phones, Tablets, Gaming Consoles, and PCs): Global Industry Perspective, Comprehensive Analysis, and Forecast, 2018—2026\", available in: https://www.zionmarketresearch.com/report/cloud-gaming-market "
   ]
  }
 ],
 "metadata": {
  "kernelspec": {
   "display_name": "Python 3",
   "language": "python",
   "name": "python3"
  },
  "language_info": {
   "codemirror_mode": {
    "name": "ipython",
    "version": 3
   },
   "file_extension": ".py",
   "mimetype": "text/x-python",
   "name": "python",
   "nbconvert_exporter": "python",
   "pygments_lexer": "ipython3",
   "version": "3.7.4"
  },
  "toc": {
   "base_numbering": 1,
   "nav_menu": {
    "height": "132px",
    "width": "215px"
   },
   "number_sections": true,
   "sideBar": true,
   "skip_h1_title": true,
   "title_cell": "Table of Contents",
   "title_sidebar": "Contents",
   "toc_cell": false,
   "toc_position": {
    "height": "299.889px",
    "left": "33px",
    "top": "133.778px",
    "width": "165px"
   },
   "toc_section_display": true,
   "toc_window_display": true
  }
 },
 "nbformat": 4,
 "nbformat_minor": 2
}
