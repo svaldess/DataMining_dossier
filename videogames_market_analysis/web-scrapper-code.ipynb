{
 "cells": [
  {
   "cell_type": "markdown",
   "metadata": {},
   "source": [
    "# Web scrapper code\n",
    "\n",
    "The following code was used for extracting data from [Vgchartz website](http://www.vgchartz.com/gamedb/). This site has the following information about video games:\n",
    "\n",
    "* **Basic information:** name of the videogame, console, publisher and developer.\n",
    "* **Scores:** by critics, users and vgchartz. This project only used information about the critics' and users' scores.\n",
    "* **Sales:** total sales, total sales in North America, total sales in PAL region (see note above), total sales in Japan, other sales. All sales are in million dollars.\n",
    "* **Release date:** this includes day, month and year displayed in the following format: 10th Nov 19\n",
    "* All information can be searched by **'genre'**. \n",
    "\n",
    "_Note. PAL region refers to regions in Latin America, Middle East and Africa._\n",
    "\n",
    "The code first loops through a list of genres and then through all pages of each genre. To reduce the number of requests, the total number of results was set to 200. Beautiful soup was used to parse the HTML content.\n",
    "\n",
    "Important considerations about the code:\n",
    "* To avoid overloading the server, randint() function from Python's random module was used. This function generates integers within a specified interval. Also sleep() function was used to pause the execution of the loop.\n",
    "* The frequency of requests and the status code of the requests are used as a way to monitor the scrapping process and to make sure that the program is not overlading the server. In case the status code of the request is not '200' the loop breaks."
   ]
  },
  {
   "cell_type": "code",
   "execution_count": 4,
   "metadata": {},
   "outputs": [],
   "source": [
    "import requests \n",
    "from bs4 import BeautifulSoup\n",
    "import pandas as pd\n",
    "from time import sleep\n",
    "from random import randint\n",
    "from time import time\n",
    "from IPython.core.display import clear_output\n",
    "\n",
    "def scrap(genrelist, genrelen):\n",
    "    #create lists that represent the columns of the database\n",
    "    genre = []\n",
    "    #num = []\n",
    "    link = []\n",
    "    name = []\n",
    "    console = []\n",
    "    publisher = []\n",
    "    developer = []\n",
    "    critic_sc = []\n",
    "    user_sc = []\n",
    "    t_sales = []\n",
    "    na_sales = []\n",
    "    pal_sales = []\n",
    "    jap_sales = []\n",
    "    oth_sales = []\n",
    "    release = []\n",
    "    update = []\n",
    "        \n",
    "    #set a starting time; this will be used to monitor the scrapping process\n",
    "    start_time = time()\n",
    "    req = 0\n",
    "               \n",
    "    #loop genres\n",
    "    for genres in genrelist:\n",
    "        #loop pages \n",
    "        for page in range(1, int(genrelen[genres])+1):\n",
    "            url = \"http://www.vgchartz.com/games/games.php?page=\"+str(page)+\"&results=200&name=&console=&keyword=&publisher=&genre=\"+genres+\"&order=CriticScore&ownership=Both&boxart=Both&banner=Both&showdeleted=&region=All&goty_year=&developer=&direction=DESC&showtotalsales=1&shownasales=1&showpalsales=1&showjapansales=1&showothersales=1&showpublisher=1&showdeveloper=1&showreleasedate=1&showlastupdate=1&showvgchartzscore=0&showcriticscore=1&showuserscore=1&showshipped=0&alphasort=&showmultiplat=No\"\n",
    "            r = requests.get(url)\n",
    "            #pause the loop to avoid overloading the server\n",
    "            sleep(randint(5,8)) \n",
    "\n",
    "            #monitor the scraping process \n",
    "            req +=1\n",
    "            elapsed_time = time() - start_time\n",
    "            print('Request: {} | Frequency: {} requests/s'.format(req, req/elapsed_time))\n",
    "            #clear output after each iteration and replace it with information about the most recent request\n",
    "            clear_output(wait = True)\n",
    "            # warn in case I get a non-200 response\n",
    "            if r.status_code != 200:\n",
    "                print('Request: {} | Status code: {}'.format(req, r.status_code))\n",
    "                break\n",
    "            #end of monitor        \n",
    "            \n",
    "            soup = BeautifulSoup(r.content, 'lxml')\n",
    "            info = soup.find('div', id='generalBody').find('table')\n",
    "            for row in info.find_all('tr')[3:]:\n",
    "                item = row.find_all('td')\n",
    "                #extract all information \n",
    "                x1 = item[0].text #num\n",
    "                x2 = item[2].find('a')['href'].strip() #link of video game\n",
    "                x3 = item[2].find('a').text.strip() #name of video game\n",
    "                x4 = item[3].find('img')['alt'].strip() #console\n",
    "                x5 = item[4].text.strip() #publisher\n",
    "                x6 = item[5].text.strip() #developer\n",
    "                x7 = item[6].text.strip() #critic score\n",
    "                x8 = item[7].text.strip() #user score\n",
    "                x9 = item[8].text.strip() #total sales\n",
    "                x10 = item[9].text.strip() #sales in north america\n",
    "                x11 = item[10].text.strip() #sales in PAL region\n",
    "                x12 = item[11].text.strip() #sales in japan\n",
    "                x13 = item[12].text.strip() #other sales\n",
    "                x14 = item[13].text.strip() #release date\n",
    "                x15 = item[14].text.strip() #last update\n",
    "                #append information to lists\n",
    "                #num.append(x1)\n",
    "                link.append(x2)\n",
    "                name.append(x3)\n",
    "                console.append(x4)\n",
    "                publisher.append(x5)\n",
    "                developer.append(x6)\n",
    "                critic_sc.append(x7)\n",
    "                user_sc.append(x8)\n",
    "                t_sales.append(x9)\n",
    "                na_sales.append(x10)\n",
    "                pal_sales.append(x11)\n",
    "                jap_sales.append(x12)\n",
    "                oth_sales.append(x13)\n",
    "                release.append(x14)\n",
    "                update.append(x15)\n",
    "                genre.append(genres)\n",
    "        \n",
    "    #Create a dictionary with all columns. Include a column of genre.\n",
    "    data_dict = {'Genre':genre,'Name': name,'Console':console,'Publisher':publisher,'Developer': developer,\n",
    "                 'Critic_score':critic_sc,'User_score':user_sc,'Total_sales':t_sales,'America_sales':na_sales,\n",
    "                 'PAL_sales':pal_sales, 'Japan_sales':jap_sales,'Other_sales':oth_sales,'Release_date':release,\n",
    "                 'Update_date':update}\n",
    "        \n",
    "    df = pd.DataFrame.from_dict(data_dict)\n",
    "    return df "
   ]
  },
  {
   "cell_type": "markdown",
   "metadata": {},
   "source": [
    "## Sample for testing the scrapper"
   ]
  },
  {
   "cell_type": "markdown",
   "metadata": {},
   "source": [
    "Our total of requests will be 305. Therefore, it is better to try the code before extracting all information.  "
   ]
  },
  {
   "cell_type": "code",
   "execution_count": 5,
   "metadata": {},
   "outputs": [],
   "source": [
    "#A small sample is created with just 2 genres and 2 requests per genre\n",
    "small_genrelist = [\"Action\", \"Action-Adventure\"]\n",
    "small_genrelen = {'Action':'2','Action-Adventure':'2'}"
   ]
  },
  {
   "cell_type": "code",
   "execution_count": 6,
   "metadata": {},
   "outputs": [
    {
     "name": "stdout",
     "output_type": "stream",
     "text": [
      "Request: 4 | Frequency: 0.11595316887560933 requests/s\n"
     ]
    }
   ],
   "source": [
    "#Use this to extract data for the small sample\n",
    "df0 = scrap(small_genrelist, small_genrelen)"
   ]
  },
  {
   "cell_type": "code",
   "execution_count": 7,
   "metadata": {},
   "outputs": [
    {
     "data": {
      "text/html": [
       "<div>\n",
       "<style scoped>\n",
       "    .dataframe tbody tr th:only-of-type {\n",
       "        vertical-align: middle;\n",
       "    }\n",
       "\n",
       "    .dataframe tbody tr th {\n",
       "        vertical-align: top;\n",
       "    }\n",
       "\n",
       "    .dataframe thead th {\n",
       "        text-align: right;\n",
       "    }\n",
       "</style>\n",
       "<table border=\"1\" class=\"dataframe\">\n",
       "  <thead>\n",
       "    <tr style=\"text-align: right;\">\n",
       "      <th></th>\n",
       "      <th>Genre</th>\n",
       "      <th>Name</th>\n",
       "      <th>Console</th>\n",
       "      <th>Publisher</th>\n",
       "      <th>Developer</th>\n",
       "      <th>Critic_score</th>\n",
       "      <th>User_score</th>\n",
       "      <th>Total_sales</th>\n",
       "      <th>America_sales</th>\n",
       "      <th>PAL_sales</th>\n",
       "      <th>Japan_sales</th>\n",
       "      <th>Other_sales</th>\n",
       "      <th>Release_date</th>\n",
       "      <th>Update_date</th>\n",
       "    </tr>\n",
       "  </thead>\n",
       "  <tbody>\n",
       "    <tr>\n",
       "      <th>0</th>\n",
       "      <td>Action</td>\n",
       "      <td>Final Fight</td>\n",
       "      <td>SNES</td>\n",
       "      <td>Capcom</td>\n",
       "      <td>Capcom</td>\n",
       "      <td>10.0</td>\n",
       "      <td>N/A</td>\n",
       "      <td>1.56m</td>\n",
       "      <td>0.67m</td>\n",
       "      <td>0.17m</td>\n",
       "      <td>0.69m</td>\n",
       "      <td>0.03m</td>\n",
       "      <td>10th Nov 91</td>\n",
       "      <td>N/A</td>\n",
       "    </tr>\n",
       "    <tr>\n",
       "      <th>1</th>\n",
       "      <td>Action</td>\n",
       "      <td>Red Dead Redemption: Undead Nightmare</td>\n",
       "      <td>PS3</td>\n",
       "      <td>Rockstar Games</td>\n",
       "      <td>Rockstar San Diego</td>\n",
       "      <td>10.0</td>\n",
       "      <td>N/A</td>\n",
       "      <td>1.18m</td>\n",
       "      <td>0.47m</td>\n",
       "      <td>0.45m</td>\n",
       "      <td>0.06m</td>\n",
       "      <td>0.19m</td>\n",
       "      <td>23rd Nov 10</td>\n",
       "      <td>N/A</td>\n",
       "    </tr>\n",
       "    <tr>\n",
       "      <th>2</th>\n",
       "      <td>Action</td>\n",
       "      <td>Red Dead Redemption: Undead Nightmare</td>\n",
       "      <td>X360</td>\n",
       "      <td>Rockstar Games</td>\n",
       "      <td>Rockstar San Diego</td>\n",
       "      <td>10.0</td>\n",
       "      <td>N/A</td>\n",
       "      <td>1.11m</td>\n",
       "      <td>0.61m</td>\n",
       "      <td>0.38m</td>\n",
       "      <td>0.02m</td>\n",
       "      <td>0.10m</td>\n",
       "      <td>23rd Nov 10</td>\n",
       "      <td>N/A</td>\n",
       "    </tr>\n",
       "    <tr>\n",
       "      <th>3</th>\n",
       "      <td>Action</td>\n",
       "      <td>Grand Theft Auto IV</td>\n",
       "      <td>PS3</td>\n",
       "      <td>Rockstar Games</td>\n",
       "      <td>Rockstar North</td>\n",
       "      <td>10.0</td>\n",
       "      <td>9.0</td>\n",
       "      <td>10.57m</td>\n",
       "      <td>4.79m</td>\n",
       "      <td>3.73m</td>\n",
       "      <td>0.44m</td>\n",
       "      <td>1.62m</td>\n",
       "      <td>29th Apr 08</td>\n",
       "      <td>N/A</td>\n",
       "    </tr>\n",
       "    <tr>\n",
       "      <th>4</th>\n",
       "      <td>Action</td>\n",
       "      <td>Grand Theft Auto IV</td>\n",
       "      <td>X360</td>\n",
       "      <td>Rockstar Games</td>\n",
       "      <td>Rockstar North</td>\n",
       "      <td>10.0</td>\n",
       "      <td>N/A</td>\n",
       "      <td>11.09m</td>\n",
       "      <td>6.80m</td>\n",
       "      <td>3.11m</td>\n",
       "      <td>0.14m</td>\n",
       "      <td>1.04m</td>\n",
       "      <td>29th Apr 08</td>\n",
       "      <td>N/A</td>\n",
       "    </tr>\n",
       "    <tr>\n",
       "      <th>5</th>\n",
       "      <td>Action</td>\n",
       "      <td>Rockstar Games Double Pack: Grand Theft Auto I...</td>\n",
       "      <td>XB</td>\n",
       "      <td>Rockstar Games</td>\n",
       "      <td>Rockstar North</td>\n",
       "      <td>9.8</td>\n",
       "      <td>N/A</td>\n",
       "      <td>2.49m</td>\n",
       "      <td>1.84m</td>\n",
       "      <td>0.56m</td>\n",
       "      <td>N/A</td>\n",
       "      <td>0.09m</td>\n",
       "      <td>31st Oct 03</td>\n",
       "      <td>N/A</td>\n",
       "    </tr>\n",
       "    <tr>\n",
       "      <th>6</th>\n",
       "      <td>Action</td>\n",
       "      <td>Grand Theft Auto V</td>\n",
       "      <td>PS4</td>\n",
       "      <td>Rockstar Games</td>\n",
       "      <td>Rockstar North</td>\n",
       "      <td>9.7</td>\n",
       "      <td>N/A</td>\n",
       "      <td>19.39m</td>\n",
       "      <td>6.06m</td>\n",
       "      <td>9.71m</td>\n",
       "      <td>0.60m</td>\n",
       "      <td>3.02m</td>\n",
       "      <td>18th Nov 14</td>\n",
       "      <td>03rd Jan 18</td>\n",
       "    </tr>\n",
       "    <tr>\n",
       "      <th>7</th>\n",
       "      <td>Action</td>\n",
       "      <td>God of War (2018)</td>\n",
       "      <td>PS4</td>\n",
       "      <td>Sony Interactive Entertainment</td>\n",
       "      <td>SIE Santa Monica Studio</td>\n",
       "      <td>9.7</td>\n",
       "      <td>10.0</td>\n",
       "      <td>6.15m</td>\n",
       "      <td>2.83m</td>\n",
       "      <td>2.17m</td>\n",
       "      <td>0.13m</td>\n",
       "      <td>1.02m</td>\n",
       "      <td>20th Apr 18</td>\n",
       "      <td>03rd Dec 18</td>\n",
       "    </tr>\n",
       "    <tr>\n",
       "      <th>8</th>\n",
       "      <td>Action</td>\n",
       "      <td>Rockstar Games Double Pack: Grand Theft Auto I...</td>\n",
       "      <td>PS2</td>\n",
       "      <td>Rockstar Games</td>\n",
       "      <td>Rockstar North</td>\n",
       "      <td>9.7</td>\n",
       "      <td>N/A</td>\n",
       "      <td>1.72m</td>\n",
       "      <td>0.85m</td>\n",
       "      <td>0.66m</td>\n",
       "      <td>N/A</td>\n",
       "      <td>0.22m</td>\n",
       "      <td>21st Oct 03</td>\n",
       "      <td>N/A</td>\n",
       "    </tr>\n",
       "    <tr>\n",
       "      <th>9</th>\n",
       "      <td>Action</td>\n",
       "      <td>Resident Evil 4</td>\n",
       "      <td>PS2</td>\n",
       "      <td>Capcom</td>\n",
       "      <td>Capcom Production Studio 4</td>\n",
       "      <td>9.6</td>\n",
       "      <td>9.3</td>\n",
       "      <td>3.62m</td>\n",
       "      <td>2.08m</td>\n",
       "      <td>0.83m</td>\n",
       "      <td>0.46m</td>\n",
       "      <td>0.25m</td>\n",
       "      <td>25th Oct 05</td>\n",
       "      <td>N/A</td>\n",
       "    </tr>\n",
       "  </tbody>\n",
       "</table>\n",
       "</div>"
      ],
      "text/plain": [
       "    Genre                                               Name Console  \\\n",
       "0  Action                                        Final Fight    SNES   \n",
       "1  Action              Red Dead Redemption: Undead Nightmare     PS3   \n",
       "2  Action              Red Dead Redemption: Undead Nightmare    X360   \n",
       "3  Action                                Grand Theft Auto IV     PS3   \n",
       "4  Action                                Grand Theft Auto IV    X360   \n",
       "5  Action  Rockstar Games Double Pack: Grand Theft Auto I...      XB   \n",
       "6  Action                                 Grand Theft Auto V     PS4   \n",
       "7  Action                                  God of War (2018)     PS4   \n",
       "8  Action  Rockstar Games Double Pack: Grand Theft Auto I...     PS2   \n",
       "9  Action                                    Resident Evil 4     PS2   \n",
       "\n",
       "                        Publisher                   Developer Critic_score  \\\n",
       "0                          Capcom                      Capcom         10.0   \n",
       "1                  Rockstar Games          Rockstar San Diego         10.0   \n",
       "2                  Rockstar Games          Rockstar San Diego         10.0   \n",
       "3                  Rockstar Games              Rockstar North         10.0   \n",
       "4                  Rockstar Games              Rockstar North         10.0   \n",
       "5                  Rockstar Games              Rockstar North          9.8   \n",
       "6                  Rockstar Games              Rockstar North          9.7   \n",
       "7  Sony Interactive Entertainment     SIE Santa Monica Studio          9.7   \n",
       "8                  Rockstar Games              Rockstar North          9.7   \n",
       "9                          Capcom  Capcom Production Studio 4          9.6   \n",
       "\n",
       "  User_score Total_sales America_sales PAL_sales Japan_sales Other_sales  \\\n",
       "0        N/A       1.56m         0.67m     0.17m       0.69m       0.03m   \n",
       "1        N/A       1.18m         0.47m     0.45m       0.06m       0.19m   \n",
       "2        N/A       1.11m         0.61m     0.38m       0.02m       0.10m   \n",
       "3        9.0      10.57m         4.79m     3.73m       0.44m       1.62m   \n",
       "4        N/A      11.09m         6.80m     3.11m       0.14m       1.04m   \n",
       "5        N/A       2.49m         1.84m     0.56m         N/A       0.09m   \n",
       "6        N/A      19.39m         6.06m     9.71m       0.60m       3.02m   \n",
       "7       10.0       6.15m         2.83m     2.17m       0.13m       1.02m   \n",
       "8        N/A       1.72m         0.85m     0.66m         N/A       0.22m   \n",
       "9        9.3       3.62m         2.08m     0.83m       0.46m       0.25m   \n",
       "\n",
       "  Release_date  Update_date  \n",
       "0  10th Nov 91          N/A  \n",
       "1  23rd Nov 10          N/A  \n",
       "2  23rd Nov 10          N/A  \n",
       "3  29th Apr 08          N/A  \n",
       "4  29th Apr 08          N/A  \n",
       "5  31st Oct 03          N/A  \n",
       "6  18th Nov 14  03rd Jan 18  \n",
       "7  20th Apr 18  03rd Dec 18  \n",
       "8  21st Oct 03          N/A  \n",
       "9  25th Oct 05          N/A  "
      ]
     },
     "execution_count": 7,
     "metadata": {},
     "output_type": "execute_result"
    }
   ],
   "source": [
    "#Use this to display the first 10 rows of the data frame\n",
    "df0[:10]"
   ]
  },
  {
   "cell_type": "code",
   "execution_count": 8,
   "metadata": {},
   "outputs": [],
   "source": [
    "#Use this to store the data in a csv\n",
    "df0.to_csv(\"games_sample.csv\")"
   ]
  },
  {
   "cell_type": "markdown",
   "metadata": {},
   "source": [
    "## Complete database"
   ]
  },
  {
   "cell_type": "markdown",
   "metadata": {},
   "source": [
    "The code works, therefore, we can extract all information with the 305 requests.\n",
    "**Caution:** The code will take a while to extract all information. It could last up to 30 to 40 minutes."
   ]
  },
  {
   "cell_type": "code",
   "execution_count": 9,
   "metadata": {},
   "outputs": [],
   "source": [
    "genres = [\"Action\", \"Action-Adventure\", \"Adventure\", \"Board+Game\", \"Education\", \"Fighting\", \n",
    "         \"Misc\", \"MMO\", \"Music\",\"Party\",\"Platform\", \"Puzzle\", \"Racing\", \"Role-Playing\", \"Sandbox\", \n",
    "         \"Shooter\", \"Simulation\",\"Sports\", \"Strategy\", \"Visual+Novel\"]\n",
    "\n",
    "genres_len = {'Action':'39','Action-Adventure':'4','Adventure':'28','Board+Game':'1','Education':'1','Fighting':'11',\n",
    "             'Misc':'47','MMO':'1','Music':'2','Party':'1','Platform':'18','Puzzle':'17','Racing':'16','Role-Playing':'24',\n",
    "             'Sandbox':'1','Shooter':'24','Simulation':'14','Sports':'27','Strategy':'27','Visual+Novel':'2'}"
   ]
  },
  {
   "cell_type": "code",
   "execution_count": 10,
   "metadata": {},
   "outputs": [
    {
     "name": "stdout",
     "output_type": "stream",
     "text": [
      "Request: 305 | Frequency: 0.12416177727787629 requests/s\n"
     ]
    }
   ],
   "source": [
    "dfall = scrap(genres, genres_len)"
   ]
  },
  {
   "cell_type": "code",
   "execution_count": 11,
   "metadata": {},
   "outputs": [],
   "source": [
    "#Store the extracted data into a csv \n",
    "dfall.to_csv(\"vgames.csv\")"
   ]
  },
  {
   "cell_type": "code",
   "execution_count": 12,
   "metadata": {},
   "outputs": [
    {
     "data": {
      "text/plain": [
       "56897"
      ]
     },
     "execution_count": 12,
     "metadata": {},
     "output_type": "execute_result"
    }
   ],
   "source": [
    "#check the length\n",
    "len(dfall)"
   ]
  },
  {
   "cell_type": "code",
   "execution_count": 13,
   "metadata": {},
   "outputs": [
    {
     "data": {
      "text/plain": [
       "pandas.core.frame.DataFrame"
      ]
     },
     "execution_count": 13,
     "metadata": {},
     "output_type": "execute_result"
    }
   ],
   "source": [
    "#check the type of the data\n",
    "type(dfall)"
   ]
  },
  {
   "cell_type": "code",
   "execution_count": 14,
   "metadata": {},
   "outputs": [
    {
     "data": {
      "text/plain": [
       "(56897, 14)"
      ]
     },
     "execution_count": 14,
     "metadata": {},
     "output_type": "execute_result"
    }
   ],
   "source": [
    "#Check number of rows and columns\n",
    "dfall.shape"
   ]
  }
 ],
 "metadata": {
  "kernelspec": {
   "display_name": "Python 3",
   "language": "python",
   "name": "python3"
  },
  "language_info": {
   "codemirror_mode": {
    "name": "ipython",
    "version": 3
   },
   "file_extension": ".py",
   "mimetype": "text/x-python",
   "name": "python",
   "nbconvert_exporter": "python",
   "pygments_lexer": "ipython3",
   "version": "3.7.4"
  },
  "toc": {
   "base_numbering": 1,
   "nav_menu": {},
   "number_sections": true,
   "sideBar": true,
   "skip_h1_title": true,
   "title_cell": "Table of Contents",
   "title_sidebar": "Contents",
   "toc_cell": false,
   "toc_position": {},
   "toc_section_display": true,
   "toc_window_display": false
  }
 },
 "nbformat": 4,
 "nbformat_minor": 2
}
