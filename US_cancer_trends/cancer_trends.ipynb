{
 "cells": [
  {
   "cell_type": "markdown",
   "metadata": {
    "toc": true
   },
   "source": [
    "<h1>Outline<span class=\"tocSkip\"></span></h1>\n",
    "<div class=\"toc\"><ul class=\"toc-item\"><li><span><a href=\"#Introduction-and-objectives\" data-toc-modified-id=\"Introduction-and-objectives-1\"><span class=\"toc-item-num\">1&nbsp;&nbsp;</span>Introduction and objectives</a></span></li><li><span><a href=\"#Source-and-cleaning-process-\" data-toc-modified-id=\"Source-and-cleaning-process--2\"><span class=\"toc-item-num\">2&nbsp;&nbsp;</span>Source and cleaning process <a class=\"anchor\" id=\"2\"></a></a></span><ul class=\"toc-item\"><li><span><a href=\"#About-the-source\" data-toc-modified-id=\"About-the-source-2.1\"><span class=\"toc-item-num\">2.1&nbsp;&nbsp;</span>About the source</a></span></li><li><span><a href=\"#Required-packages\" data-toc-modified-id=\"Required-packages-2.2\"><span class=\"toc-item-num\">2.2&nbsp;&nbsp;</span>Required packages</a></span></li><li><span><a href=\"#Retrieving-the-data\" data-toc-modified-id=\"Retrieving-the-data-2.3\"><span class=\"toc-item-num\">2.3&nbsp;&nbsp;</span>Retrieving the data</a></span></li><li><span><a href=\"#Data-preparation-and-cleaning\" data-toc-modified-id=\"Data-preparation-and-cleaning-2.4\"><span class=\"toc-item-num\">2.4&nbsp;&nbsp;</span>Data preparation and cleaning</a></span></li></ul></li><li><span><a href=\"#Overall-trends-of-all-cancer-sites-in-the-U.S.\" data-toc-modified-id=\"Overall-trends-of-all-cancer-sites-in-the-U.S.-3\"><span class=\"toc-item-num\">3&nbsp;&nbsp;</span>Overall trends of all cancer sites in the U.S.</a></span><ul class=\"toc-item\"><li><span><a href=\"#Incidence-and-Mortality-by-Regions\" data-toc-modified-id=\"Incidence-and-Mortality-by-Regions-3.1\"><span class=\"toc-item-num\">3.1&nbsp;&nbsp;</span>Incidence and Mortality by Regions</a></span></li><li><span><a href=\"#Incidence-and-Mortality-by-State\" data-toc-modified-id=\"Incidence-and-Mortality-by-State-3.2\"><span class=\"toc-item-num\">3.2&nbsp;&nbsp;</span>Incidence and Mortality by State</a></span></li><li><span><a href=\"#Incidence-by-age\" data-toc-modified-id=\"Incidence-by-age-3.3\"><span class=\"toc-item-num\">3.3&nbsp;&nbsp;</span>Incidence by age</a></span></li></ul></li><li><span><a href=\"#Most-common-cancer-sites-in-the-U.S.\" data-toc-modified-id=\"Most-common-cancer-sites-in-the-U.S.-4\"><span class=\"toc-item-num\">4&nbsp;&nbsp;</span>Most common cancer sites in the U.S.</a></span><ul class=\"toc-item\"><li><span><a href=\"#Top-5-cancer-sites-in-2016\" data-toc-modified-id=\"Top-5-cancer-sites-in-2016-4.1\"><span class=\"toc-item-num\">4.1&nbsp;&nbsp;</span>Top 5 cancer sites in 2016</a></span></li><li><span><a href=\"#Top-5-cancer-sites-by-sex-in-2016\" data-toc-modified-id=\"Top-5-cancer-sites-by-sex-in-2016-4.2\"><span class=\"toc-item-num\">4.2&nbsp;&nbsp;</span>Top 5 cancer sites by sex in 2016</a></span></li><li><span><a href=\"#Incidence-and-mortality-of-top-10-cancer-sites-(2006-2016)\" data-toc-modified-id=\"Incidence-and-mortality-of-top-10-cancer-sites-(2006-2016)-4.3\"><span class=\"toc-item-num\">4.3&nbsp;&nbsp;</span>Incidence and mortality of top 10 cancer sites (2006-2016)</a></span></li></ul></li><li><span><a href=\"#Female-Breast-Cancer-in-the-U.S.\" data-toc-modified-id=\"Female-Breast-Cancer-in-the-U.S.-5\"><span class=\"toc-item-num\">5&nbsp;&nbsp;</span>Female Breast Cancer in the U.S.</a></span><ul class=\"toc-item\"><li><span><a href=\"#Most-affected-women-by-race\" data-toc-modified-id=\"Most-affected-women-by-race-5.1\"><span class=\"toc-item-num\">5.1&nbsp;&nbsp;</span>Most affected women by race</a></span></li><li><span><a href=\"#Mortality-rates-by-age-and-by-race\" data-toc-modified-id=\"Mortality-rates-by-age-and-by-race-5.2\"><span class=\"toc-item-num\">5.2&nbsp;&nbsp;</span>Mortality rates by age and by race</a></span></li><li><span><a href=\"#Change-by-state-(from-2006-to-2016)\" data-toc-modified-id=\"Change-by-state-(from-2006-to-2016)-5.3\"><span class=\"toc-item-num\">5.3&nbsp;&nbsp;</span>Change by state (from 2006 to 2016)</a></span></li><li><span><a href=\"#Incidence-and-mortality-rates-by-state-in-2016\" data-toc-modified-id=\"Incidence-and-mortality-rates-by-state-in-2016-5.4\"><span class=\"toc-item-num\">5.4&nbsp;&nbsp;</span>Incidence and mortality rates by state in 2016</a></span></li></ul></li><li><span><a href=\"#Conclusions\" data-toc-modified-id=\"Conclusions-6\"><span class=\"toc-item-num\">6&nbsp;&nbsp;</span>Conclusions</a></span></li></ul></div>"
   ]
  },
  {
   "cell_type": "markdown",
   "metadata": {},
   "source": [
    "# Project 2: Cancer Statistics in the United Sates"
   ]
  },
  {
   "cell_type": "markdown",
   "metadata": {},
   "source": [
    "## Introduction and objectives\n",
    "\n",
    "Cancer has a major impact in the United States population. Statistics about cancer provide a picture of the burden of cancer on society in a specific period. They help us identify trends and patterns across the population, as well as among specific groups defined by sex, age, race (or ethnic group), geographic location, or other categories. Understanding cancer statistics is crucial for developing effective public policies and, therefore, addressing the challenges that cancer poses to society.\n",
    "\n",
    "The main objectives of this project are:\n",
    "1. To identify the states with the highest incidence and mortality cancer rates.\n",
    "2. To identify the most common cancer types in terms of incidence and mortality in 2016.\n",
    "3. To identify the most common cancer types by sex, race and age.\n",
    "\n",
    "\n"
   ]
  },
  {
   "cell_type": "markdown",
   "metadata": {},
   "source": [
    "<a id='section2'></a>\n",
    "\n",
    "## Source and cleaning process <a class=\"anchor\" id=\"2\"></a>"
   ]
  },
  {
   "cell_type": "markdown",
   "metadata": {},
   "source": [
    "### About the source\n",
    "\n",
    "Data was retrieved from the United States Cancer Statistics [USCS](https://www.cdc.gov/cancer/uscs/about/index.htm) which is the official government statistics on cancer. These statistics include cancer registry data from CDC’s National Program of Cancer Registries (NPCR) and the National Cancer Institute’s (NCI) Surveillance, Epidemiology, and End Results (SEER) Program,external icon as well as mortality data from CDC’s National Center for Health Statistics. \n",
    "\n",
    "This national coverage enables to:\n",
    "- Monitor populations most affected by cancer.\n",
    "- Evaluate the success of programs designed to prevent cancer and diagnose cancer at early stages.\n",
    "- Identify additional needs for cancer prevention and control efforts at national, state, and local levels.\n",
    "\n",
    "Eleven [ASCII files](https://www.cdc.gov/cancer/uscs/dataviz/download_data.htm) with the data were retrieved from the source. **These files have U.S. Cancer Statistics data 1999-2016**. All sets have \"|\" as a delimiter. These files include: \n",
    "- Cancer types grouped by race and etnicity; \n",
    "- Cancer types grouped by state and region;\n",
    "- Cancer types grouped by age, race and ethinicity;\n",
    "- Brain cancers by tumor type;\n",
    "- Cancer types grouped by county."
   ]
  },
  {
   "cell_type": "markdown",
   "metadata": {},
   "source": [
    "### Required packages"
   ]
  },
  {
   "cell_type": "code",
   "execution_count": 84,
   "metadata": {},
   "outputs": [],
   "source": [
    "#!pip install plotly\n",
    "#!pip install chart_studio"
   ]
  },
  {
   "cell_type": "code",
   "execution_count": 3,
   "metadata": {},
   "outputs": [],
   "source": [
    "import zipfile\n",
    "import pandas as pd\n",
    "import os\n",
    "\n",
    "# Ignore warnings\n",
    "import warnings\n",
    "warnings.filterwarnings('ignore')\n",
    "\n",
    "# Some charts will be displayed in matplotlib and seaborn\n",
    "import matplotlib.pyplot as plt\n",
    "import seaborn as sns\n",
    "%matplotlib inline\n",
    "\n",
    "# Other charts will be displayed with plotly, for nice data visualization\n",
    "import plotly\n",
    "import plotly.graph_objects as go\n",
    "from plotly.subplots import make_subplots\n",
    "import chart_studio.plotly as py"
   ]
  },
  {
   "cell_type": "code",
   "execution_count": 4,
   "metadata": {},
   "outputs": [
    {
     "name": "stdout",
     "output_type": "stream",
     "text": [
      "4.7.1\n"
     ]
    }
   ],
   "source": [
    "# Insert plotly user ID and user key\n",
    "#py.sign_in(user_id, user_key)\n",
    "#print(plotly.__version__)"
   ]
  },
  {
   "cell_type": "code",
   "execution_count": 85,
   "metadata": {},
   "outputs": [],
   "source": [
    "# Create directory for saving images\n",
    "import os\n",
    "if not os.path.exists(\"images\"):\n",
    "    os.mkdir(\"images\")"
   ]
  },
  {
   "cell_type": "markdown",
   "metadata": {},
   "source": [
    "### Retrieving the data"
   ]
  },
  {
   "cell_type": "code",
   "execution_count": 9,
   "metadata": {},
   "outputs": [],
   "source": [
    "# In case you download the zipfiles directly from the source, this code will extract the data\n",
    "zipfile.ZipFile('USCS-1999-2016-ASCII.zip').extractall('.')"
   ]
  },
  {
   "cell_type": "code",
   "execution_count": 10,
   "metadata": {},
   "outputs": [],
   "source": [
    "# define a function to extract information from the files \n",
    "def openFile(name):\n",
    "    fh = open(name,'r')\n",
    "    file = fh.readlines()\n",
    "    data = pd.read_csv(name, sep='|')\n",
    "    return data"
   ]
  },
  {
   "cell_type": "code",
   "execution_count": 11,
   "metadata": {},
   "outputs": [],
   "source": [
    "ByArea = openFile('BYAREA.TXT')"
   ]
  },
  {
   "cell_type": "code",
   "execution_count": 12,
   "metadata": {},
   "outputs": [
    {
     "data": {
      "text/plain": [
       "(1089254, 14)"
      ]
     },
     "execution_count": 12,
     "metadata": {},
     "output_type": "execute_result"
    }
   ],
   "source": [
    "# explore 'ByArea'\n",
    "ByArea.shape"
   ]
  },
  {
   "cell_type": "code",
   "execution_count": 13,
   "metadata": {},
   "outputs": [
    {
     "data": {
      "text/html": [
       "<div>\n",
       "<style scoped>\n",
       "    .dataframe tbody tr th:only-of-type {\n",
       "        vertical-align: middle;\n",
       "    }\n",
       "\n",
       "    .dataframe tbody tr th {\n",
       "        vertical-align: top;\n",
       "    }\n",
       "\n",
       "    .dataframe thead th {\n",
       "        text-align: right;\n",
       "    }\n",
       "</style>\n",
       "<table border=\"1\" class=\"dataframe\">\n",
       "  <thead>\n",
       "    <tr style=\"text-align: right;\">\n",
       "      <th></th>\n",
       "      <th>AREA</th>\n",
       "      <th>AGE_ADJUSTED_CI_LOWER</th>\n",
       "      <th>AGE_ADJUSTED_CI_UPPER</th>\n",
       "      <th>AGE_ADJUSTED_RATE</th>\n",
       "      <th>COUNT</th>\n",
       "      <th>EVENT_TYPE</th>\n",
       "      <th>POPULATION</th>\n",
       "      <th>RACE</th>\n",
       "      <th>SEX</th>\n",
       "      <th>SITE</th>\n",
       "      <th>YEAR</th>\n",
       "      <th>CRUDE_CI_LOWER</th>\n",
       "      <th>CRUDE_CI_UPPER</th>\n",
       "      <th>CRUDE_RATE</th>\n",
       "    </tr>\n",
       "  </thead>\n",
       "  <tbody>\n",
       "    <tr>\n",
       "      <th>0</th>\n",
       "      <td>Alabama</td>\n",
       "      <td>359.7</td>\n",
       "      <td>374.8</td>\n",
       "      <td>367.2</td>\n",
       "      <td>9300</td>\n",
       "      <td>Incidence</td>\n",
       "      <td>2293259</td>\n",
       "      <td>All Races</td>\n",
       "      <td>Female</td>\n",
       "      <td>All Cancer Sites Combined</td>\n",
       "      <td>1999</td>\n",
       "      <td>397.3</td>\n",
       "      <td>413.9</td>\n",
       "      <td>405.5</td>\n",
       "    </tr>\n",
       "    <tr>\n",
       "      <th>1</th>\n",
       "      <td>Alabama</td>\n",
       "      <td>160.6</td>\n",
       "      <td>170.5</td>\n",
       "      <td>165.5</td>\n",
       "      <td>4366</td>\n",
       "      <td>Mortality</td>\n",
       "      <td>2293259</td>\n",
       "      <td>All Races</td>\n",
       "      <td>Female</td>\n",
       "      <td>All Cancer Sites Combined</td>\n",
       "      <td>1999</td>\n",
       "      <td>184.8</td>\n",
       "      <td>196.1</td>\n",
       "      <td>190.4</td>\n",
       "    </tr>\n",
       "    <tr>\n",
       "      <th>2</th>\n",
       "      <td>Alabama</td>\n",
       "      <td>362.0</td>\n",
       "      <td>377.0</td>\n",
       "      <td>369.5</td>\n",
       "      <td>9473</td>\n",
       "      <td>Incidence</td>\n",
       "      <td>2302835</td>\n",
       "      <td>All Races</td>\n",
       "      <td>Female</td>\n",
       "      <td>All Cancer Sites Combined</td>\n",
       "      <td>2000</td>\n",
       "      <td>403.1</td>\n",
       "      <td>419.7</td>\n",
       "      <td>411.4</td>\n",
       "    </tr>\n",
       "  </tbody>\n",
       "</table>\n",
       "</div>"
      ],
      "text/plain": [
       "      AREA AGE_ADJUSTED_CI_LOWER AGE_ADJUSTED_CI_UPPER AGE_ADJUSTED_RATE  \\\n",
       "0  Alabama                 359.7                 374.8             367.2   \n",
       "1  Alabama                 160.6                 170.5             165.5   \n",
       "2  Alabama                 362.0                 377.0             369.5   \n",
       "\n",
       "  COUNT EVENT_TYPE  POPULATION       RACE     SEX                       SITE  \\\n",
       "0  9300  Incidence     2293259  All Races  Female  All Cancer Sites Combined   \n",
       "1  4366  Mortality     2293259  All Races  Female  All Cancer Sites Combined   \n",
       "2  9473  Incidence     2302835  All Races  Female  All Cancer Sites Combined   \n",
       "\n",
       "   YEAR CRUDE_CI_LOWER CRUDE_CI_UPPER CRUDE_RATE  \n",
       "0  1999          397.3          413.9      405.5  \n",
       "1  1999          184.8          196.1      190.4  \n",
       "2  2000          403.1          419.7      411.4  "
      ]
     },
     "execution_count": 13,
     "metadata": {},
     "output_type": "execute_result"
    }
   ],
   "source": [
    "ByArea[:3]"
   ]
  },
  {
   "cell_type": "code",
   "execution_count": 14,
   "metadata": {},
   "outputs": [],
   "source": [
    "# Keep original data frame \n",
    "original = ByArea"
   ]
  },
  {
   "cell_type": "markdown",
   "metadata": {},
   "source": [
    "### Data preparation and cleaning"
   ]
  },
  {
   "cell_type": "markdown",
   "metadata": {},
   "source": [
    "**Prepare column names and titles dictionary.** "
   ]
  },
  {
   "cell_type": "code",
   "execution_count": 15,
   "metadata": {},
   "outputs": [],
   "source": [
    "# Rename header\n",
    "ByArea.rename(columns={'AREA':'STATE', 'CRUDE_RATE':'RATE','EVENT_TYPE':'EVENT'}, inplace=True)"
   ]
  },
  {
   "cell_type": "code",
   "execution_count": 16,
   "metadata": {},
   "outputs": [],
   "source": [
    "# Create a dictionary with descriptions of the titles, in case I forget the contents\n",
    "titles_dict = {'AREA':'Given geographic area in United States', \n",
    "               'AGE_ADJUSTED_CI_LOWER':'interval, see AGE_ADJUSTED_RATE', \n",
    "               'AGE_ADJUSTED_CI_UPPER':'interval, see AGE_ADJUSTED_RATE', \n",
    "               'AGE_ADJUSTED_RATE':'Incidence or mortality rate adjusted to the age distribution of a standard population', \n",
    "               'COUNT':'Number of people diagnosed with cancer', \n",
    "               'EVENT':{'Incidence':'The number of new events in a given population during a given time frame in a given geographic area per 100,000 people.',\n",
    "                            'Mortality': 'The condition of being subject to death.'},\n",
    "               'POPULATION':'number of inhabitants', \n",
    "               'RACE':'Group of people who are relatively homogenous with respect to biological inheritance',\n",
    "               'SEX': 'Male/Female',\n",
    "               'SITE': 'Location or organ (site) in the body where the cancer first occurred',\n",
    "               'YEAR': 'From 1999 to 2016',\n",
    "               'CRUDE_CI_LOWER':'interval, see CRUDE_RATE',\n",
    "               'CRUDE_CI_UPPER': 'interval, see CRUDE_RATE',\n",
    "               'RATE':'Absolute number in a population during a given time frame, divided by the population in a given geographic area'\n",
    "              } "
   ]
  },
  {
   "cell_type": "code",
   "execution_count": 17,
   "metadata": {},
   "outputs": [],
   "source": [
    "# Drop extra columns\n",
    "ByArea = ByArea.drop(['AGE_ADJUSTED_CI_LOWER', 'AGE_ADJUSTED_CI_UPPER',\n",
    "                      'AGE_ADJUSTED_RATE','CRUDE_CI_LOWER', 'CRUDE_CI_UPPER'], axis=1)"
   ]
  },
  {
   "cell_type": "markdown",
   "metadata": {},
   "source": [
    "**Understand and prepare the data in each column.**"
   ]
  },
  {
   "cell_type": "code",
   "execution_count": 18,
   "metadata": {},
   "outputs": [
    {
     "data": {
      "text/plain": [
       "STATE         object\n",
       "COUNT         object\n",
       "EVENT         object\n",
       "POPULATION     int64\n",
       "RACE          object\n",
       "SEX           object\n",
       "SITE          object\n",
       "YEAR          object\n",
       "RATE          object\n",
       "dtype: object"
      ]
     },
     "execution_count": 18,
     "metadata": {},
     "output_type": "execute_result"
    }
   ],
   "source": [
    "# Check types of data in columns\n",
    "ByArea.dtypes"
   ]
  },
  {
   "cell_type": "code",
   "execution_count": 19,
   "metadata": {},
   "outputs": [
    {
     "data": {
      "text/plain": [
       "STATE          object\n",
       "COUNT         float64\n",
       "EVENT          object\n",
       "POPULATION      int64\n",
       "RACE           object\n",
       "SEX            object\n",
       "SITE           object\n",
       "YEAR           object\n",
       "RATE          float64\n",
       "dtype: object"
      ]
     },
     "execution_count": 19,
     "metadata": {},
     "output_type": "execute_result"
    }
   ],
   "source": [
    "# Use 'pd.to_numeric' to convert an object into a numeric value\n",
    "ByArea['COUNT'] = pd.to_numeric(ByArea['COUNT'], errors='coerce')\n",
    "ByArea['RATE'] = pd.to_numeric(ByArea['RATE'], errors='coerce')\n",
    "ByArea.dtypes"
   ]
  },
  {
   "cell_type": "code",
   "execution_count": 20,
   "metadata": {},
   "outputs": [
    {
     "data": {
      "text/plain": [
       "array(['All Races', 'American Indian/Alaska Native',\n",
       "       'Asian/Pacific Islander', 'Black', 'Hispanic', 'White'],\n",
       "      dtype=object)"
      ]
     },
     "execution_count": 20,
     "metadata": {},
     "output_type": "execute_result"
    }
   ],
   "source": [
    "# Check 'RACE' \n",
    "race = ByArea['RACE']\n",
    "race.unique()"
   ]
  },
  {
   "cell_type": "code",
   "execution_count": 21,
   "metadata": {},
   "outputs": [
    {
     "data": {
      "text/plain": [
       "array(['Female', 'Male', 'Male and Female'], dtype=object)"
      ]
     },
     "execution_count": 21,
     "metadata": {},
     "output_type": "execute_result"
    }
   ],
   "source": [
    "# Check 'SEX'\n",
    "sex = ByArea['SEX']\n",
    "sex.unique()"
   ]
  },
  {
   "cell_type": "code",
   "execution_count": 22,
   "metadata": {},
   "outputs": [
    {
     "data": {
      "text/plain": [
       "['All Cancer Sites Combined',\n",
       " 'Brain and Other Nervous System',\n",
       " 'Cervix',\n",
       " 'Colon and Rectum',\n",
       " 'Corpus and Uterus, NOS',\n",
       " 'Esophagus',\n",
       " 'Female Breast',\n",
       " 'Female Breast, <i>in situ</i>',\n",
       " 'Hodgkin Lymphoma',\n",
       " 'Kaposi Sarcoma',\n",
       " 'Kidney and Renal Pelvis',\n",
       " 'Larynx',\n",
       " 'Leukemias',\n",
       " 'Liver and Intrahepatic Bile Duct',\n",
       " 'Lung and Bronchus',\n",
       " 'Melanomas of the Skin',\n",
       " 'Mesothelioma',\n",
       " 'Myeloma',\n",
       " 'Non-Hodgkin Lymphoma',\n",
       " 'Oral Cavity and Pharynx',\n",
       " 'Ovary',\n",
       " 'Pancreas',\n",
       " 'Stomach',\n",
       " 'Thyroid',\n",
       " 'Urinary Bladder',\n",
       " 'Prostate',\n",
       " 'Testis']"
      ]
     },
     "execution_count": 22,
     "metadata": {},
     "output_type": "execute_result"
    }
   ],
   "source": [
    "# Check which cancer types are recorded\n",
    "cancer_type = ByArea['SITE']\n",
    "cancer_type.unique().tolist()"
   ]
  },
  {
   "cell_type": "code",
   "execution_count": 23,
   "metadata": {},
   "outputs": [
    {
     "data": {
      "text/plain": [
       "array(['1999', '2000', '2001', '2002', '2003', '2004', '2005', '2006',\n",
       "       '2007', '2008', '2009', '2010', '2011', '2012', '2012-2016',\n",
       "       '2013', '2014', '2015', '2016'], dtype=object)"
      ]
     },
     "execution_count": 23,
     "metadata": {},
     "output_type": "execute_result"
    }
   ],
   "source": [
    "# Check 'YEAR'\n",
    "years = ByArea['YEAR']\n",
    "years.unique()"
   ]
  },
  {
   "cell_type": "code",
   "execution_count": 24,
   "metadata": {},
   "outputs": [
    {
     "data": {
      "text/plain": [
       "2010         57594\n",
       "2015         57594\n",
       "2011         57594\n",
       "2006         57594\n",
       "2003         57594\n",
       "2005         57594\n",
       "2012         57594\n",
       "2012-2016    57594\n",
       "2004         57594\n",
       "2009         57594\n",
       "2016         57594\n",
       "2014         57594\n",
       "2007         57594\n",
       "2008         57594\n",
       "2013         57594\n",
       "2001         56706\n",
       "2002         56706\n",
       "2000         56114\n",
       "1999         55818\n",
       "Name: YEAR, dtype: int64"
      ]
     },
     "execution_count": 24,
     "metadata": {},
     "output_type": "execute_result"
    }
   ],
   "source": [
    "# Be careful because data from 1999 to 2002 has different length. Let's keep data only from 2006 to 2016\n",
    "# Drop also data recorded as '2012-2016'\n",
    "ByArea.YEAR.value_counts()"
   ]
  },
  {
   "cell_type": "code",
   "execution_count": 25,
   "metadata": {},
   "outputs": [
    {
     "data": {
      "text/plain": [
       "array(['2006', '2007', '2008', '2009', '2010', '2011', '2012', '2013',\n",
       "       '2014', '2015', '2016'], dtype=object)"
      ]
     },
     "execution_count": 25,
     "metadata": {},
     "output_type": "execute_result"
    }
   ],
   "source": [
    "ByArea = ByArea[ByArea.YEAR != '2012-2016']\n",
    "ByArea = ByArea[ByArea.YEAR > '2005']\n",
    "ByArea['YEAR'].unique()"
   ]
  },
  {
   "cell_type": "markdown",
   "metadata": {},
   "source": [
    "**Understand and prepare data in 'STATE' column.**"
   ]
  },
  {
   "cell_type": "code",
   "execution_count": 26,
   "metadata": {},
   "outputs": [
    {
     "data": {
      "text/plain": [
       "71"
      ]
     },
     "execution_count": 26,
     "metadata": {},
     "output_type": "execute_result"
    }
   ],
   "source": [
    "# Check 'STATE' \n",
    "# There are 71 unique variables, so there might be some other information apart from 'states'\n",
    "ByArea['STATE'].nunique()"
   ]
  },
  {
   "cell_type": "code",
   "execution_count": 27,
   "metadata": {},
   "outputs": [
    {
     "data": {
      "text/plain": [
       "array(['Alabama', 'Alaska', 'Arizona', 'Arkansas', 'Atlanta',\n",
       "       'California', 'Colorado', 'Connecticut', 'Delaware', 'Detroit',\n",
       "       'District of Columbia', 'East North Central', 'East South Central',\n",
       "       'Florida', 'Georgia', 'Hawaii', 'Idaho', 'Illinois', 'Indiana',\n",
       "       'Iowa', 'Kansas', 'Kentucky', 'Los Angeles', 'Louisiana', 'Maine',\n",
       "       'Maryland', 'Massachusetts', 'Michigan', 'Middle Atlantic',\n",
       "       'Midwest', 'Minnesota', 'Mississippi', 'Missouri', 'Montana',\n",
       "       'Mountain', 'Nebraska', 'Nevada', 'New England', 'New Hampshire',\n",
       "       'New Jersey', 'New Mexico', 'New York', 'North Carolina',\n",
       "       'North Dakota', 'Northeast', 'Ohio', 'Oklahoma', 'Oregon',\n",
       "       'Pacific', 'Pennsylvania', 'Rhode Island', 'San Francisco-Oakland',\n",
       "       'San Jose-Monterey', 'Seattle-Puget Sound', 'South',\n",
       "       'South Atlantic', 'South Carolina', 'South Dakota', 'Tennessee',\n",
       "       'Texas', 'United States (comparable to ICD-O-2)', 'Utah',\n",
       "       'Vermont', 'Virginia', 'Washington', 'West', 'West North Central',\n",
       "       'West South Central', 'West Virginia', 'Wisconsin', 'Wyoming'],\n",
       "      dtype=object)"
      ]
     },
     "execution_count": 27,
     "metadata": {},
     "output_type": "execute_result"
    }
   ],
   "source": [
    "# STATE column has a mixture of states, regions, divisions, and country \n",
    "ByArea['STATE'].unique()"
   ]
  },
  {
   "cell_type": "code",
   "execution_count": 28,
   "metadata": {},
   "outputs": [
    {
     "data": {
      "text/plain": [
       "False"
      ]
     },
     "execution_count": 28,
     "metadata": {},
     "output_type": "execute_result"
    }
   ],
   "source": [
    "# Store country in a separate dataframe \n",
    "df_US_comparable = ByArea[ByArea.STATE == 'United States (comparable to ICD-O-2)']\n",
    "\n",
    "#Drop country from ByArea dataframe\n",
    "ByArea = ByArea[ByArea.STATE != 'United States (comparable to ICD-O-2)']\n",
    "\n",
    "# Check if it still exists\n",
    "'United States (comparable to ICD-O-2)' in ByArea.STATE.values"
   ]
  },
  {
   "cell_type": "code",
   "execution_count": 29,
   "metadata": {},
   "outputs": [
    {
     "name": "stdout",
     "output_type": "stream",
     "text": [
      "Size of ByArea data frame before retrieving information of regions, divisions, and cities:\n",
      "(633336, 9)\n",
      "\n",
      "Number of states in ByArea data frame before retrieving information of regions, divisions, and cities:\n",
      "70\n"
     ]
    }
   ],
   "source": [
    "print(\"Size of ByArea data frame before retrieving information of regions, divisions, and cities:\")\n",
    "print(ByArea.shape)\n",
    "print('')\n",
    "print('Number of states in ByArea data frame before retrieving information of regions, divisions, and cities:')\n",
    "print(ByArea['STATE'].nunique())"
   ]
  },
  {
   "cell_type": "code",
   "execution_count": 30,
   "metadata": {},
   "outputs": [],
   "source": [
    "# Let's do the same with regions, divisions, and cities\n",
    "# First create a list with names\n",
    "regions = ['South', 'Midwest','Northeast','West']\n",
    "divisions = ['East North Central','East South Central','Middle Atlantic','Pacific','South Atlantic', \n",
    "                    'West North Central','West South Central','Mountain','New England']\n",
    "cities =['San Francisco-Oakland','San Jose-Monterey','Seattle-Puget Sound','Detroit',\n",
    "                'Los Angeles','Atlanta']"
   ]
  },
  {
   "cell_type": "code",
   "execution_count": 33,
   "metadata": {},
   "outputs": [],
   "source": [
    "# Then extract the information and delete from 'ByArea' data frame\n",
    "for reg in regions:\n",
    "    ByRegions = ByArea.loc[ByArea['STATE']==reg]\n",
    "    ByArea = ByArea[ByArea.STATE != reg]    \n",
    "    \n",
    "for div in divisions:\n",
    "    ByDivisions = ByArea.loc[ByArea['STATE']==div]\n",
    "    ByArea = ByArea[ByArea.STATE != div]  \n",
    "\n",
    "for cit in cities:\n",
    "    ByDivisions = ByArea.loc[ByArea['STATE']==cit]\n",
    "    ByArea = ByArea[ByArea.STATE != cit]  "
   ]
  },
  {
   "cell_type": "code",
   "execution_count": 34,
   "metadata": {},
   "outputs": [
    {
     "name": "stdout",
     "output_type": "stream",
     "text": [
      "size of ByArea data frame after retrieving information of regions, divisions, and cities:\n",
      "(481338, 9)\n",
      "\n",
      "Number of states in ByArea data frame after retrieving information of regions, divisions, and cities:\n",
      "51\n"
     ]
    }
   ],
   "source": [
    "# Make sure the data frame is now ready\n",
    "print(\"size of ByArea data frame after retrieving information of regions, divisions, and cities:\")\n",
    "print(ByArea.shape)\n",
    "print('')\n",
    "print('Number of states in ByArea data frame after retrieving information of regions, divisions, and cities:')\n",
    "print(ByArea['STATE'].nunique())"
   ]
  },
  {
   "cell_type": "code",
   "execution_count": 35,
   "metadata": {},
   "outputs": [],
   "source": [
    "# Finally, create a new column in 'ByArea' with the region of each state\n",
    "# First, create a dictionary with all regions and its corresponding states\n",
    "# Regions are divided according to the United States Census Bureau \n",
    "regions_states= {'South': ['Delaware', 'Florida', 'Georgia', 'Maryland', 'North Carolina', 'South Carolina', \n",
    "                         'Virginia', 'District of Columbia','West Virginia','Arkansas', 'Louisiana', 'Oklahoma', 'Texas',\n",
    "                           'Alabama', 'Kentucky', 'Mississippi', 'Tennessee'],\n",
    "                 'West' : ['Arizona', 'Colorado', 'Idaho', 'Montana', 'Nevada', 'New Mexico', 'Utah', 'Wyoming','Alaska', \n",
    "                        'California', 'Hawaii', 'Oregon', 'Washington'],\n",
    "                 'Midwest': ['Illinois', 'Indiana', 'Michigan', 'Ohio', 'Wisconsin',\n",
    "                          'Iowa', 'Kansas', 'Minnesota', 'Missouri', 'Nebraska', 'North Dakota', 'South Dakota'],\n",
    "                 'Northeast': ['Connecticut', 'Maine', 'Massachusetts', 'New Hampshire', 'Rhode Island', 'Vermont',\n",
    "                            'New Jersey', 'New York', 'Pennsylvania']}"
   ]
  },
  {
   "cell_type": "code",
   "execution_count": 36,
   "metadata": {},
   "outputs": [],
   "source": [
    "# Second, define a function to map each state to its region\n",
    "def fetchRegion (a_state):\n",
    "    for key, value in regions_states.items():\n",
    "        if a_state in value:\n",
    "            return(key)"
   ]
  },
  {
   "cell_type": "code",
   "execution_count": 37,
   "metadata": {},
   "outputs": [],
   "source": [
    "# Third, create the new colum in 'ByArea' data frame\n",
    "ByArea['REGION'] = ByArea['STATE'].apply(lambda x: fetchRegion(x))"
   ]
  },
  {
   "cell_type": "code",
   "execution_count": 38,
   "metadata": {},
   "outputs": [
    {
     "data": {
      "text/html": [
       "<div>\n",
       "<style scoped>\n",
       "    .dataframe tbody tr th:only-of-type {\n",
       "        vertical-align: middle;\n",
       "    }\n",
       "\n",
       "    .dataframe tbody tr th {\n",
       "        vertical-align: top;\n",
       "    }\n",
       "\n",
       "    .dataframe thead th {\n",
       "        text-align: right;\n",
       "    }\n",
       "</style>\n",
       "<table border=\"1\" class=\"dataframe\">\n",
       "  <thead>\n",
       "    <tr style=\"text-align: right;\">\n",
       "      <th></th>\n",
       "      <th>STATE</th>\n",
       "      <th>COUNT</th>\n",
       "      <th>EVENT</th>\n",
       "      <th>POPULATION</th>\n",
       "      <th>RACE</th>\n",
       "      <th>SEX</th>\n",
       "      <th>SITE</th>\n",
       "      <th>YEAR</th>\n",
       "      <th>RATE</th>\n",
       "      <th>REGION</th>\n",
       "    </tr>\n",
       "  </thead>\n",
       "  <tbody>\n",
       "    <tr>\n",
       "      <th>14</th>\n",
       "      <td>Alabama</td>\n",
       "      <td>10594.0</td>\n",
       "      <td>Incidence</td>\n",
       "      <td>2385480</td>\n",
       "      <td>All Races</td>\n",
       "      <td>Female</td>\n",
       "      <td>All Cancer Sites Combined</td>\n",
       "      <td>2006</td>\n",
       "      <td>444.1</td>\n",
       "      <td>South</td>\n",
       "    </tr>\n",
       "    <tr>\n",
       "      <th>15</th>\n",
       "      <td>Alabama</td>\n",
       "      <td>4490.0</td>\n",
       "      <td>Mortality</td>\n",
       "      <td>2385480</td>\n",
       "      <td>All Races</td>\n",
       "      <td>Female</td>\n",
       "      <td>All Cancer Sites Combined</td>\n",
       "      <td>2006</td>\n",
       "      <td>188.2</td>\n",
       "      <td>South</td>\n",
       "    </tr>\n",
       "    <tr>\n",
       "      <th>16</th>\n",
       "      <td>Alabama</td>\n",
       "      <td>11011.0</td>\n",
       "      <td>Incidence</td>\n",
       "      <td>2407275</td>\n",
       "      <td>All Races</td>\n",
       "      <td>Female</td>\n",
       "      <td>All Cancer Sites Combined</td>\n",
       "      <td>2007</td>\n",
       "      <td>457.4</td>\n",
       "      <td>South</td>\n",
       "    </tr>\n",
       "  </tbody>\n",
       "</table>\n",
       "</div>"
      ],
      "text/plain": [
       "      STATE    COUNT      EVENT  POPULATION       RACE     SEX  \\\n",
       "14  Alabama  10594.0  Incidence     2385480  All Races  Female   \n",
       "15  Alabama   4490.0  Mortality     2385480  All Races  Female   \n",
       "16  Alabama  11011.0  Incidence     2407275  All Races  Female   \n",
       "\n",
       "                         SITE  YEAR   RATE REGION  \n",
       "14  All Cancer Sites Combined  2006  444.1  South  \n",
       "15  All Cancer Sites Combined  2006  188.2  South  \n",
       "16  All Cancer Sites Combined  2007  457.4  South  "
      ]
     },
     "execution_count": 38,
     "metadata": {},
     "output_type": "execute_result"
    }
   ],
   "source": [
    "# Let's check if that worked\n",
    "ByArea[:3]"
   ]
  },
  {
   "cell_type": "code",
   "execution_count": 39,
   "metadata": {},
   "outputs": [
    {
     "data": {
      "text/plain": [
       "array(['South', 'West', 'Northeast', 'Midwest'], dtype=object)"
      ]
     },
     "execution_count": 39,
     "metadata": {},
     "output_type": "execute_result"
    }
   ],
   "source": [
    "ByArea.REGION.unique()"
   ]
  },
  {
   "cell_type": "code",
   "execution_count": 40,
   "metadata": {},
   "outputs": [],
   "source": [
    "# Create a list of states\n",
    "# This might be useful later\n",
    "states_list = ByArea['STATE'].unique().tolist()"
   ]
  },
  {
   "cell_type": "markdown",
   "metadata": {},
   "source": [
    "**Prepare data frames with information of all cancer sites combined and information by cancer site.** "
   ]
  },
  {
   "cell_type": "code",
   "execution_count": 41,
   "metadata": {},
   "outputs": [
    {
     "data": {
      "text/html": [
       "<div>\n",
       "<style scoped>\n",
       "    .dataframe tbody tr th:only-of-type {\n",
       "        vertical-align: middle;\n",
       "    }\n",
       "\n",
       "    .dataframe tbody tr th {\n",
       "        vertical-align: top;\n",
       "    }\n",
       "\n",
       "    .dataframe thead th {\n",
       "        text-align: right;\n",
       "    }\n",
       "</style>\n",
       "<table border=\"1\" class=\"dataframe\">\n",
       "  <thead>\n",
       "    <tr style=\"text-align: right;\">\n",
       "      <th></th>\n",
       "      <th>STATE</th>\n",
       "      <th>COUNT</th>\n",
       "      <th>EVENT</th>\n",
       "      <th>POPULATION</th>\n",
       "      <th>RACE</th>\n",
       "      <th>SEX</th>\n",
       "      <th>SITE</th>\n",
       "      <th>YEAR</th>\n",
       "      <th>RATE</th>\n",
       "      <th>REGION</th>\n",
       "    </tr>\n",
       "  </thead>\n",
       "  <tbody>\n",
       "    <tr>\n",
       "      <th>52</th>\n",
       "      <td>Alabama</td>\n",
       "      <td>164.0</td>\n",
       "      <td>Incidence</td>\n",
       "      <td>2385480</td>\n",
       "      <td>All Races</td>\n",
       "      <td>Female</td>\n",
       "      <td>Brain and Other Nervous System</td>\n",
       "      <td>2006</td>\n",
       "      <td>6.9</td>\n",
       "      <td>South</td>\n",
       "    </tr>\n",
       "    <tr>\n",
       "      <th>53</th>\n",
       "      <td>Alabama</td>\n",
       "      <td>93.0</td>\n",
       "      <td>Mortality</td>\n",
       "      <td>2385480</td>\n",
       "      <td>All Races</td>\n",
       "      <td>Female</td>\n",
       "      <td>Brain and Other Nervous System</td>\n",
       "      <td>2006</td>\n",
       "      <td>3.9</td>\n",
       "      <td>South</td>\n",
       "    </tr>\n",
       "    <tr>\n",
       "      <th>54</th>\n",
       "      <td>Alabama</td>\n",
       "      <td>146.0</td>\n",
       "      <td>Incidence</td>\n",
       "      <td>2407275</td>\n",
       "      <td>All Races</td>\n",
       "      <td>Female</td>\n",
       "      <td>Brain and Other Nervous System</td>\n",
       "      <td>2007</td>\n",
       "      <td>6.1</td>\n",
       "      <td>South</td>\n",
       "    </tr>\n",
       "    <tr>\n",
       "      <th>55</th>\n",
       "      <td>Alabama</td>\n",
       "      <td>113.0</td>\n",
       "      <td>Mortality</td>\n",
       "      <td>2407275</td>\n",
       "      <td>All Races</td>\n",
       "      <td>Female</td>\n",
       "      <td>Brain and Other Nervous System</td>\n",
       "      <td>2007</td>\n",
       "      <td>4.7</td>\n",
       "      <td>South</td>\n",
       "    </tr>\n",
       "    <tr>\n",
       "      <th>56</th>\n",
       "      <td>Alabama</td>\n",
       "      <td>171.0</td>\n",
       "      <td>Incidence</td>\n",
       "      <td>2430257</td>\n",
       "      <td>All Races</td>\n",
       "      <td>Female</td>\n",
       "      <td>Brain and Other Nervous System</td>\n",
       "      <td>2008</td>\n",
       "      <td>7.0</td>\n",
       "      <td>South</td>\n",
       "    </tr>\n",
       "  </tbody>\n",
       "</table>\n",
       "</div>"
      ],
      "text/plain": [
       "      STATE  COUNT      EVENT  POPULATION       RACE     SEX  \\\n",
       "52  Alabama  164.0  Incidence     2385480  All Races  Female   \n",
       "53  Alabama   93.0  Mortality     2385480  All Races  Female   \n",
       "54  Alabama  146.0  Incidence     2407275  All Races  Female   \n",
       "55  Alabama  113.0  Mortality     2407275  All Races  Female   \n",
       "56  Alabama  171.0  Incidence     2430257  All Races  Female   \n",
       "\n",
       "                              SITE  YEAR  RATE REGION  \n",
       "52  Brain and Other Nervous System  2006   6.9  South  \n",
       "53  Brain and Other Nervous System  2006   3.9  South  \n",
       "54  Brain and Other Nervous System  2007   6.1  South  \n",
       "55  Brain and Other Nervous System  2007   4.7  South  \n",
       "56  Brain and Other Nervous System  2008   7.0  South  "
      ]
     },
     "execution_count": 41,
     "metadata": {},
     "output_type": "execute_result"
    }
   ],
   "source": [
    "# Create a data frame with different sites of cancer\n",
    "All_Sites = ByArea[ByArea.SITE != 'All Cancer Sites Combined']\n",
    "All_Sites.head()"
   ]
  },
  {
   "cell_type": "code",
   "execution_count": 42,
   "metadata": {},
   "outputs": [
    {
     "data": {
      "text/html": [
       "<div>\n",
       "<style scoped>\n",
       "    .dataframe tbody tr th:only-of-type {\n",
       "        vertical-align: middle;\n",
       "    }\n",
       "\n",
       "    .dataframe tbody tr th {\n",
       "        vertical-align: top;\n",
       "    }\n",
       "\n",
       "    .dataframe thead th {\n",
       "        text-align: right;\n",
       "    }\n",
       "</style>\n",
       "<table border=\"1\" class=\"dataframe\">\n",
       "  <thead>\n",
       "    <tr style=\"text-align: right;\">\n",
       "      <th></th>\n",
       "      <th>STATE</th>\n",
       "      <th>COUNT</th>\n",
       "      <th>EVENT</th>\n",
       "      <th>POPULATION</th>\n",
       "      <th>RACE</th>\n",
       "      <th>SEX</th>\n",
       "      <th>YEAR</th>\n",
       "      <th>RATE</th>\n",
       "      <th>REGION</th>\n",
       "    </tr>\n",
       "  </thead>\n",
       "  <tbody>\n",
       "    <tr>\n",
       "      <th>14</th>\n",
       "      <td>Alabama</td>\n",
       "      <td>10594.0</td>\n",
       "      <td>Incidence</td>\n",
       "      <td>2385480</td>\n",
       "      <td>All Races</td>\n",
       "      <td>Female</td>\n",
       "      <td>2006</td>\n",
       "      <td>444.1</td>\n",
       "      <td>South</td>\n",
       "    </tr>\n",
       "    <tr>\n",
       "      <th>15</th>\n",
       "      <td>Alabama</td>\n",
       "      <td>4490.0</td>\n",
       "      <td>Mortality</td>\n",
       "      <td>2385480</td>\n",
       "      <td>All Races</td>\n",
       "      <td>Female</td>\n",
       "      <td>2006</td>\n",
       "      <td>188.2</td>\n",
       "      <td>South</td>\n",
       "    </tr>\n",
       "    <tr>\n",
       "      <th>16</th>\n",
       "      <td>Alabama</td>\n",
       "      <td>11011.0</td>\n",
       "      <td>Incidence</td>\n",
       "      <td>2407275</td>\n",
       "      <td>All Races</td>\n",
       "      <td>Female</td>\n",
       "      <td>2007</td>\n",
       "      <td>457.4</td>\n",
       "      <td>South</td>\n",
       "    </tr>\n",
       "    <tr>\n",
       "      <th>17</th>\n",
       "      <td>Alabama</td>\n",
       "      <td>4492.0</td>\n",
       "      <td>Mortality</td>\n",
       "      <td>2407275</td>\n",
       "      <td>All Races</td>\n",
       "      <td>Female</td>\n",
       "      <td>2007</td>\n",
       "      <td>186.6</td>\n",
       "      <td>South</td>\n",
       "    </tr>\n",
       "    <tr>\n",
       "      <th>18</th>\n",
       "      <td>Alabama</td>\n",
       "      <td>11667.0</td>\n",
       "      <td>Incidence</td>\n",
       "      <td>2430257</td>\n",
       "      <td>All Races</td>\n",
       "      <td>Female</td>\n",
       "      <td>2008</td>\n",
       "      <td>480.1</td>\n",
       "      <td>South</td>\n",
       "    </tr>\n",
       "  </tbody>\n",
       "</table>\n",
       "</div>"
      ],
      "text/plain": [
       "      STATE    COUNT      EVENT  POPULATION       RACE     SEX  YEAR   RATE  \\\n",
       "14  Alabama  10594.0  Incidence     2385480  All Races  Female  2006  444.1   \n",
       "15  Alabama   4490.0  Mortality     2385480  All Races  Female  2006  188.2   \n",
       "16  Alabama  11011.0  Incidence     2407275  All Races  Female  2007  457.4   \n",
       "17  Alabama   4492.0  Mortality     2407275  All Races  Female  2007  186.6   \n",
       "18  Alabama  11667.0  Incidence     2430257  All Races  Female  2008  480.1   \n",
       "\n",
       "   REGION  \n",
       "14  South  \n",
       "15  South  \n",
       "16  South  \n",
       "17  South  \n",
       "18  South  "
      ]
     },
     "execution_count": 42,
     "metadata": {},
     "output_type": "execute_result"
    }
   ],
   "source": [
    "# Create a data frame with 'All Cancer Sites Combined'\n",
    "Combined = ByArea[ByArea.SITE == 'All Cancer Sites Combined'].drop('SITE', axis=1)\n",
    "Combined.head()"
   ]
  },
  {
   "cell_type": "markdown",
   "metadata": {},
   "source": [
    "**Finally, create functions that will be useful for extracting data later on.**"
   ]
  },
  {
   "cell_type": "code",
   "execution_count": 43,
   "metadata": {},
   "outputs": [],
   "source": [
    "# Define a function to race, default='All Races'\n",
    "def GetAllRace(df, all_races=True):\n",
    "    if all_races:\n",
    "        df = df[df['RACE']=='All Races']\n",
    "    else:\n",
    "        df = df[df['RACE']!='All Races']\n",
    "    return df"
   ]
  },
  {
   "cell_type": "code",
   "execution_count": 49,
   "metadata": {},
   "outputs": [],
   "source": [
    "# Define a function to get event, default='Incidence'\n",
    "def GetEvent(df, event='Incidence'):\n",
    "    if event=='Incidence':\n",
    "        df = df.loc[df.EVENT=='Incidence']\n",
    "    if event =='Mortality':\n",
    "        df = df.loc[df.EVENT=='Mortality']\n",
    "    return df"
   ]
  },
  {
   "cell_type": "code",
   "execution_count": 76,
   "metadata": {},
   "outputs": [],
   "source": [
    "# Define a function to get sex, default='Male and Female'\n",
    "def GetSex(df, sex='both'):\n",
    "    if sex=='both':\n",
    "        df = df.loc[df.SEX=='Male and Female']\n",
    "    else:\n",
    "        df = df.loc[df.SEX==sex]\n",
    "    return df"
   ]
  },
  {
   "cell_type": "code",
   "execution_count": 51,
   "metadata": {},
   "outputs": [],
   "source": [
    "# Compare percentage between 2006 and 2016\n",
    "def CompareRate(df, y1='2006', y2='2016'):\n",
    "    df = df.loc[(df['YEAR']==y1) | (df['YEAR']==y2)]\n",
    "    df = df.pivot(columns='YEAR')\n",
    "    df['Change'] = (df[('RATE',y2)] - df[('RATE', y1)]) / df['RATE', y1]*100\n",
    "    return df.sort_values('Change')"
   ]
  },
  {
   "cell_type": "markdown",
   "metadata": {},
   "source": [
    "## Overall trends of all cancer sites in the U.S."
   ]
  },
  {
   "cell_type": "markdown",
   "metadata": {},
   "source": [
    "### Incidence and Mortality by Regions"
   ]
  },
  {
   "cell_type": "code",
   "execution_count": 52,
   "metadata": {},
   "outputs": [],
   "source": [
    "# Get 'RATES' for All Races, Male and Female, for All years\n",
    "Combined_AllRace = GetAllRace(Combined)\n",
    "All = GetSex(Combined_AllRace)\n",
    "reg = All.loc[:,['REGION','YEAR','COUNT','EVENT']]"
   ]
  },
  {
   "cell_type": "code",
   "execution_count": 53,
   "metadata": {},
   "outputs": [
    {
     "data": {
      "text/html": [
       "<div>\n",
       "<style scoped>\n",
       "    .dataframe tbody tr th:only-of-type {\n",
       "        vertical-align: middle;\n",
       "    }\n",
       "\n",
       "    .dataframe tbody tr th {\n",
       "        vertical-align: top;\n",
       "    }\n",
       "\n",
       "    .dataframe thead th {\n",
       "        text-align: right;\n",
       "    }\n",
       "</style>\n",
       "<table border=\"1\" class=\"dataframe\">\n",
       "  <thead>\n",
       "    <tr style=\"text-align: right;\">\n",
       "      <th>EVENT</th>\n",
       "      <th>Incidence</th>\n",
       "      <th>Mortality</th>\n",
       "    </tr>\n",
       "    <tr>\n",
       "      <th>REGION</th>\n",
       "      <th></th>\n",
       "      <th></th>\n",
       "    </tr>\n",
       "  </thead>\n",
       "  <tbody>\n",
       "    <tr>\n",
       "      <th>South</th>\n",
       "      <td>624649.0</td>\n",
       "      <td>230965.0</td>\n",
       "    </tr>\n",
       "    <tr>\n",
       "      <th>Midwest</th>\n",
       "      <td>369921.0</td>\n",
       "      <td>136583.0</td>\n",
       "    </tr>\n",
       "    <tr>\n",
       "      <th>West</th>\n",
       "      <td>337771.0</td>\n",
       "      <td>121161.0</td>\n",
       "    </tr>\n",
       "    <tr>\n",
       "      <th>Northeast</th>\n",
       "      <td>326375.0</td>\n",
       "      <td>109322.0</td>\n",
       "    </tr>\n",
       "  </tbody>\n",
       "</table>\n",
       "</div>"
      ],
      "text/plain": [
       "EVENT      Incidence  Mortality\n",
       "REGION                         \n",
       "South       624649.0   230965.0\n",
       "Midwest     369921.0   136583.0\n",
       "West        337771.0   121161.0\n",
       "Northeast   326375.0   109322.0"
      ]
     },
     "execution_count": 53,
     "metadata": {},
     "output_type": "execute_result"
    }
   ],
   "source": [
    "# Let's look at incidence count and mortality count in 2016\n",
    "reg_incidence16 = reg[reg.YEAR=='2016'].groupby(['EVENT','REGION']).sum().COUNT.unstack().transpose()\n",
    "reg_incidence16 = reg_incidence16.sort_values(by=('Mortality'), ascending=False)\n",
    "reg_incidence16"
   ]
  },
  {
   "cell_type": "code",
   "execution_count": 89,
   "metadata": {},
   "outputs": [
    {
     "data": {
      "text/html": [
       "\n",
       "        <iframe\n",
       "            width=\"100%\"\n",
       "            height=\"525px\"\n",
       "            src=\"https://plotly.com/~svaldes.salas/172.embed\"\n",
       "            frameborder=\"0\"\n",
       "            allowfullscreen\n",
       "        ></iframe>\n",
       "        "
      ],
      "text/plain": [
       "<IPython.lib.display.IFrame at 0x12dbef790>"
      ]
     },
     "execution_count": 89,
     "metadata": {},
     "output_type": "execute_result"
    }
   ],
   "source": [
    "fig1 = go.Figure(data=[\n",
    "    go.Bar(name='Incidence', x=reg_incidence16.index, y=reg_incidence16['Incidence'], marker_color='#4d54e8'),\n",
    "    go.Bar(name='Mortality', x=reg_incidence16.index, y=reg_incidence16['Mortality'], marker_color='#040b94')],\n",
    "    layout_title_text='Total incidence and mortality by regions (2016)')\n",
    "fig1.update_layout(barmode='group')\n",
    "fig1.update_xaxes(title_text='Count')\n",
    "fig1.update_yaxes(title_text='Region')\n",
    "#fig1.show()\n",
    "py.iplot(fig1)"
   ]
  },
  {
   "cell_type": "code",
   "execution_count": null,
   "metadata": {},
   "outputs": [],
   "source": [
    "#Save image\n",
    "fig1.write_image(\"images/fig1.png\")"
   ]
  },
  {
   "cell_type": "markdown",
   "metadata": {},
   "source": [
    "We can see that in 2016 the **south region** concentrates a large number of mortality and incidence events. It is followed by the **Midwest**, **West**, and **Northeast** regions respectively. "
   ]
  },
  {
   "cell_type": "code",
   "execution_count": 91,
   "metadata": {},
   "outputs": [
    {
     "data": {
      "image/png": "[encoded data removed]",
      "text/plain": [
       "<Figure size 864x432 with 1 Axes>"
      ]
     },
     "metadata": {},
     "output_type": "display_data"
    }
   ],
   "source": [
    "# Analyse 'INCIDENCE' by Region for All years\n",
    "reg_incidence = GetEvent(reg).groupby(['YEAR','REGION']).sum().COUNT.unstack()\n",
    "\n",
    "# plot\n",
    "sns.set()\n",
    "my_colors0 = ['#080a9c','#f007d8','#0bd696','#640696']\n",
    "\n",
    "fig2 = reg_incidence.plot(figsize=(12,6), linewidth=2, color=my_colors0)\n",
    "plt.title(\"Total incidence by regions (2006-2016)\", fontsize=15)\n",
    "plt.ylabel('Incidence Count', fontsize=13)\n",
    "plt.xlabel('Years', fontsize=13)\n",
    "plt.legend(['Midwest', 'Northeast','South','West'], loc='best',fontsize=12)\n",
    "plt.savefig('./images/fig2.png')\n",
    "plt.show()"
   ]
  },
  {
   "cell_type": "markdown",
   "metadata": {},
   "source": [
    "Historically (from 2006 to 2016), as the plotline shows, the **south region** has had the largest incidence count of all cancer types combined. More importan, it seems that this trend is increasing. Notice also that the **Northeast region** has become the region with the lowest incidence count in 2016. \n",
    "\n",
    "This graph should be interpreted carefully, though, because total incidence is closely tied to total population (we may need to check total population in these regions). However, the graph gives us a hint of the highest concentration of incidence count in the U.S."
   ]
  },
  {
   "cell_type": "code",
   "execution_count": 62,
   "metadata": {},
   "outputs": [
    {
     "data": {
      "text/html": [
       "<div>\n",
       "<style scoped>\n",
       "    .dataframe tbody tr th:only-of-type {\n",
       "        vertical-align: middle;\n",
       "    }\n",
       "\n",
       "    .dataframe tbody tr th {\n",
       "        vertical-align: top;\n",
       "    }\n",
       "\n",
       "    .dataframe thead th {\n",
       "        text-align: right;\n",
       "    }\n",
       "</style>\n",
       "<table border=\"1\" class=\"dataframe\">\n",
       "  <thead>\n",
       "    <tr style=\"text-align: right;\">\n",
       "      <th>YEAR</th>\n",
       "      <th>2006</th>\n",
       "      <th>2016</th>\n",
       "    </tr>\n",
       "    <tr>\n",
       "      <th>REGION</th>\n",
       "      <th></th>\n",
       "      <th></th>\n",
       "    </tr>\n",
       "  </thead>\n",
       "  <tbody>\n",
       "    <tr>\n",
       "      <th>South</th>\n",
       "      <td>36.556393</td>\n",
       "      <td>37.854425</td>\n",
       "    </tr>\n",
       "    <tr>\n",
       "      <th>West</th>\n",
       "      <td>23.041687</td>\n",
       "      <td>23.699302</td>\n",
       "    </tr>\n",
       "    <tr>\n",
       "      <th>Midwest</th>\n",
       "      <td>22.129022</td>\n",
       "      <td>21.019456</td>\n",
       "    </tr>\n",
       "    <tr>\n",
       "      <th>Northeast</th>\n",
       "      <td>18.272899</td>\n",
       "      <td>17.426817</td>\n",
       "    </tr>\n",
       "  </tbody>\n",
       "</table>\n",
       "</div>"
      ],
      "text/plain": [
       "YEAR            2006       2016\n",
       "REGION                         \n",
       "South      36.556393  37.854425\n",
       "West       23.041687  23.699302\n",
       "Midwest    22.129022  21.019456\n",
       "Northeast  18.272899  17.426817"
      ]
     },
     "execution_count": 62,
     "metadata": {},
     "output_type": "execute_result"
    }
   ],
   "source": [
    "# Get information about population trends by region in 2006 and 2016\n",
    "pop = All.loc[:, ['STATE', 'POPULATION','YEAR','REGION']]\n",
    "pop = pop.loc[(pop.YEAR=='2006')|(pop.YEAR=='2016')]\n",
    "\n",
    "# Get percentage distribution of population by region for 2006 and 2016 and sort values\n",
    "total_pop = pop.groupby('YEAR').sum()\n",
    "pop2 = pop.groupby(['YEAR','REGION']).sum().POPULATION.unstack()\n",
    "pop2.apply(lambda x:x/total_pop['POPULATION']*100).transpose().sort_values('2016', ascending=False)"
   ]
  },
  {
   "cell_type": "markdown",
   "metadata": {},
   "source": [
    "As expected, the **South Region**, which has the largest incidence and mortality counts, concentrates the largest population in the U.S. Note that this percentage is growing. Also, population in the **West Region** is increasing. This region is the second most populated region in the U.S.\n",
    "\n",
    "On the other hand, population in the **Midwest Region** and in the **Northeast Region** is drecreasing. This raises the question if we should should expect a downward trend in total incidence and mortality in those regions for the forthcoming years. Let's take a look at count and rate by state. "
   ]
  },
  {
   "cell_type": "markdown",
   "metadata": {},
   "source": [
    "### Incidence and Mortality by State"
   ]
  },
  {
   "cell_type": "code",
   "execution_count": 92,
   "metadata": {},
   "outputs": [
    {
     "data": {
      "image/png": "[encoded data removed]",
      "text/plain": [
       "<Figure size 1440x576 with 1 Axes>"
      ]
     },
     "metadata": {},
     "output_type": "display_data"
    }
   ],
   "source": [
    "# Now let's analyse Incidence and Mortality Rates by state\n",
    "allInc =  All.loc[:,['STATE','YEAR', 'EVENT', 'RATE']].set_index('STATE')\n",
    "All2016 = allInc.loc[allInc['YEAR']=='2016'].drop('YEAR',axis=1)\n",
    "All2016 = All2016.pivot(index=All2016.index, columns='EVENT')\n",
    "\n",
    "# plot\n",
    "sns.set()\n",
    "my_colors = sns.cubehelix_palette(51, start=3, rot=0, dark=.2, light=.8, reverse=True)\n",
    "\n",
    "All2016_sorted = All2016.sort_values(('RATE','Incidence'), ascending=False)\n",
    "plt.figure(figsize=(20,8))\n",
    "plt.xticks(fontsize=13, rotation=90)\n",
    "Fig3 = sns.barplot(x=All2016_sorted.index, y=('RATE','Incidence'), data=All2016_sorted, palette=my_colors)\n",
    "Fig3.set_xlabel('States', fontsize=15)\n",
    "Fig3.set_ylabel('Rates', fontsize=15)\n",
    "Fig3.axes.set_title(\"Incidence rates by state (2016)\", fontsize=18)\n",
    "plt.savefig('./images/fig3.png')\n",
    "plt.show()"
   ]
  },
  {
   "cell_type": "markdown",
   "metadata": {},
   "source": [
    "In 2016, **Main**, **West Virginia**, and **New Hampshire** had the largest incidence rates in the U.S. By contrast, Utah, District of Columbia and Alaska had the lowest incidence rates. \n",
    "\n",
    "This changes in the case of mortality rates, where **West Virginia** is the state with the largest mortality rate and Alaska is the state with the smallest mortality rate (see data frames below).\n",
    "\n",
    "If we get the states with the largest mortality rate for all cancer sites combined in 2016, notice that most of them are located in the south region (which is expected because this region has the largest concentration of population in the US and its population is growing). But, some of the Top 10 states with mortality rate in 2016 are also located in the northeast region, despite the fact that population in this region is decreasing. This raises a red flag. "
   ]
  },
  {
   "cell_type": "code",
   "execution_count": 65,
   "metadata": {
    "scrolled": false
   },
   "outputs": [
    {
     "data": {
      "text/html": [
       "<div>\n",
       "<style scoped>\n",
       "    .dataframe tbody tr th:only-of-type {\n",
       "        vertical-align: middle;\n",
       "    }\n",
       "\n",
       "    .dataframe tbody tr th {\n",
       "        vertical-align: top;\n",
       "    }\n",
       "\n",
       "    .dataframe thead tr th {\n",
       "        text-align: left;\n",
       "    }\n",
       "\n",
       "    .dataframe thead tr:last-of-type th {\n",
       "        text-align: right;\n",
       "    }\n",
       "</style>\n",
       "<table border=\"1\" class=\"dataframe\">\n",
       "  <thead>\n",
       "    <tr>\n",
       "      <th></th>\n",
       "      <th>RATE</th>\n",
       "      <th>REGION</th>\n",
       "    </tr>\n",
       "    <tr>\n",
       "      <th>EVENT</th>\n",
       "      <th>Mortality</th>\n",
       "      <th></th>\n",
       "    </tr>\n",
       "    <tr>\n",
       "      <th>STATE</th>\n",
       "      <th></th>\n",
       "      <th></th>\n",
       "    </tr>\n",
       "  </thead>\n",
       "  <tbody>\n",
       "    <tr>\n",
       "      <th>West Virginia</th>\n",
       "      <td>254.8</td>\n",
       "      <td>South</td>\n",
       "    </tr>\n",
       "    <tr>\n",
       "      <th>Maine</th>\n",
       "      <td>246.2</td>\n",
       "      <td>Northeast</td>\n",
       "    </tr>\n",
       "    <tr>\n",
       "      <th>Kentucky</th>\n",
       "      <td>233.6</td>\n",
       "      <td>South</td>\n",
       "    </tr>\n",
       "    <tr>\n",
       "      <th>Delaware</th>\n",
       "      <td>222.9</td>\n",
       "      <td>South</td>\n",
       "    </tr>\n",
       "    <tr>\n",
       "      <th>Pennsylvania</th>\n",
       "      <td>222.8</td>\n",
       "      <td>Northeast</td>\n",
       "    </tr>\n",
       "    <tr>\n",
       "      <th>Arkansas</th>\n",
       "      <td>221.3</td>\n",
       "      <td>South</td>\n",
       "    </tr>\n",
       "    <tr>\n",
       "      <th>Mississippi</th>\n",
       "      <td>220.0</td>\n",
       "      <td>South</td>\n",
       "    </tr>\n",
       "    <tr>\n",
       "      <th>Ohio</th>\n",
       "      <td>219.5</td>\n",
       "      <td>Midwest</td>\n",
       "    </tr>\n",
       "    <tr>\n",
       "      <th>Vermont</th>\n",
       "      <td>217.5</td>\n",
       "      <td>Northeast</td>\n",
       "    </tr>\n",
       "    <tr>\n",
       "      <th>Tennessee</th>\n",
       "      <td>217.3</td>\n",
       "      <td>South</td>\n",
       "    </tr>\n",
       "  </tbody>\n",
       "</table>\n",
       "</div>"
      ],
      "text/plain": [
       "                   RATE     REGION\n",
       "EVENT         Mortality           \n",
       "STATE                             \n",
       "West Virginia     254.8      South\n",
       "Maine             246.2  Northeast\n",
       "Kentucky          233.6      South\n",
       "Delaware          222.9      South\n",
       "Pennsylvania      222.8  Northeast\n",
       "Arkansas          221.3      South\n",
       "Mississippi       220.0      South\n",
       "Ohio              219.5    Midwest\n",
       "Vermont           217.5  Northeast\n",
       "Tennessee         217.3      South"
      ]
     },
     "execution_count": 65,
     "metadata": {},
     "output_type": "execute_result"
    }
   ],
   "source": [
    "# Get the 10 states with highest mortality rate\n",
    "TopMortality2016 = All2016.sort_values(('RATE','Mortality'), ascending=False)\n",
    "TopM = TopMortality2016.loc[:,[('RATE','Mortality')]][:10]\n",
    "\n",
    "\n",
    "# Use function fetchRegion to get the region of each state \n",
    "TopM = TopM.reset_index()\n",
    "TopM['REGION'] = TopM['STATE'].apply(lambda x:fetchRegion(x))\n",
    "TopM.set_index('STATE')"
   ]
  },
  {
   "cell_type": "code",
   "execution_count": 66,
   "metadata": {},
   "outputs": [
    {
     "data": {
      "text/html": [
       "<div>\n",
       "<style scoped>\n",
       "    .dataframe tbody tr th:only-of-type {\n",
       "        vertical-align: middle;\n",
       "    }\n",
       "\n",
       "    .dataframe tbody tr th {\n",
       "        vertical-align: top;\n",
       "    }\n",
       "\n",
       "    .dataframe thead tr th {\n",
       "        text-align: left;\n",
       "    }\n",
       "\n",
       "    .dataframe thead tr:last-of-type th {\n",
       "        text-align: right;\n",
       "    }\n",
       "</style>\n",
       "<table border=\"1\" class=\"dataframe\">\n",
       "  <thead>\n",
       "    <tr>\n",
       "      <th></th>\n",
       "      <th>RATE</th>\n",
       "      <th>Region</th>\n",
       "    </tr>\n",
       "    <tr>\n",
       "      <th>EVENT</th>\n",
       "      <th>Mortality</th>\n",
       "      <th></th>\n",
       "    </tr>\n",
       "    <tr>\n",
       "      <th>STATE</th>\n",
       "      <th></th>\n",
       "      <th></th>\n",
       "    </tr>\n",
       "  </thead>\n",
       "  <tbody>\n",
       "    <tr>\n",
       "      <th>New Mexico</th>\n",
       "      <td>170.7</td>\n",
       "      <td>West</td>\n",
       "    </tr>\n",
       "    <tr>\n",
       "      <th>Hawaii</th>\n",
       "      <td>168.1</td>\n",
       "      <td>West</td>\n",
       "    </tr>\n",
       "    <tr>\n",
       "      <th>Georgia</th>\n",
       "      <td>166.6</td>\n",
       "      <td>South</td>\n",
       "    </tr>\n",
       "    <tr>\n",
       "      <th>North Dakota</th>\n",
       "      <td>165.8</td>\n",
       "      <td>Midwest</td>\n",
       "    </tr>\n",
       "    <tr>\n",
       "      <th>Wyoming</th>\n",
       "      <td>164.5</td>\n",
       "      <td>West</td>\n",
       "    </tr>\n",
       "    <tr>\n",
       "      <th>District of Columbia</th>\n",
       "      <td>152.6</td>\n",
       "      <td>South</td>\n",
       "    </tr>\n",
       "    <tr>\n",
       "      <th>California</th>\n",
       "      <td>151.4</td>\n",
       "      <td>West</td>\n",
       "    </tr>\n",
       "    <tr>\n",
       "      <th>Texas</th>\n",
       "      <td>144.0</td>\n",
       "      <td>South</td>\n",
       "    </tr>\n",
       "    <tr>\n",
       "      <th>Colorado</th>\n",
       "      <td>143.4</td>\n",
       "      <td>West</td>\n",
       "    </tr>\n",
       "    <tr>\n",
       "      <th>Alaska</th>\n",
       "      <td>134.2</td>\n",
       "      <td>West</td>\n",
       "    </tr>\n",
       "  </tbody>\n",
       "</table>\n",
       "</div>"
      ],
      "text/plain": [
       "                          RATE   Region\n",
       "EVENT                Mortality         \n",
       "STATE                                  \n",
       "New Mexico               170.7     West\n",
       "Hawaii                   168.1     West\n",
       "Georgia                  166.6    South\n",
       "North Dakota             165.8  Midwest\n",
       "Wyoming                  164.5     West\n",
       "District of Columbia     152.6    South\n",
       "California               151.4     West\n",
       "Texas                    144.0    South\n",
       "Colorado                 143.4     West\n",
       "Alaska                   134.2     West"
      ]
     },
     "execution_count": 66,
     "metadata": {},
     "output_type": "execute_result"
    }
   ],
   "source": [
    "# Get the 10 states with the lowest mortality rate\n",
    "LastM = TopMortality2016.loc[:,[('RATE','Mortality')]][-11:-1]\n",
    "LastM = LastM.reset_index()\n",
    "LastM['Region'] = LastM['STATE'].apply(lambda x:fetchRegion(x))\n",
    "LastM.set_index('STATE')"
   ]
  },
  {
   "cell_type": "markdown",
   "metadata": {},
   "source": [
    "### Incidence by age"
   ]
  },
  {
   "cell_type": "code",
   "execution_count": 67,
   "metadata": {},
   "outputs": [
    {
     "data": {
      "text/plain": [
       "AGE       object\n",
       "COUNT    float64\n",
       "EVENT     object\n",
       "RACE      object\n",
       "RATE     float64\n",
       "SEX       object\n",
       "SITE      object\n",
       "YEAR      object\n",
       "dtype: object"
      ]
     },
     "execution_count": 67,
     "metadata": {},
     "output_type": "execute_result"
    }
   ],
   "source": [
    "# We need to import 'BYAGE.txt' file and clean it\n",
    "ByAge = openFile('BYAGE.TXT').drop(['CI_LOWER','CI_UPPER','POPULATION'],axis=1).rename(columns={'EVENT_TYPE':'EVENT'})\n",
    "\n",
    "# drop unnecesary rows in 'Year' column\n",
    "ByAge = ByAge[ByAge.YEAR != '2012-2016']\n",
    "\n",
    "# convert into 'COUNT' and 'RATE' numeric\n",
    "ByAge['COUNT'] = pd.to_numeric(ByAge['COUNT'], errors='coerce')\n",
    "ByAge['RATE'] = pd.to_numeric(ByAge['RATE'], errors='coerce')\n",
    "ByAge.dtypes"
   ]
  },
  {
   "cell_type": "code",
   "execution_count": 68,
   "metadata": {
    "scrolled": true
   },
   "outputs": [
    {
     "data": {
      "text/plain": [
       "array(['Mortality', 'Incidence'], dtype=object)"
      ]
     },
     "execution_count": 68,
     "metadata": {},
     "output_type": "execute_result"
    }
   ],
   "source": [
    "ByAge.EVENT.unique()"
   ]
  },
  {
   "cell_type": "code",
   "execution_count": 69,
   "metadata": {},
   "outputs": [],
   "source": [
    "# Separate ByAgeIncidence into 2 data frames\n",
    "ByAgeCombined = ByAge[ByAge.SITE == 'All Cancer Sites Combined']\n",
    "ByAgeAllSites = ByAge[ByAge.SITE != 'All Cancer Sites Combined']"
   ]
  },
  {
   "cell_type": "code",
   "execution_count": 72,
   "metadata": {},
   "outputs": [],
   "source": [
    "new_index=[18,0,9,1,2,3,4,5,6,7,8,10,11,12,13,70,15,16,17]\n",
    "\n",
    "# Get incidence of total popupulation in 2016; reindex\n",
    "AgeIncidence = GetEvent(ByAgeCombined)\n",
    "Age_all = GetAllRace(AgeIncidence)\n",
    "Age_all = GetSex(Age_all)\n",
    "Age_grouped = Age_all.loc[Age_all.YEAR==2016].groupby(['AGE']).sum().COUNT.reset_index()\n",
    "Age_incidence_ix = Age_grouped.reindex(new_index).dropna().set_index('AGE')\n",
    "\n",
    "# Fetch mortality and do the same\n",
    "AgeMortality = GetEvent(ByAgeCombined, event='Mortality')\n",
    "Age_mort_all = GetAllRace(AgeMortality)\n",
    "Age_mort_all = GetSex(AgeMortality)\n",
    "Age_mort_grouped = Age_mort_all.loc[Age_mort_all.YEAR==2016].groupby(['AGE']).sum().COUNT.reset_index()\n",
    "Age_mort_ix = Age_mort_grouped.reindex(new_index).dropna().set_index('AGE')"
   ]
  },
  {
   "cell_type": "code",
   "execution_count": 93,
   "metadata": {},
   "outputs": [
    {
     "data": {
      "image/png": "[encoded data removed]",
      "text/plain": [
       "<Figure size 432x648 with 1 Axes>"
      ]
     },
     "metadata": {},
     "output_type": "display_data"
    }
   ],
   "source": [
    "#sns.set(style=\"whitegrid\")\n",
    "f, ax = plt.subplots(figsize=(6, 9))\n",
    "\n",
    "# plot incidence count\n",
    "sns.set_color_codes(\"pastel\")\n",
    "sns.barplot(x=Age_incidence_ix['COUNT'], y=Age_incidence_ix.index, data=Age_incidence_ix, label=\"Incidence\", color=\"r\")\n",
    "\n",
    "# plot mortality count\n",
    "sns.set_color_codes(\"muted\")\n",
    "sns.barplot(x=Age_mort_ix['COUNT'], y=Age_mort_ix.index, data=Age_mort_ix, label=\"Mortality\", color=\"r\")\n",
    "\n",
    "ax.set_title(\"Total incidence and mortality by groups of age (2016)\", fontsize=16)\n",
    "ax.legend(ncol=2, loc=\"best\", frameon=True, fontsize=12)\n",
    "plt.show()"
   ]
  },
  {
   "cell_type": "markdown",
   "metadata": {},
   "source": [
    "## Most common cancer sites in the U.S."
   ]
  },
  {
   "cell_type": "markdown",
   "metadata": {},
   "source": [
    "### Top 5 cancer sites in 2016 "
   ]
  },
  {
   "cell_type": "code",
   "execution_count": 74,
   "metadata": {},
   "outputs": [
    {
     "data": {
      "text/html": [
       "<div>\n",
       "<style scoped>\n",
       "    .dataframe tbody tr th:only-of-type {\n",
       "        vertical-align: middle;\n",
       "    }\n",
       "\n",
       "    .dataframe tbody tr th {\n",
       "        vertical-align: top;\n",
       "    }\n",
       "\n",
       "    .dataframe thead th {\n",
       "        text-align: right;\n",
       "    }\n",
       "</style>\n",
       "<table border=\"1\" class=\"dataframe\">\n",
       "  <thead>\n",
       "    <tr style=\"text-align: right;\">\n",
       "      <th>YEAR</th>\n",
       "      <th>2016</th>\n",
       "      <th>Percentage</th>\n",
       "    </tr>\n",
       "    <tr>\n",
       "      <th>SITE</th>\n",
       "      <th></th>\n",
       "      <th></th>\n",
       "    </tr>\n",
       "  </thead>\n",
       "  <tbody>\n",
       "    <tr>\n",
       "      <th>Female Breast</th>\n",
       "      <td>245299.0</td>\n",
       "      <td>15.554620</td>\n",
       "    </tr>\n",
       "    <tr>\n",
       "      <th>Lung and Bronchus</th>\n",
       "      <td>218229.0</td>\n",
       "      <td>13.838088</td>\n",
       "    </tr>\n",
       "    <tr>\n",
       "      <th>Prostate</th>\n",
       "      <td>192443.0</td>\n",
       "      <td>12.202976</td>\n",
       "    </tr>\n",
       "    <tr>\n",
       "      <th>Colon and Rectum</th>\n",
       "      <td>141270.0</td>\n",
       "      <td>8.958052</td>\n",
       "    </tr>\n",
       "    <tr>\n",
       "      <th>Melanomas of the Skin</th>\n",
       "      <td>82476.0</td>\n",
       "      <td>5.229874</td>\n",
       "    </tr>\n",
       "  </tbody>\n",
       "</table>\n",
       "</div>"
      ],
      "text/plain": [
       "YEAR                       2016  Percentage\n",
       "SITE                                       \n",
       "Female Breast          245299.0   15.554620\n",
       "Lung and Bronchus      218229.0   13.838088\n",
       "Prostate               192443.0   12.202976\n",
       "Colon and Rectum       141270.0    8.958052\n",
       "Melanomas of the Skin   82476.0    5.229874"
      ]
     },
     "execution_count": 74,
     "metadata": {},
     "output_type": "execute_result"
    }
   ],
   "source": [
    "# Total incidence by cancer sites for both sexes \n",
    "Sites = GetAllRace(All_Sites)\n",
    "Sites_incidence = GetEvent(Sites)\n",
    "Sites_incidence_both = GetSex(Sites_incidence)\n",
    "sites = Sites_incidence_both[Sites_incidence_both.YEAR=='2016']\n",
    "sites = sites.groupby(['SITE','YEAR'])['COUNT'].sum().unstack(level=1)\n",
    "\n",
    "# Get percentage of 2016\n",
    "sites['Percentage'] = sites['2016'].apply(lambda x: x/sites['2016'].sum()*100)\n",
    "sites_sorted = sites.sort_values('Percentage',ascending=False)\n",
    "Top5 = sites_sorted[:5]\n",
    "Top5"
   ]
  },
  {
   "cell_type": "markdown",
   "metadata": {},
   "source": [
    "**Female Breast** accounts for nearly 15% of all cancer sites across the U.S. in 2016, followed by **Lung and Bronchus** (13.8%), and **Prostate** (12%). "
   ]
  },
  {
   "cell_type": "markdown",
   "metadata": {},
   "source": [
    "### Top 5 cancer sites by sex in 2016"
   ]
  },
  {
   "cell_type": "code",
   "execution_count": 77,
   "metadata": {},
   "outputs": [
    {
     "data": {
      "text/html": [
       "<div>\n",
       "<style scoped>\n",
       "    .dataframe tbody tr th:only-of-type {\n",
       "        vertical-align: middle;\n",
       "    }\n",
       "\n",
       "    .dataframe tbody tr th {\n",
       "        vertical-align: top;\n",
       "    }\n",
       "\n",
       "    .dataframe thead th {\n",
       "        text-align: right;\n",
       "    }\n",
       "</style>\n",
       "<table border=\"1\" class=\"dataframe\">\n",
       "  <thead>\n",
       "    <tr style=\"text-align: right;\">\n",
       "      <th>YEAR</th>\n",
       "      <th>2016</th>\n",
       "      <th>Percentage</th>\n",
       "    </tr>\n",
       "    <tr>\n",
       "      <th>SITE</th>\n",
       "      <th></th>\n",
       "      <th></th>\n",
       "    </tr>\n",
       "  </thead>\n",
       "  <tbody>\n",
       "    <tr>\n",
       "      <th>Female Breast</th>\n",
       "      <td>286786.0</td>\n",
       "      <td>27.063938</td>\n",
       "    </tr>\n",
       "    <tr>\n",
       "      <th>Lung and Bronchus</th>\n",
       "      <td>173279.0</td>\n",
       "      <td>16.352305</td>\n",
       "    </tr>\n",
       "    <tr>\n",
       "      <th>Colon and Rectum</th>\n",
       "      <td>92085.0</td>\n",
       "      <td>8.690043</td>\n",
       "    </tr>\n",
       "    <tr>\n",
       "      <th>Corpus and Uterus, NOS</th>\n",
       "      <td>67518.0</td>\n",
       "      <td>6.371660</td>\n",
       "    </tr>\n",
       "    <tr>\n",
       "      <th>Female Breast, &lt;i&gt;in situ&lt;/i&gt;</th>\n",
       "      <td>54967.0</td>\n",
       "      <td>5.187225</td>\n",
       "    </tr>\n",
       "  </tbody>\n",
       "</table>\n",
       "</div>"
      ],
      "text/plain": [
       "YEAR                               2016  Percentage\n",
       "SITE                                               \n",
       "Female Breast                  286786.0   27.063938\n",
       "Lung and Bronchus              173279.0   16.352305\n",
       "Colon and Rectum                92085.0    8.690043\n",
       "Corpus and Uterus, NOS          67518.0    6.371660\n",
       "Female Breast, <i>in situ</i>   54967.0    5.187225"
      ]
     },
     "execution_count": 77,
     "metadata": {},
     "output_type": "execute_result"
    }
   ],
   "source": [
    "# Top 5 cancer sites for female population in 2016\n",
    "Sites_Female = GetSex(Sites, sex='Female')\n",
    "Sites_Female = Sites_Female[Sites_Female.YEAR=='2016']\n",
    "Sites_Female_Grouped = Sites_Female.groupby(['SITE','YEAR'])['COUNT'].sum().unstack(level=1)\n",
    "\n",
    "# Get percentage of 2016\n",
    "Sites_Female_Grouped['Percentage'] = Sites_Female_Grouped['2016'].apply(lambda x: x/(Sites_Female_Grouped['2016'].sum())*100)\n",
    "Sites_Female_Grouped = Sites_Female_Grouped.sort_values('Percentage',ascending=False)\n",
    "FemaleTop5 = Sites_Female_Grouped[:5]\n",
    "FemaleTop5\n"
   ]
  },
  {
   "cell_type": "code",
   "execution_count": 78,
   "metadata": {},
   "outputs": [
    {
     "data": {
      "text/html": [
       "<div>\n",
       "<style scoped>\n",
       "    .dataframe tbody tr th:only-of-type {\n",
       "        vertical-align: middle;\n",
       "    }\n",
       "\n",
       "    .dataframe tbody tr th {\n",
       "        vertical-align: top;\n",
       "    }\n",
       "\n",
       "    .dataframe thead th {\n",
       "        text-align: right;\n",
       "    }\n",
       "</style>\n",
       "<table border=\"1\" class=\"dataframe\">\n",
       "  <thead>\n",
       "    <tr style=\"text-align: right;\">\n",
       "      <th>YEAR</th>\n",
       "      <th>2016</th>\n",
       "      <th>Percentage</th>\n",
       "    </tr>\n",
       "    <tr>\n",
       "      <th>SITE</th>\n",
       "      <th></th>\n",
       "      <th></th>\n",
       "    </tr>\n",
       "  </thead>\n",
       "  <tbody>\n",
       "    <tr>\n",
       "      <th>Prostate</th>\n",
       "      <td>222813.0</td>\n",
       "      <td>21.401834</td>\n",
       "    </tr>\n",
       "    <tr>\n",
       "      <th>Lung and Bronchus</th>\n",
       "      <td>193819.0</td>\n",
       "      <td>18.616877</td>\n",
       "    </tr>\n",
       "    <tr>\n",
       "      <th>Colon and Rectum</th>\n",
       "      <td>101471.0</td>\n",
       "      <td>9.746584</td>\n",
       "    </tr>\n",
       "    <tr>\n",
       "      <th>Urinary Bladder</th>\n",
       "      <td>67721.0</td>\n",
       "      <td>6.504798</td>\n",
       "    </tr>\n",
       "    <tr>\n",
       "      <th>Melanomas of the Skin</th>\n",
       "      <td>54136.0</td>\n",
       "      <td>5.199920</td>\n",
       "    </tr>\n",
       "  </tbody>\n",
       "</table>\n",
       "</div>"
      ],
      "text/plain": [
       "YEAR                       2016  Percentage\n",
       "SITE                                       \n",
       "Prostate               222813.0   21.401834\n",
       "Lung and Bronchus      193819.0   18.616877\n",
       "Colon and Rectum       101471.0    9.746584\n",
       "Urinary Bladder         67721.0    6.504798\n",
       "Melanomas of the Skin   54136.0    5.199920"
      ]
     },
     "execution_count": 78,
     "metadata": {},
     "output_type": "execute_result"
    }
   ],
   "source": [
    "# Top 5 cancer sites for male population in 2016\n",
    "Sites_Male = GetSex(Sites, sex='Male')\n",
    "Sites_Male = Sites_Male[Sites_Male.YEAR=='2016']\n",
    "Sites_Male_Grouped = Sites_Male.groupby(['SITE','YEAR'])['COUNT'].sum().unstack(level=1)\n",
    "\n",
    "# Get percentage of 2016\n",
    "Sites_Male_Grouped['Percentage'] = Sites_Male_Grouped['2016'].apply(lambda x: x/(Sites_Male_Grouped['2016'].sum())*100)\n",
    "Sites_Male_Grouped = Sites_Male_Grouped.sort_values('Percentage',ascending=False)\n",
    "MaleTop5 = Sites_Male_Grouped[:5]\n",
    "MaleTop5"
   ]
  },
  {
   "cell_type": "code",
   "execution_count": 79,
   "metadata": {},
   "outputs": [],
   "source": [
    "# Let's plot the above data frames\n",
    "# Define a function to create labels and values of the pie charts.\n",
    "def ValuesLabels(df, column='Percentage'):\n",
    "    t = 0\n",
    "    values = []\n",
    "    labels = []\n",
    "    for index, row in df.iterrows():\n",
    "        v = row[column]\n",
    "        t += v\n",
    "        values.append(v)\n",
    "        labels.append(index)\n",
    "    values.append(100-t)\n",
    "    labels.append('Others')\n",
    "    return values, labels"
   ]
  },
  {
   "cell_type": "code",
   "execution_count": 80,
   "metadata": {},
   "outputs": [],
   "source": [
    "Fvalues = ValuesLabels(FemaleTop5)[0]\n",
    "Flabels = ValuesLabels(FemaleTop5)[1]\n",
    "Mvalues = ValuesLabels(MaleTop5)[0]\n",
    "Mlabels = ValuesLabels(MaleTop5)[1]"
   ]
  },
  {
   "cell_type": "code",
   "execution_count": 83,
   "metadata": {},
   "outputs": [
    {
     "data": {
      "text/html": [
       "\n",
       "        <iframe\n",
       "            width=\"100%\"\n",
       "            height=\"525px\"\n",
       "            src=\"https://plotly.com/~svaldes.salas/166.embed\"\n",
       "            frameborder=\"0\"\n",
       "            allowfullscreen\n",
       "        ></iframe>\n",
       "        "
      ],
      "text/plain": [
       "<IPython.lib.display.IFrame at 0x1331bab50>"
      ]
     },
     "execution_count": 83,
     "metadata": {},
     "output_type": "execute_result"
    }
   ],
   "source": [
    "# Create subplots: use 'domain' type for Pie subplot\n",
    "fig4 = make_subplots(rows=1, cols=2, specs=[[{'type':'domain'}, {'type':'domain'}]])\n",
    "fig4.add_trace(go.Pie(labels=Mlabels, values=Mvalues, name=\"Male\"),\n",
    "              1, 1)\n",
    "fig4.add_trace(go.Pie(labels=Flabels, values=Fvalues, name=\"Female\"),\n",
    "              1, 2)\n",
    "\n",
    "fig4.update_traces(hole=.4)\n",
    "fig4.update_layout(\n",
    "    title_text=\"Top 5 cancer incidence for men and women in the U.S. in 2016 (by sites)\",\n",
    "    annotations=[dict(text='Male', x=0.18, y=0.5, font_size=20, showarrow=False),\n",
    "                 dict(text='Female', x=0.82, y=0.5, font_size=20, showarrow=False)])\n",
    "py.iplot(fig4)"
   ]
  },
  {
   "cell_type": "code",
   "execution_count": 94,
   "metadata": {},
   "outputs": [],
   "source": [
    "#Save image\n",
    "fig4.write_image(\"images/fig4.png\")"
   ]
  },
  {
   "cell_type": "markdown",
   "metadata": {},
   "source": [
    "As expected, **Breast Cancer** is the most common cancer site in 2016 for women (it accounts for nearly one third of all cancer sites of women in 2016), whereas **Prostate** is the most common cancer site for men. For both sexes, **Lung and Bronchus** is the second most common cancer site.  "
   ]
  },
  {
   "cell_type": "markdown",
   "metadata": {},
   "source": [
    "### Incidence and mortality of top 10 cancer sites (2006-2016)"
   ]
  },
  {
   "cell_type": "code",
   "execution_count": 96,
   "metadata": {},
   "outputs": [],
   "source": [
    "# Get incidence of all cancer sites for all years\n",
    "sites_years = Sites_incidence_both.loc[:,['STATE','SITE','YEAR','COUNT']]\n",
    "years_grouped = sites_years.groupby(['SITE','YEAR',])['COUNT'].sum().unstack(level=1)\n",
    "top10 = years_grouped.sort_values('2016',ascending=False)[:10].transpose()\n",
    "top10 = top10.rename(columns={'Female Breast, <i>in situ</i>':'Female Breast, in situ'})"
   ]
  },
  {
   "cell_type": "code",
   "execution_count": 97,
   "metadata": {},
   "outputs": [
    {
     "data": {
      "image/png": "[encoded data removed]",
      "text/plain": [
       "<Figure size 864x504 with 1 Axes>"
      ]
     },
     "metadata": {},
     "output_type": "display_data"
    }
   ],
   "source": [
    "# plot\n",
    "sns.set()\n",
    "my_colors3 = sns.color_palette(\"hls\", 8)\n",
    "\n",
    "Fig5 = top10.plot(figsize=(12,7), color=my_colors3, linewidth=2)\n",
    "plt.title('Total incidence of Top 10 cancer sites for the U.S. population (2006-2016)', fontsize=14)\n",
    "plt.ylabel('COUNT')\n",
    "plt.legend(bbox_to_anchor=(1.05, 1), loc=2)\n",
    "plt.savefig('./images/fig5.png')\n",
    "plt.show()"
   ]
  },
  {
   "cell_type": "markdown",
   "metadata": {},
   "source": [
    "With the above chart we can see that total incidence trends across the U.S., from 2006 to 2016:\n",
    "- Female Breast shows an upward trend;\n",
    "- Lung and Bronchus shows a similar constant trend;\n",
    "- Prostate shows a downward trend."
   ]
  },
  {
   "cell_type": "code",
   "execution_count": 98,
   "metadata": {
    "scrolled": false
   },
   "outputs": [
    {
     "data": {
      "text/html": [
       "<div>\n",
       "<style scoped>\n",
       "    .dataframe tbody tr th:only-of-type {\n",
       "        vertical-align: middle;\n",
       "    }\n",
       "\n",
       "    .dataframe tbody tr th {\n",
       "        vertical-align: top;\n",
       "    }\n",
       "\n",
       "    .dataframe thead th {\n",
       "        text-align: right;\n",
       "    }\n",
       "</style>\n",
       "<table border=\"1\" class=\"dataframe\">\n",
       "  <thead>\n",
       "    <tr style=\"text-align: right;\">\n",
       "      <th>YEAR</th>\n",
       "      <th>2006</th>\n",
       "      <th>2016</th>\n",
       "    </tr>\n",
       "    <tr>\n",
       "      <th>SITE</th>\n",
       "      <th></th>\n",
       "      <th></th>\n",
       "    </tr>\n",
       "  </thead>\n",
       "  <tbody>\n",
       "    <tr>\n",
       "      <th>Lung and Bronchus</th>\n",
       "      <td>19.267794</td>\n",
       "      <td>17.433347</td>\n",
       "    </tr>\n",
       "    <tr>\n",
       "      <th>Female Breast</th>\n",
       "      <td>12.734339</td>\n",
       "      <td>13.619360</td>\n",
       "    </tr>\n",
       "    <tr>\n",
       "      <th>Prostate</th>\n",
       "      <td>13.162747</td>\n",
       "      <td>10.581306</td>\n",
       "    </tr>\n",
       "    <tr>\n",
       "      <th>Colon and Rectum</th>\n",
       "      <td>10.519563</td>\n",
       "      <td>9.191902</td>\n",
       "    </tr>\n",
       "    <tr>\n",
       "      <th>Pancreas</th>\n",
       "      <td>3.661082</td>\n",
       "      <td>4.361922</td>\n",
       "    </tr>\n",
       "    <tr>\n",
       "      <th>Melanomas of the Skin</th>\n",
       "      <td>3.512019</td>\n",
       "      <td>4.304175</td>\n",
       "    </tr>\n",
       "    <tr>\n",
       "      <th>Urinary Bladder</th>\n",
       "      <td>4.118730</td>\n",
       "      <td>4.279528</td>\n",
       "    </tr>\n",
       "    <tr>\n",
       "      <th>Non-Hodgkin Lymphoma</th>\n",
       "      <td>4.227680</td>\n",
       "      <td>4.210953</td>\n",
       "    </tr>\n",
       "    <tr>\n",
       "      <th>Kidney and Renal Pelvis</th>\n",
       "      <td>3.188033</td>\n",
       "      <td>3.678879</td>\n",
       "    </tr>\n",
       "    <tr>\n",
       "      <th>Leukemias</th>\n",
       "      <td>3.299116</td>\n",
       "      <td>3.389287</td>\n",
       "    </tr>\n",
       "  </tbody>\n",
       "</table>\n",
       "</div>"
      ],
      "text/plain": [
       "YEAR                          2006       2016\n",
       "SITE                                         \n",
       "Lung and Bronchus        19.267794  17.433347\n",
       "Female Breast            12.734339  13.619360\n",
       "Prostate                 13.162747  10.581306\n",
       "Colon and Rectum         10.519563   9.191902\n",
       "Pancreas                  3.661082   4.361922\n",
       "Melanomas of the Skin     3.512019   4.304175\n",
       "Urinary Bladder           4.118730   4.279528\n",
       "Non-Hodgkin Lymphoma      4.227680   4.210953\n",
       "Kidney and Renal Pelvis   3.188033   3.678879\n",
       "Leukemias                 3.299116   3.389287"
      ]
     },
     "execution_count": 98,
     "metadata": {},
     "output_type": "execute_result"
    }
   ],
   "source": [
    "Sites2 = GetAllRace(All_Sites)\n",
    "sitesMor = GetSex(Sites2).loc[:,['STATE','SITE','YEAR','COUNT']]\n",
    "sitesMor = sitesMor[sitesMor['YEAR']>'2005']\n",
    "sitesMor_grouped = sitesMor.groupby(['SITE','YEAR',])['COUNT'].sum().unstack()\n",
    "top10Mor = sitesMor_grouped.sort_values('2016',ascending=False)[:10].transpose()\n",
    "top10Mor\n",
    "\n",
    "# Let's check percentage distribution for the most common cancer sites from 2006 to 2016\n",
    "t = sitesMor.groupby('YEAR',)['COUNT'].sum()\n",
    "Mor_perc = top10Mor.apply(lambda x: x/t*100)\n",
    "Mor_perc.transpose().loc[:,['2006','2016']]"
   ]
  },
  {
   "cell_type": "markdown",
   "metadata": {},
   "source": [
    "With this dataframe we can see percentage change trends in the most common cancer sites. Take a look at Lung and Bronchus, which has "
   ]
  },
  {
   "cell_type": "code",
   "execution_count": 102,
   "metadata": {},
   "outputs": [
    {
     "data": {
      "text/html": [
       "\n",
       "        <iframe\n",
       "            width=\"100%\"\n",
       "            height=\"525px\"\n",
       "            src=\"https://plotly.com/~svaldes.salas/176.embed\"\n",
       "            frameborder=\"0\"\n",
       "            allowfullscreen\n",
       "        ></iframe>\n",
       "        "
      ],
      "text/plain": [
       "<IPython.lib.display.IFrame at 0x12e159210>"
      ]
     },
     "execution_count": 102,
     "metadata": {},
     "output_type": "execute_result"
    }
   ],
   "source": [
    "#data_incidence = px.data.pop()\n",
    "fig6 = go.Figure(data=[\n",
    "    go.Bar(name='Lung and Bronchus', x=Mor_perc.index, y=Mor_perc['Lung and Bronchus']),\n",
    "    go.Bar(name='Female Breast', x=Mor_perc.index, y=Mor_perc['Female Breast']),\n",
    "    go.Bar(name='Prostate', x=Mor_perc.index, y=Mor_perc['Prostate'])])\n",
    "\n",
    "fig6.update_layout(\n",
    "    title='Percentage share of total mortality of Top 3 cancer sites (from 2006 to 2016)',\n",
    "    xaxis_tickfont_size=14,\n",
    "    barmode='group',\n",
    "    bargap=0.25,\n",
    "    bargroupgap=0.1)\n",
    "fig6.update_xaxes(title_text='Percentage')\n",
    "fig6.update_yaxes(title_text='Year')\n",
    "\n",
    "py.iplot(fig6)"
   ]
  },
  {
   "cell_type": "code",
   "execution_count": 103,
   "metadata": {},
   "outputs": [],
   "source": [
    "#Save image\n",
    "fig6.write_image(\"images/fig6.png\")"
   ]
  },
  {
   "cell_type": "markdown",
   "metadata": {},
   "source": [
    "When analyzing mortality, trends among the Top 3 cancer sites are slightly different. Lung and Bronchus cancer has the largest mortality: in 2016, around 17% of all mortality was primarily due to this cancer type.\n",
    "\n",
    "It is worth noting total mortality trends between Female Breast cancer and Prostate cancer. On the one hand, Female Breast cancer shows an upward trend. In 2006 mortality by Female Breast cancer accounted for 12.7% of mortality from all cancer types. However, in 2016, this percentage increased up to 13.6%. Although this percentage change might be considered small (less than 1%), mortality by Female Breast cancer shows an upward trend.\n",
    "\n",
    "On the other hand, total mortality by Prostate cancer shows the opposite trend. It seems that mortality by Prostate cancer, as a share of total mortality by cancer, has decreased during the 10-year period."
   ]
  },
  {
   "cell_type": "markdown",
   "metadata": {},
   "source": [
    "## Female Breast Cancer in the U.S."
   ]
  },
  {
   "cell_type": "markdown",
   "metadata": {},
   "source": [
    "### Most affected women by race"
   ]
  },
  {
   "cell_type": "code",
   "execution_count": 104,
   "metadata": {},
   "outputs": [
    {
     "data": {
      "text/html": [
       "<div>\n",
       "<style scoped>\n",
       "    .dataframe tbody tr th:only-of-type {\n",
       "        vertical-align: middle;\n",
       "    }\n",
       "\n",
       "    .dataframe tbody tr th {\n",
       "        vertical-align: top;\n",
       "    }\n",
       "\n",
       "    .dataframe thead th {\n",
       "        text-align: right;\n",
       "    }\n",
       "</style>\n",
       "<table border=\"1\" class=\"dataframe\">\n",
       "  <thead>\n",
       "    <tr style=\"text-align: right;\">\n",
       "      <th>EVENT</th>\n",
       "      <th>Incidence</th>\n",
       "      <th>Mortality</th>\n",
       "    </tr>\n",
       "    <tr>\n",
       "      <th>RACE</th>\n",
       "      <th></th>\n",
       "      <th></th>\n",
       "    </tr>\n",
       "  </thead>\n",
       "  <tbody>\n",
       "    <tr>\n",
       "      <th>American Indian/Alaska Native</th>\n",
       "      <td>1203.0</td>\n",
       "      <td>134.0</td>\n",
       "    </tr>\n",
       "    <tr>\n",
       "      <th>Asian/Pacific Islander</th>\n",
       "      <td>10256.0</td>\n",
       "      <td>1046.0</td>\n",
       "    </tr>\n",
       "    <tr>\n",
       "      <th>Black</th>\n",
       "      <td>28906.0</td>\n",
       "      <td>6273.0</td>\n",
       "    </tr>\n",
       "    <tr>\n",
       "      <th>Hispanic</th>\n",
       "      <td>20580.0</td>\n",
       "      <td>2809.0</td>\n",
       "    </tr>\n",
       "    <tr>\n",
       "      <th>White</th>\n",
       "      <td>201207.0</td>\n",
       "      <td>33749.0</td>\n",
       "    </tr>\n",
       "  </tbody>\n",
       "</table>\n",
       "</div>"
      ],
      "text/plain": [
       "EVENT                          Incidence  Mortality\n",
       "RACE                                               \n",
       "American Indian/Alaska Native     1203.0      134.0\n",
       "Asian/Pacific Islander           10256.0     1046.0\n",
       "Black                            28906.0     6273.0\n",
       "Hispanic                         20580.0     2809.0\n",
       "White                           201207.0    33749.0"
      ]
     },
     "execution_count": 104,
     "metadata": {},
     "output_type": "execute_result"
    }
   ],
   "source": [
    "# Prepare data frame of breast cancer for the female population in 2016\n",
    "BreastCancer = All_Sites[(All_Sites.SITE=='Female Breast') & (All_Sites.SEX=='Female')]\n",
    "\n",
    "# Get both incidence and mortality for all races in 2016 \n",
    "Breast = GetAllRace(BreastCancer, all_races=False)\n",
    "Breast = Breast[Breast.YEAR=='2016']\n",
    "BreastByRaces = Breast.groupby(['EVENT','RACE']).sum().COUNT.unstack(level=0)\n",
    "BreastByRaces"
   ]
  },
  {
   "cell_type": "code",
   "execution_count": 105,
   "metadata": {},
   "outputs": [
    {
     "data": {
      "text/html": [
       "\n",
       "        <iframe\n",
       "            width=\"100%\"\n",
       "            height=\"525px\"\n",
       "            src=\"https://plotly.com/~svaldes.salas/178.embed\"\n",
       "            frameborder=\"0\"\n",
       "            allowfullscreen\n",
       "        ></iframe>\n",
       "        "
      ],
      "text/plain": [
       "<IPython.lib.display.IFrame at 0x132b0e9d0>"
      ]
     },
     "execution_count": 105,
     "metadata": {},
     "output_type": "execute_result"
    }
   ],
   "source": [
    "# plot incidence \n",
    "fig7 = go.Figure(go.Bar(\n",
    "    y=BreastByRaces.index, x=BreastByRaces['Incidence'],\n",
    "    orientation='h'),\n",
    "    layout_title_text='Total incidence of Female Breast Cancer by race (2016)')\n",
    "\n",
    "fig7.update_layout(barmode='group')\n",
    "py.iplot(fig7)"
   ]
  },
  {
   "cell_type": "code",
   "execution_count": 106,
   "metadata": {},
   "outputs": [],
   "source": [
    "#Save image\n",
    "fig7.write_image(\"images/fig7.png\")"
   ]
  },
  {
   "cell_type": "code",
   "execution_count": 107,
   "metadata": {
    "scrolled": false
   },
   "outputs": [
    {
     "data": {
      "text/html": [
       "<div>\n",
       "<style scoped>\n",
       "    .dataframe tbody tr th:only-of-type {\n",
       "        vertical-align: middle;\n",
       "    }\n",
       "\n",
       "    .dataframe tbody tr th {\n",
       "        vertical-align: top;\n",
       "    }\n",
       "\n",
       "    .dataframe thead th {\n",
       "        text-align: right;\n",
       "    }\n",
       "</style>\n",
       "<table border=\"1\" class=\"dataframe\">\n",
       "  <thead>\n",
       "    <tr style=\"text-align: right;\">\n",
       "      <th></th>\n",
       "      <th>Incidence</th>\n",
       "      <th>Mortality</th>\n",
       "    </tr>\n",
       "    <tr>\n",
       "      <th>RACE</th>\n",
       "      <th></th>\n",
       "      <th></th>\n",
       "    </tr>\n",
       "  </thead>\n",
       "  <tbody>\n",
       "    <tr>\n",
       "      <th>American Indian/Alaska Native</th>\n",
       "      <td>0.458894</td>\n",
       "      <td>0.304469</td>\n",
       "    </tr>\n",
       "    <tr>\n",
       "      <th>Asian/Pacific Islander</th>\n",
       "      <td>3.912234</td>\n",
       "      <td>2.376679</td>\n",
       "    </tr>\n",
       "    <tr>\n",
       "      <th>Black</th>\n",
       "      <td>11.026427</td>\n",
       "      <td>14.253255</td>\n",
       "    </tr>\n",
       "    <tr>\n",
       "      <th>Hispanic</th>\n",
       "      <td>7.850407</td>\n",
       "      <td>6.382495</td>\n",
       "    </tr>\n",
       "    <tr>\n",
       "      <th>White</th>\n",
       "      <td>76.752037</td>\n",
       "      <td>76.683102</td>\n",
       "    </tr>\n",
       "  </tbody>\n",
       "</table>\n",
       "</div>"
      ],
      "text/plain": [
       "                               Incidence  Mortality\n",
       "RACE                                               \n",
       "American Indian/Alaska Native   0.458894   0.304469\n",
       "Asian/Pacific Islander          3.912234   2.376679\n",
       "Black                          11.026427  14.253255\n",
       "Hispanic                        7.850407   6.382495\n",
       "White                          76.752037  76.683102"
      ]
     },
     "execution_count": 107,
     "metadata": {},
     "output_type": "execute_result"
    }
   ],
   "source": [
    "# Get percentage distribution of incidence and mortality by race\n",
    "BreastByRaces = Breast.groupby(['EVENT','RACE']).sum().COUNT.unstack(level=0)\n",
    "i = BreastByRaces['Incidence'].apply(lambda x:x/(BreastByRaces['Incidence'].sum())*100)\n",
    "m = BreastByRaces['Mortality'].apply(lambda x:x/(BreastByRaces['Mortality'].sum())*100)\n",
    "result = pd.concat([i, m], axis=1, sort=False)\n",
    "result"
   ]
  },
  {
   "cell_type": "code",
   "execution_count": 108,
   "metadata": {},
   "outputs": [
    {
     "data": {
      "image/png": "[encoded data removed]",
      "text/plain": [
       "<Figure size 936x360 with 1 Axes>"
      ]
     },
     "metadata": {},
     "output_type": "display_data"
    }
   ],
   "source": [
    "# plot\n",
    "sns.set_style('white')\n",
    "result.transpose().plot(kind='barh', figsize=(13,5), stacked=True, color=['#030a36','#0c2599','#3452eb','#8896e3','#6d7187'])\n",
    "plt.title('Percentage distribution of incidence and mortality by race (2016)', fontsize=18)\n",
    "plt.xlabel('Percentage', fontsize=14)\n",
    "plt.ylabel('Event', fontsize=14)\n",
    "plt.legend(bbox_to_anchor=(1.05, 1), loc=2)\n",
    "plt.savefig('./images/fig8.png')\n",
    "plt.show()"
   ]
  },
  {
   "cell_type": "markdown",
   "metadata": {},
   "source": [
    "Percentage distribution of total mortality by Female Breast cancer across race is very similar to that of total incidence. If we compare the absolute difference between both events, 'black race' has a larger difference. That is, the share of 'black race' increases when measuring percentage distribution by race of total mortality. This suggests that mortality caused by Female Breast cancer is higher for this group.  "
   ]
  },
  {
   "cell_type": "code",
   "execution_count": 109,
   "metadata": {},
   "outputs": [
    {
     "data": {
      "text/plain": [
       "RACE\n",
       "American Indian/Alaska Native    0.154425\n",
       "Asian/Pacific Islander           1.535556\n",
       "Black                            3.226827\n",
       "Hispanic                         1.467912\n",
       "White                            0.068935\n",
       "dtype: float64"
      ]
     },
     "execution_count": 109,
     "metadata": {},
     "output_type": "execute_result"
    }
   ],
   "source": [
    "abs(i-m)"
   ]
  },
  {
   "cell_type": "markdown",
   "metadata": {},
   "source": [
    "### Mortality rates by age and by race"
   ]
  },
  {
   "cell_type": "code",
   "execution_count": 111,
   "metadata": {},
   "outputs": [
    {
     "data": {
      "text/html": [
       "\n",
       "        <iframe\n",
       "            width=\"100%\"\n",
       "            height=\"525px\"\n",
       "            src=\"https://plotly.com/~svaldes.salas/180.embed\"\n",
       "            frameborder=\"0\"\n",
       "            allowfullscreen\n",
       "        ></iframe>\n",
       "        "
      ],
      "text/plain": [
       "<IPython.lib.display.IFrame at 0x1311026d0>"
      ]
     },
     "execution_count": 111,
     "metadata": {},
     "output_type": "execute_result"
    }
   ],
   "source": [
    "import plotly.express as px\n",
    "# Prepare data frame \n",
    "CancerWomen = GetSex(ByAgeAllSites, sex='Female')\n",
    "AgeBreast = CancerWomen.loc[CancerWomen.SITE=='Female Breast']\n",
    "AgeBreast = GetAllRace(AgeBreast, all_races=False)\n",
    "AgeBreast_mort = GetEvent(AgeBreast, event='Mortality')\n",
    "\n",
    "# Plot\n",
    "fig9 = px.scatter(x=AgeBreast_mort.AGE, y=AgeBreast_mort.RATE, color=AgeBreast_mort.RACE)\n",
    "fig9.update_layout(\n",
    "    title=\"Mortality rates of Female Breast Cancer by groups of age and by race (1999-2016)\",\n",
    "    xaxis_title=\"Groups of Age\",\n",
    "    yaxis_title=\"Incidence Rate\")\n",
    "py.iplot(fig9)"
   ]
  },
  {
   "cell_type": "code",
   "execution_count": 112,
   "metadata": {},
   "outputs": [],
   "source": [
    "#Save image\n",
    "fig9.write_image(\"images/fig9.png\")"
   ]
  },
  {
   "cell_type": "markdown",
   "metadata": {},
   "source": [
    "### Change by state (from 2006 to 2016)"
   ]
  },
  {
   "cell_type": "code",
   "execution_count": 113,
   "metadata": {},
   "outputs": [],
   "source": [
    "def plotChange(df, event):\n",
    "    # Get event\n",
    "    df = GetEvent(df, event)\n",
    "    # Get race\n",
    "    df = GetAllRace(df)\n",
    "    # prepare data frame\n",
    "    df = df.loc[:,['YEAR','STATE','RATE']].set_index('STATE')\n",
    "    # use CompareRate function\n",
    "    compared = CompareRate(df)\n",
    "    \n",
    "    # plot\n",
    "    my_colors2 = sns.diverging_palette(258, 12, s=95, l=55 , sep=1, n=51 ,center='dark')\n",
    "    plt.figure(figsize=(20,10))\n",
    "    plt.xticks(fontsize=13, rotation=90)\n",
    "    ax = sns.barplot(x = compared.index , y='Change', data=compared, palette=my_colors2)\n",
    "    ax.set_xlabel(\"States\", fontsize=15)\n",
    "    ax.set_ylabel(\"Percentage change\", fontsize=15)\n",
    "    ax.axes.set_title(\"Percentage change of {} Rates of Female Breast cancer by state (from 2016 to 2006)\".format(event), fontsize=18)\n",
    "    \n",
    "    return plt.show()"
   ]
  },
  {
   "cell_type": "code",
   "execution_count": 114,
   "metadata": {},
   "outputs": [
    {
     "data": {
      "image/png": "[encoded data removed]",
      "text/plain": [
       "<Figure size 1440x720 with 1 Axes>"
      ]
     },
     "metadata": {},
     "output_type": "display_data"
    }
   ],
   "source": [
    "plotChange(BreastCancer, event='Incidence')"
   ]
  },
  {
   "cell_type": "markdown",
   "metadata": {},
   "source": [
    "By analyzing percentage rates of **incidence rates**, only 2 states registered a drop between 2006 and 2016:\n",
    "- The District of Columbia has registered a significant drop of incidence rate of Female Breast cancer between 2006 and 2016 (more than 15% drop). \n",
    "- Oregon had a smaller decreased of incidence rate for the same period (around 2% drop)."
   ]
  },
  {
   "cell_type": "code",
   "execution_count": 115,
   "metadata": {},
   "outputs": [
    {
     "data": {
      "image/png": "[encoded data removed]",
      "text/plain": [
       "<Figure size 1440x720 with 1 Axes>"
      ]
     },
     "metadata": {},
     "output_type": "display_data"
    }
   ],
   "source": [
    "plotChange(BreastCancer, event='Mortality')"
   ]
  },
  {
   "cell_type": "markdown",
   "metadata": {},
   "source": [
    "Percentage rates of **mortality rates** reflect a different situation. The majority of the states in the U.S. registered a fall in mortality rates between 2006 and 2016."
   ]
  },
  {
   "cell_type": "code",
   "execution_count": 116,
   "metadata": {},
   "outputs": [
    {
     "name": "stdout",
     "output_type": "stream",
     "text": [
      "West\n",
      "West\n",
      "South\n"
     ]
    }
   ],
   "source": [
    "print(fetchRegion('Nevada'))\n",
    "print(fetchRegion('Idaho'))\n",
    "print(fetchRegion('Delaware'))"
   ]
  },
  {
   "cell_type": "markdown",
   "metadata": {},
   "source": [
    "### Incidence and mortality rates by state in 2016"
   ]
  },
  {
   "cell_type": "markdown",
   "metadata": {},
   "source": [
    "Get codes of US states from this [source](http://worldpopulationreview.com/states/state-abbreviations/)"
   ]
  },
  {
   "cell_type": "code",
   "execution_count": 117,
   "metadata": {},
   "outputs": [
    {
     "data": {
      "text/html": [
       "<div>\n",
       "<style scoped>\n",
       "    .dataframe tbody tr th:only-of-type {\n",
       "        vertical-align: middle;\n",
       "    }\n",
       "\n",
       "    .dataframe tbody tr th {\n",
       "        vertical-align: top;\n",
       "    }\n",
       "\n",
       "    .dataframe thead th {\n",
       "        text-align: right;\n",
       "    }\n",
       "</style>\n",
       "<table border=\"1\" class=\"dataframe\">\n",
       "  <thead>\n",
       "    <tr style=\"text-align: right;\">\n",
       "      <th></th>\n",
       "      <th>YEAR</th>\n",
       "      <th>REGION</th>\n",
       "      <th>RATE</th>\n",
       "    </tr>\n",
       "    <tr>\n",
       "      <th>STATE</th>\n",
       "      <th></th>\n",
       "      <th></th>\n",
       "      <th></th>\n",
       "    </tr>\n",
       "  </thead>\n",
       "  <tbody>\n",
       "    <tr>\n",
       "      <th>New Hampshire</th>\n",
       "      <td>2016</td>\n",
       "      <td>Northeast</td>\n",
       "      <td>193.4</td>\n",
       "    </tr>\n",
       "    <tr>\n",
       "      <th>Connecticut</th>\n",
       "      <td>2016</td>\n",
       "      <td>Northeast</td>\n",
       "      <td>177.5</td>\n",
       "    </tr>\n",
       "    <tr>\n",
       "      <th>Vermont</th>\n",
       "      <td>2016</td>\n",
       "      <td>Northeast</td>\n",
       "      <td>175.3</td>\n",
       "    </tr>\n",
       "    <tr>\n",
       "      <th>Maine</th>\n",
       "      <td>2016</td>\n",
       "      <td>Northeast</td>\n",
       "      <td>174.9</td>\n",
       "    </tr>\n",
       "    <tr>\n",
       "      <th>Pennsylvania</th>\n",
       "      <td>2016</td>\n",
       "      <td>Northeast</td>\n",
       "      <td>172.9</td>\n",
       "    </tr>\n",
       "  </tbody>\n",
       "</table>\n",
       "</div>"
      ],
      "text/plain": [
       "               YEAR     REGION   RATE\n",
       "STATE                                \n",
       "New Hampshire  2016  Northeast  193.4\n",
       "Connecticut    2016  Northeast  177.5\n",
       "Vermont        2016  Northeast  175.3\n",
       "Maine          2016  Northeast  174.9\n",
       "Pennsylvania   2016  Northeast  172.9"
      ]
     },
     "execution_count": 117,
     "metadata": {},
     "output_type": "execute_result"
    }
   ],
   "source": [
    "# Get incidence in 2016\n",
    "breast_incidence = GetEvent(BreastCancer)\n",
    "breast_incidence = GetAllRace(breast_incidence).loc[:,['YEAR','STATE','REGION','RATE']].set_index('STATE')\n",
    "breast_incidence2016 = breast_incidence.loc[breast_incidence.YEAR=='2016']\n",
    "breast_incidence2016.sort_values('RATE', ascending=False).head()"
   ]
  },
  {
   "cell_type": "code",
   "execution_count": 118,
   "metadata": {},
   "outputs": [
    {
     "data": {
      "text/html": [
       "<div>\n",
       "<style scoped>\n",
       "    .dataframe tbody tr th:only-of-type {\n",
       "        vertical-align: middle;\n",
       "    }\n",
       "\n",
       "    .dataframe tbody tr th {\n",
       "        vertical-align: top;\n",
       "    }\n",
       "\n",
       "    .dataframe thead th {\n",
       "        text-align: right;\n",
       "    }\n",
       "</style>\n",
       "<table border=\"1\" class=\"dataframe\">\n",
       "  <thead>\n",
       "    <tr style=\"text-align: right;\">\n",
       "      <th></th>\n",
       "      <th>YEAR</th>\n",
       "      <th>REGION</th>\n",
       "      <th>RATE</th>\n",
       "    </tr>\n",
       "    <tr>\n",
       "      <th>STATE</th>\n",
       "      <th></th>\n",
       "      <th></th>\n",
       "      <th></th>\n",
       "    </tr>\n",
       "  </thead>\n",
       "  <tbody>\n",
       "    <tr>\n",
       "      <th>West Virginia</th>\n",
       "      <td>2016</td>\n",
       "      <td>South</td>\n",
       "      <td>31.4</td>\n",
       "    </tr>\n",
       "    <tr>\n",
       "      <th>Pennsylvania</th>\n",
       "      <td>2016</td>\n",
       "      <td>Northeast</td>\n",
       "      <td>30.4</td>\n",
       "    </tr>\n",
       "    <tr>\n",
       "      <th>Maine</th>\n",
       "      <td>2016</td>\n",
       "      <td>Northeast</td>\n",
       "      <td>29.2</td>\n",
       "    </tr>\n",
       "    <tr>\n",
       "      <th>South Carolina</th>\n",
       "      <td>2016</td>\n",
       "      <td>South</td>\n",
       "      <td>29.1</td>\n",
       "    </tr>\n",
       "    <tr>\n",
       "      <th>Delaware</th>\n",
       "      <td>2016</td>\n",
       "      <td>South</td>\n",
       "      <td>28.9</td>\n",
       "    </tr>\n",
       "  </tbody>\n",
       "</table>\n",
       "</div>"
      ],
      "text/plain": [
       "                YEAR     REGION  RATE\n",
       "STATE                                \n",
       "West Virginia   2016      South  31.4\n",
       "Pennsylvania    2016  Northeast  30.4\n",
       "Maine           2016  Northeast  29.2\n",
       "South Carolina  2016      South  29.1\n",
       "Delaware        2016      South  28.9"
      ]
     },
     "execution_count": 118,
     "metadata": {},
     "output_type": "execute_result"
    }
   ],
   "source": [
    "breast_mortality = GetEvent(BreastCancer, event='Mortality')\n",
    "breast_mortality = GetAllRace(breast_mortality).loc[:,['YEAR','STATE','REGION','RATE']].set_index('STATE')\n",
    "breast_mortality2016 = breast_mortality.loc[breast_incidence.YEAR=='2016']\n",
    "breast_mortality2016.sort_values('RATE', ascending=False).head()"
   ]
  },
  {
   "cell_type": "code",
   "execution_count": 119,
   "metadata": {},
   "outputs": [],
   "source": [
    "# We need to insert U.S. states codes into the main data frame\n",
    "col_names = [\"State\",\"Abbreviation\"]\n",
    "abb = pd.read_csv('name-abbr.csv', names=col_names).set_index('State')\n",
    "breast_incidence2016['codes'] = abb"
   ]
  },
  {
   "cell_type": "markdown",
   "metadata": {},
   "source": [
    "-------------------------------------------- Side note --------------------------------------------"
   ]
  },
  {
   "cell_type": "code",
   "execution_count": 120,
   "metadata": {},
   "outputs": [
    {
     "data": {
      "text/plain": [
       "True"
      ]
     },
     "execution_count": 120,
     "metadata": {},
     "output_type": "execute_result"
    }
   ],
   "source": [
    "# There are some NANs in Breast_states2016 data frame\n",
    "breast_incidence2016.isnull().values.any()"
   ]
  },
  {
   "cell_type": "code",
   "execution_count": 121,
   "metadata": {},
   "outputs": [
    {
     "name": "stdout",
     "output_type": "stream",
     "text": [
      "                     codes\n",
      "STATE                     \n",
      "District of Columbia   NaN\n"
     ]
    }
   ],
   "source": [
    "# These NANs were located in the 'codes' column \n",
    "null_columns=breast_incidence2016.columns[breast_incidence2016.isnull().any()]\n",
    "\n",
    "# The code of District of Columbia was missing!\n",
    "print(breast_incidence2016[breast_incidence2016[\"codes\"].isnull()][null_columns])"
   ]
  },
  {
   "cell_type": "code",
   "execution_count": 123,
   "metadata": {},
   "outputs": [
    {
     "data": {
      "text/html": [
       "<div>\n",
       "<style scoped>\n",
       "    .dataframe tbody tr th:only-of-type {\n",
       "        vertical-align: middle;\n",
       "    }\n",
       "\n",
       "    .dataframe tbody tr th {\n",
       "        vertical-align: top;\n",
       "    }\n",
       "\n",
       "    .dataframe thead th {\n",
       "        text-align: right;\n",
       "    }\n",
       "</style>\n",
       "<table border=\"1\" class=\"dataframe\">\n",
       "  <thead>\n",
       "    <tr style=\"text-align: right;\">\n",
       "      <th></th>\n",
       "      <th>Abbreviation</th>\n",
       "    </tr>\n",
       "    <tr>\n",
       "      <th>State</th>\n",
       "      <th></th>\n",
       "    </tr>\n",
       "  </thead>\n",
       "  <tbody>\n",
       "    <tr>\n",
       "      <th>District Of Columbia</th>\n",
       "      <td>DC</td>\n",
       "    </tr>\n",
       "  </tbody>\n",
       "</table>\n",
       "</div>"
      ],
      "text/plain": [
       "                     Abbreviation\n",
       "State                            \n",
       "District Of Columbia           DC"
      ]
     },
     "execution_count": 123,
     "metadata": {},
     "output_type": "execute_result"
    }
   ],
   "source": [
    "# It seems the name is slightly different = 'Of' is capitalized\n",
    "abb.loc[abb.Abbreviation=='DC']"
   ]
  },
  {
   "cell_type": "code",
   "execution_count": 124,
   "metadata": {},
   "outputs": [],
   "source": [
    "# rename DC and drop 'codes' column with the NAN value\n",
    "abb = abb.rename(index={'District Of Columbia':'District of Columbia'})\n",
    "breast_incidence2016=breast_incidence2016.drop('codes',axis=1)"
   ]
  },
  {
   "cell_type": "markdown",
   "metadata": {},
   "source": [
    "----------------------------------------- End of Side note -----------------------------------------"
   ]
  },
  {
   "cell_type": "code",
   "execution_count": 125,
   "metadata": {},
   "outputs": [],
   "source": [
    "#Breast_states2016 = IBreastCombined.ix[IBreastCombined.YEAR=='2016']\n",
    "breast_incidence2016['codes'] = abb\n",
    "breast_incidence_codes = breast_incidence2016.reset_index().drop('YEAR',axis=1)\n",
    "\n",
    "breast_mortality2016['codes'] = abb\n",
    "breast_mortality_codes = breast_mortality2016.reset_index().drop('YEAR',axis=1)"
   ]
  },
  {
   "cell_type": "code",
   "execution_count": 126,
   "metadata": {},
   "outputs": [],
   "source": [
    "# Create a function to plot different maps\n",
    "\n",
    "def mapper(df, title):\n",
    "      \n",
    "    data = [dict(type='choropleth', \n",
    "             colorscale = scale, \n",
    "             locations=df['codes'],\n",
    "             z=df['RATE'],\n",
    "             locationmode='USA-states',\n",
    "             text=df['STATE'],\n",
    "             hoverinfo='location+z',\n",
    "             marker=dict(line=dict(color='rgb(255,255,255)', width=1)),\n",
    "             colorbar=dict(title='Rate'))]\n",
    " \n",
    "    mylayout = dict(title=title,\n",
    "                   geo=dict(scope='usa', projection=dict(type='albers usa'),\n",
    "                           showlakes=True,\n",
    "                           lakecolor='rgb(95,145,237)'))\n",
    "    fig = dict(data=data, layout=mylayout)\n",
    "    return py.iplot(fig)"
   ]
  },
  {
   "cell_type": "code",
   "execution_count": 127,
   "metadata": {
    "scrolled": false
   },
   "outputs": [
    {
     "data": {
      "text/html": [
       "\n",
       "        <iframe\n",
       "            width=\"100%\"\n",
       "            height=\"525px\"\n",
       "            src=\"https://plotly.com/~svaldes.salas/182.embed\"\n",
       "            frameborder=\"0\"\n",
       "            allowfullscreen\n",
       "        ></iframe>\n",
       "        "
      ],
      "text/plain": [
       "<IPython.lib.display.IFrame at 0x12e19a910>"
      ]
     },
     "execution_count": 127,
     "metadata": {},
     "output_type": "execute_result"
    }
   ],
   "source": [
    "scale = [[0.0, 'rgb(245, 241, 130)'], [0.2, 'rgb(237, 202, 95)'], \n",
    "        [0.4, 'rgb(237, 162, 92)'], [0.6, 'rgb(237, 100, 100)'],\n",
    "        [0.8, 'rgb(245, 12, 12)'], [1.0, 'rgb(148, 6, 6)']]\n",
    "\n",
    "mapper(breast_incidence_codes, title='Incidence rates of Female Breast Rates in the United States (2016)')"
   ]
  },
  {
   "cell_type": "code",
   "execution_count": 128,
   "metadata": {},
   "outputs": [
    {
     "data": {
      "text/html": [
       "\n",
       "        <iframe\n",
       "            width=\"100%\"\n",
       "            height=\"525px\"\n",
       "            src=\"https://plotly.com/~svaldes.salas/184.embed\"\n",
       "            frameborder=\"0\"\n",
       "            allowfullscreen\n",
       "        ></iframe>\n",
       "        "
      ],
      "text/plain": [
       "<IPython.lib.display.IFrame at 0x131733750>"
      ]
     },
     "execution_count": 128,
     "metadata": {},
     "output_type": "execute_result"
    }
   ],
   "source": [
    "scale = [[0.0, 'rgb(154, 156, 181)'], [0.2, 'rgb(157, 161, 209)'], \n",
    "        [0.4, 'rgb(115, 123, 209)'], [0.6, 'rgb(98, 109, 227)'],\n",
    "        [0.8, 'rgb(35, 51, 222)'], [1.0, 'rgb(9, 20, 143)']]\n",
    "\n",
    "mapper(breast_mortality_codes, title='Mortality rates of Female Breast Rates in the United States (2016)')"
   ]
  },
  {
   "cell_type": "markdown",
   "metadata": {},
   "source": [
    "## Conclusions"
   ]
  },
  {
   "cell_type": "markdown",
   "metadata": {},
   "source": [
    "**Overall cancer trends:**\n",
    "\n",
    "- Data suggests that the South and Northeast regions seem to have higher incidence and mortality.\n",
    "\n",
    "- The top 3 most common cancer sites in 2016 were: Lung and Bronchus, Prostate, and Female Breast Cancer. This has not changed since 2006.\n",
    "\n",
    "- By analyzing total incidence, Female Breast cancer shows an upward trend from 2006 to 2016, as opposed to Lung and Bronchus, and Prostate. In a 10-year period, Female Breast has become the cancer site with the highest incidence.\n",
    "\n",
    "- In 2016, mortality by Female Breast cancer accounted for more than 13% of total mortality by cancer. More important, mortality by Female Breast cancer shows an upward trend between 2006 to 2016. \n",
    "\n",
    "**Female Breast cancer:**\n",
    "\n",
    "- Data suggests that mortality caused by Female Breast cancer might have a bigger impact in the ‘black race’ group (female population).\n",
    "\n",
    "- Similarly, the ‘black race’ group has bigger mortality rates across different groups of age, in comparison to other race groups. By contrast, the ‘Asian/pacific islander’ group has the smallest mortality rates.\n",
    "\n",
    "- By analyzing percentage rates of incidence rates, only 2 states registered a drop between 2006 and 2016. The District of Columbia has registered a significant drop of incidence rate of Female Breast cancer between 2006 and 2016 (more than 15% drop).\n",
    "\n",
    "- In contrast, percentage rates of mortality rates reflect a different situation. The majority of the states in the U.S. registered a fall in mortality rates between 2006 and 2016.\n",
    "\n",
    "- New Hampshire has the largest incidence rate of Female Breast cancer in 2016."
   ]
  }
 ],
 "metadata": {
  "kernelspec": {
   "display_name": "Python 3",
   "language": "python",
   "name": "python3"
  },
  "language_info": {
   "codemirror_mode": {
    "name": "ipython",
    "version": 3
   },
   "file_extension": ".py",
   "mimetype": "text/x-python",
   "name": "python",
   "nbconvert_exporter": "python",
   "pygments_lexer": "ipython3",
   "version": "3.7.6"
  },
  "toc": {
   "base_numbering": 1,
   "nav_menu": {
    "height": "332px",
    "width": "248px"
   },
   "number_sections": true,
   "sideBar": true,
   "skip_h1_title": true,
   "title_cell": "Outline",
   "title_sidebar": "Contents",
   "toc_cell": true,
   "toc_position": {
    "height": "calc(100% - 180px)",
    "left": "10px",
    "top": "150px",
    "width": "165px"
   },
   "toc_section_display": true,
   "toc_window_display": true
  }
 },
 "nbformat": 4,
 "nbformat_minor": 2
}
